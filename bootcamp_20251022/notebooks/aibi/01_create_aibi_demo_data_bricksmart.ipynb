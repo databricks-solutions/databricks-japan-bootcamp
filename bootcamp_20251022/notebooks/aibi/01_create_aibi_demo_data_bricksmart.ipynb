{
 "cells": [
  {
   "cell_type": "code",
   "execution_count": 0,
   "metadata": {
    "application/vnd.databricks.v1+cell": {
     "cellMetadata": {
      "byteLimit": 2048000,
      "rowLimit": 10000
     },
     "inputWidgets": {},
     "nuid": "fde2bdde-4d2a-4bc0-a463-e83b0ee604e4",
     "showTitle": true,
     "tableResultSettingsMap": {},
     "title": "パラメーターの設定"
    }
   },
   "outputs": [],
   "source": [
    "# Widgetsの作成\n",
    "dbutils.widgets.text(\"catalog\", \"aibi_demo_catalog\", \"カタログ\")\n",
    "dbutils.widgets.dropdown(\"recreate_catalog\", \"False\", [\"True\", \"False\"], \"カタログを再作成\")\n",
    "dbutils.widgets.text(\"schema\", \"bricksmart\", \"スキーマ\")\n",
    "dbutils.widgets.dropdown(\"recreate_schema\", \"False\", [\"True\", \"False\"], \"スキーマを再作成\")\n",
    "dbutils.widgets.text(\"volume\", \"csv\", \"ボリューム\")\n",
    "dbutils.widgets.dropdown(\"recreate_volume\", \"False\", [\"True\", \"False\"], \"ボリュームを再作成\")\n",
    "\n",
    "# Widgetからの値の取得\n",
    "catalog = dbutils.widgets.get(\"catalog\")\n",
    "recreate_catalog = dbutils.widgets.get(\"recreate_catalog\") == \"True\"\n",
    "schema = dbutils.widgets.get(\"schema\")\n",
    "recreate_schema = dbutils.widgets.get(\"recreate_schema\") == \"True\"\n",
    "volume = dbutils.widgets.get(\"volume\")\n",
    "recreate_volume = dbutils.widgets.get(\"recreate_volume\") == \"True\""
   ]
  },
  {
   "cell_type": "code",
   "execution_count": 0,
   "metadata": {
    "application/vnd.databricks.v1+cell": {
     "cellMetadata": {
      "byteLimit": 2048000,
      "rowLimit": 10000
     },
     "inputWidgets": {},
     "nuid": "f5318f16-3881-4e16-a905-a85637300180",
     "showTitle": true,
     "tableResultSettingsMap": {},
     "title": "パラメーターのチェック"
    }
   },
   "outputs": [
    {
     "output_type": "stream",
     "name": "stdout",
     "output_type": "stream",
     "text": [
      "catalog: aibi_demo_catalog\nrecreate_catalog: False\nschema: bricksmart\nrecreate_schema: False\nvolume: csv\nrecreate_volume: False\n"
     ]
    }
   ],
   "source": [
    "print(f\"catalog: {catalog}\")\n",
    "print(f\"recreate_catalog: {recreate_catalog}\")\n",
    "print(f\"schema: {schema}\")\n",
    "print(f\"recreate_schema: {recreate_schema}\")\n",
    "print(f\"volume: {volume}\")\n",
    "print(f\"recreate_volume: {recreate_volume}\")\n",
    "\n",
    "if not catalog:\n",
    "    raise ValueError(\"存在するカタログ名を入力してください\")\n",
    "if not schema:\n",
    "    raise ValueError(\"スキーマ名を入力してください\")\n",
    "if not volume:\n",
    "    raise ValueError(\"ボリューム名を入力してください\")"
   ]
  },
  {
   "cell_type": "code",
   "execution_count": 0,
   "metadata": {
    "application/vnd.databricks.v1+cell": {
     "cellMetadata": {
      "byteLimit": 2048000,
      "rowLimit": 10000
     },
     "inputWidgets": {},
     "nuid": "6d4e940a-7c90-497b-a49d-5dc080bb3051",
     "showTitle": true,
     "tableResultSettingsMap": {},
     "title": "カタログ指定・スキーマの設定"
    }
   },
   "outputs": [
    {
     "output_type": "stream",
     "name": "stdout",
     "output_type": "stream",
     "text": [
      "カタログ aibi_demo_catalog が存在しない場合は作成します (存在する場合は何もしません)\nスキーマ bricksmart が存在しない場合は作成します (存在する場合は何もしません)\nボリューム csv が存在しない場合は作成します (存在する場合は何もしません)\n"
     ]
    }
   ],
   "source": [
    "# カタログを再作成\n",
    "\n",
    "if recreate_catalog:\n",
    "    print(f\"カタログ {catalog} を一度削除してから作成します\")\n",
    "    spark.sql(f\"DROP catalog IF EXISTS {catalog} CASCADE;\")\n",
    "    spark.sql(f\"CREATE CATALOG IF NOT EXISTS {catalog}\")\n",
    "else:\n",
    "    print(f\"カタログ {catalog} が存在しない場合は作成します (存在する場合は何もしません)\")\n",
    "    spark.sql(f\"CREATE CATALOG IF NOT EXISTS {catalog}\")\n",
    "\n",
    "\n",
    "    spark.sql(\"CREATE CATALOG IF NOT EXISTS your_catalog_name\")\n",
    "\n",
    "# カタログを指定\n",
    "spark.sql(f\"USE CATALOG {catalog}\")\n",
    "\n",
    "\n",
    "# スキーマを再作成するかどうか\n",
    "if recreate_schema:\n",
    "    print(f\"スキーマ {schema} を一度削除してから作成します\")\n",
    "    spark.sql(f\"DROP SCHEMA IF EXISTS {schema} CASCADE;\")\n",
    "    spark.sql(f\"CREATE SCHEMA IF NOT EXISTS {schema}\")\n",
    "else:\n",
    "    print(f\"スキーマ {schema} が存在しない場合は作成します (存在する場合は何もしません)\")\n",
    "    spark.sql(f\"CREATE SCHEMA IF NOT EXISTS {schema}\")\n",
    "\n",
    "# スキーマを使用\n",
    "spark.sql(f\"USE SCHEMA {schema}\")\n",
    "\n",
    "# ボリュームを再作成するかどうか\n",
    "if recreate_volume:\n",
    "    print(f\"ボリューム {volume} を一度削除してから作成します\")\n",
    "    spark.sql(f\"DROP VOLUME IF EXISTS {catalog}.{schema}.{volume};\")\n",
    "    spark.sql(f\"CREATE VOLUME IF NOT EXISTS {catalog}.{schema}.{volume}\")\n",
    "\n",
    "else:\n",
    "    print(f\"ボリューム {volume} が存在しない場合は作成します (存在する場合は何もしません)\")\n",
    "    spark.sql(f\"CREATE VOLUME IF NOT EXISTS {catalog}.{schema}.{volume}\")\n"
   ]
  },
  {
   "cell_type": "code",
   "execution_count": 0,
   "metadata": {
    "application/vnd.databricks.v1+cell": {
     "cellMetadata": {},
     "inputWidgets": {},
     "nuid": "6888d206-c70a-4288-9186-4e21242c4b6d",
     "showTitle": true,
     "tableResultSettingsMap": {},
     "title": "テーブルALL削除"
    }
   },
   "outputs": [],
   "source": [
    "# # スキーマ内のすべてのテーブル名を取得する\n",
    "# tables_df = spark.sql(f\"SHOW TABLES IN {catalog}.{schema}\")\n",
    "\n",
    "# # テーブル名が \"gold_\" で始まるテーブルのみ削除する\n",
    "# for table in tables_df.collect():\n",
    "#     table_name = table[\"tableName\"]\n",
    "#     spark.sql(f\"DROP TABLE IF EXISTS {catalog}.{schema}.{table_name}\")\n",
    "#     print(f\"削除されたテーブル: {table_name}\")\n",
    "\n",
    "# print(f\"{catalog}.{schema}配下の全てのテーブルが削除されました。\")\n"
   ]
  },
  {
   "cell_type": "code",
   "execution_count": 0,
   "metadata": {
    "application/vnd.databricks.v1+cell": {
     "cellMetadata": {
      "byteLimit": 2048000,
      "rowLimit": 10000
     },
     "inputWidgets": {},
     "nuid": "0b418cc6-666c-447d-ba87-8c9b8f0b8a63",
     "showTitle": true,
     "tableResultSettingsMap": {},
     "title": "ユーザーデータ・商品データの生成"
    }
   },
   "outputs": [
    {
     "output_type": "display_data",
     "data": {
      "text/html": [
       "<style scoped>\n",
       "  .table-result-container {\n",
       "    max-height: 300px;\n",
       "    overflow: auto;\n",
       "  }\n",
       "  table, th, td {\n",
       "    border: 1px solid black;\n",
       "    border-collapse: collapse;\n",
       "  }\n",
       "  th, td {\n",
       "    padding: 5px;\n",
       "  }\n",
       "  th {\n",
       "    text-align: left;\n",
       "  }\n",
       "</style><div class='table-result-container'><table class='table-result'><thead style='background-color: white'><tr><th>user_id</th><th>name</th><th>age</th><th>gender</th><th>email</th><th>registration_date</th><th>region</th></tr></thead><tbody><tr><td>1</td><td>wqxjm.hstkr</td><td>25.0</td><td>女性</td><td>wqxjm.hstkr@example.com</td><td>2020-01-01</td><td>大阪</td></tr><tr><td>2</td><td>gjyrd.agwsx</td><td>48.0</td><td>男性</td><td>gjyrd.agwsx@example.com</td><td>2020-01-01</td><td>福岡</td></tr><tr><td>3</td><td>ywasz.hoebq</td><td>45.0</td><td>女性</td><td>ywasz.hoebq@example.com</td><td>2020-01-01</td><td>東京</td></tr><tr><td>4</td><td>bnpvb.lytie</td><td>39.0</td><td>男性</td><td>bnpvb.lytie@example.com</td><td>2020-01-01</td><td>北海道</td></tr><tr><td>5</td><td>nlqxk.lxkeq</td><td>54.0</td><td>男性</td><td>nlqxk.lxkeq@example.com</td><td>2020-01-01</td><td>北海道</td></tr></tbody></table></div>"
      ]
     },
     "metadata": {
      "application/vnd.databricks.v1+output": {
       "addedWidgets": {},
       "aggData": [],
       "aggError": "",
       "aggOverflow": false,
       "aggSchema": [],
       "aggSeriesLimitReached": false,
       "aggType": "",
       "arguments": {},
       "columnCustomDisplayInfos": {},
       "data": [
        [
         1,
         "wqxjm.hstkr",
         25.0,
         "女性",
         "wqxjm.hstkr@example.com",
         "2020-01-01",
         "大阪"
        ],
        [
         2,
         "gjyrd.agwsx",
         48.0,
         "男性",
         "gjyrd.agwsx@example.com",
         "2020-01-01",
         "福岡"
        ],
        [
         3,
         "ywasz.hoebq",
         45.0,
         "女性",
         "ywasz.hoebq@example.com",
         "2020-01-01",
         "東京"
        ],
        [
         4,
         "bnpvb.lytie",
         39.0,
         "男性",
         "bnpvb.lytie@example.com",
         "2020-01-01",
         "北海道"
        ],
        [
         5,
         "nlqxk.lxkeq",
         54.0,
         "男性",
         "nlqxk.lxkeq@example.com",
         "2020-01-01",
         "北海道"
        ]
       ],
       "datasetInfos": [],
       "dbfsResultPath": null,
       "isJsonSchema": true,
       "metadata": {},
       "overflow": false,
       "plotOptions": {
        "customPlotOptions": {},
        "displayType": "table",
        "pivotAggregation": null,
        "pivotColumns": null,
        "xColumns": null,
        "yColumns": null
       },
       "removedWidgets": [],
       "schema": [
        {
         "metadata": "{}",
         "name": "user_id",
         "type": "\"long\""
        },
        {
         "metadata": "{}",
         "name": "name",
         "type": "\"string\""
        },
        {
         "metadata": "{}",
         "name": "age",
         "type": "\"double\""
        },
        {
         "metadata": "{}",
         "name": "gender",
         "type": "\"string\""
        },
        {
         "metadata": "{}",
         "name": "email",
         "type": "\"string\""
        },
        {
         "metadata": "{}",
         "name": "registration_date",
         "type": "\"date\""
        },
        {
         "metadata": "{}",
         "name": "region",
         "type": "\"string\""
        }
       ],
       "type": "table"
      }
     },
     "output_type": "display_data"
    },
    {
     "output_type": "display_data",
     "data": {
      "text/html": [
       "<style scoped>\n",
       "  .table-result-container {\n",
       "    max-height: 300px;\n",
       "    overflow: auto;\n",
       "  }\n",
       "  table, th, td {\n",
       "    border: 1px solid black;\n",
       "    border-collapse: collapse;\n",
       "  }\n",
       "  th, td {\n",
       "    padding: 5px;\n",
       "  }\n",
       "  th {\n",
       "    text-align: left;\n",
       "  }\n",
       "</style><div class='table-result-container'><table class='table-result'><thead style='background-color: white'><tr><th>product_id</th><th>product_name</th><th>category</th><th>subcategory</th><th>price</th><th>stock_quantity</th><th>cost_price</th></tr></thead><tbody><tr><td>1</td><td>awy_vit_ipy</td><td>日用品</td><td>医薬品</td><td>282.12</td><td>83.0</td><td>197.48</td></tr><tr><td>2</td><td>jme_rkm_qnv</td><td>食料品</td><td>果物</td><td>466.38</td><td>66.0</td><td>326.47</td></tr><tr><td>3</td><td>sxl_qdf_wfk</td><td>日用品</td><td>スポーツ・アウトドア用品</td><td>985.18</td><td>59.0</td><td>689.63</td></tr><tr><td>4</td><td>zgg_hvt_jki</td><td>食料品</td><td>野菜</td><td>635.55</td><td>96.0</td><td>444.88</td></tr><tr><td>5</td><td>gdz_vjo_uug</td><td>食料品</td><td>健康食品</td><td>878.89</td><td>51.0</td><td>615.22</td></tr></tbody></table></div>"
      ]
     },
     "metadata": {
      "application/vnd.databricks.v1+output": {
       "addedWidgets": {},
       "aggData": [],
       "aggError": "",
       "aggOverflow": false,
       "aggSchema": [],
       "aggSeriesLimitReached": false,
       "aggType": "",
       "arguments": {},
       "columnCustomDisplayInfos": {},
       "data": [
        [
         1,
         "awy_vit_ipy",
         "日用品",
         "医薬品",
         282.12,
         83.0,
         197.48
        ],
        [
         2,
         "jme_rkm_qnv",
         "食料品",
         "果物",
         466.38,
         66.0,
         326.47
        ],
        [
         3,
         "sxl_qdf_wfk",
         "日用品",
         "スポーツ・アウトドア用品",
         985.18,
         59.0,
         689.63
        ],
        [
         4,
         "zgg_hvt_jki",
         "食料品",
         "野菜",
         635.55,
         96.0,
         444.88
        ],
        [
         5,
         "gdz_vjo_uug",
         "食料品",
         "健康食品",
         878.89,
         51.0,
         615.22
        ]
       ],
       "datasetInfos": [],
       "dbfsResultPath": null,
       "isJsonSchema": true,
       "metadata": {},
       "overflow": false,
       "plotOptions": {
        "customPlotOptions": {},
        "displayType": "table",
        "pivotAggregation": null,
        "pivotColumns": null,
        "xColumns": null,
        "yColumns": null
       },
       "removedWidgets": [],
       "schema": [
        {
         "metadata": "{}",
         "name": "product_id",
         "type": "\"long\""
        },
        {
         "metadata": "{}",
         "name": "product_name",
         "type": "\"string\""
        },
        {
         "metadata": "{}",
         "name": "category",
         "type": "\"string\""
        },
        {
         "metadata": "{}",
         "name": "subcategory",
         "type": "\"string\""
        },
        {
         "metadata": "{}",
         "name": "price",
         "type": "\"double\""
        },
        {
         "metadata": "{}",
         "name": "stock_quantity",
         "type": "\"double\""
        },
        {
         "metadata": "{}",
         "name": "cost_price",
         "type": "\"double\""
        }
       ],
       "type": "table"
      }
     },
     "output_type": "display_data"
    }
   ],
   "source": [
    "from pyspark.sql.functions import udf, expr, when, col, lit, round, rand, greatest, least, date_format, dayofweek, concat\n",
    "from pyspark.sql.types import StringType\n",
    "\n",
    "import datetime\n",
    "import random\n",
    "import string\n",
    "\n",
    "def generate_username():\n",
    "    # 5文字のランダムな小文字アルファベットを生成\n",
    "    part1 = ''.join(random.choices(string.ascii_lowercase, k=5))\n",
    "    part2 = ''.join(random.choices(string.ascii_lowercase, k=5))\n",
    "    \n",
    "    # 形式 xxxxx.xxxxx で結合\n",
    "    username = f\"{part1}.{part2}\"\n",
    "    return username\n",
    "\n",
    "def generate_productname():\n",
    "    # 5文字のランダムな小文字アルファベットを生成\n",
    "    part1 = ''.join(random.choices(string.ascii_lowercase, k=3))\n",
    "    part2 = ''.join(random.choices(string.ascii_lowercase, k=3))\n",
    "    part3 = ''.join(random.choices(string.ascii_lowercase, k=3))\n",
    "    \n",
    "    # 形式 xxx_xxx_xxx で結合\n",
    "    productname = f\"{part1}_{part2}_{part3}\"\n",
    "    return productname\n",
    "\n",
    "generate_username_udf = udf(generate_username, StringType())\n",
    "generate_productname_udf = udf(generate_productname, StringType())\n",
    "\n",
    "# ユーザーデータの生成\n",
    "def generate_users(num_users=10000):\n",
    "    \"\"\"\n",
    "    ユーザーデータを生成し、指定された数のデータを返します。\n",
    "    \n",
    "    パラメータ:\n",
    "    num_users (int): 生成するユーザーの数 (デフォルトは10000)\n",
    "    \n",
    "    戻り値:\n",
    "    DataFrame: 生成されたユーザー情報を含むSpark DataFrame\n",
    "    \n",
    "    各ユーザーには以下のカラムが含まれます:\n",
    "    - user_id: ユーザーID (1からnum_usersまでの範囲)\n",
    "    - name: ランダムなユーザー名\n",
    "    - age: ランダムな年齢 (一様分布: 18歳以上78歳未満)\n",
    "    - gender: 男性48%、女性47%、その他2%、未回答3%\n",
    "    - email: ユーザー名を基にしたメールアドレス\n",
    "    - registration_date: 固定の日付 (2020年1月1日)\n",
    "    - region: 東京40%、大阪25%、北海道20%、福岡10%、沖縄5%\n",
    "    \"\"\"\n",
    "    return (\n",
    "        spark.range(1, num_users + 1)\n",
    "        .withColumnRenamed(\"id\", \"user_id\")\n",
    "        .withColumn(\"name\", generate_username_udf())\n",
    "        .withColumn(\"age\", round(rand() * 60 + 18))\n",
    "        .withColumn(\"rand_gender\", rand())\n",
    "        .withColumn(\n",
    "            \"gender\",\n",
    "            when(col(\"rand_gender\") < 0.02, lit(\"その他\")) # 2%\n",
    "            .when(col(\"rand_gender\") < 0.05, lit(\"未回答\")) # 0.02 + 0.03 (3%)\n",
    "            .when(col(\"rand_gender\") < 0.53, lit(\"男性\")) # 0.05 + 0.48 (48%)\n",
    "            .otherwise(lit(\"女性\")) # 残り47%\n",
    "        )\n",
    "        .withColumn(\"email\", concat(col(\"name\"), lit(\"@example.com\")))\n",
    "        .withColumn(\"registration_date\", lit(datetime.date(2020, 1, 1)))\n",
    "        .withColumn(\"rand_region\", rand())\n",
    "        .withColumn(\n",
    "            \"region\",\n",
    "            when(col(\"rand_region\") < 0.40, lit(\"東京\")) # 40%\n",
    "            .when(col(\"rand_region\") < 0.65, lit(\"大阪\")) # 40% + 25% = 65%\n",
    "            .when(col(\"rand_region\") < 0.85, lit(\"北海道\")) # 65% + 20% = 85%\n",
    "            .when(col(\"rand_region\") < 0.95, lit(\"福岡\")) # 85% + 10% = 95%\n",
    "            .otherwise(lit(\"沖縄\")) # 残り5%\n",
    "        )\n",
    "        .drop(\"rand_gender\", \"rand_region\")\n",
    "    )\n",
    "\n",
    "# 商品データの生成\n",
    "def generate_products(num_products=100):\n",
    "    \"\"\"\n",
    "    商品データを生成し、指定された数のデータを返します。\n",
    "    \n",
    "    パラメータ:\n",
    "    num_products (int): 生成する商品の数 (デフォルトは100)\n",
    "    \n",
    "    戻り値:\n",
    "    DataFrame: 生成された商品情報を含むSpark DataFrame\n",
    "    \n",
    "    各商品には以下のカラムが含まれます:\n",
    "    - product_id: 商品ID (1からnum_productsまでの範囲)\n",
    "    - product_name: ランダムな商品名\n",
    "    - category: カテゴリ (食料品50%、日用品50%)\n",
    "    - subcategory: サブカテゴリ\n",
    "      食料品の場合: 野菜25%、果物25%、健康食品25%、肉類25%\n",
    "      日用品の場合: キッチン用品25%、スポーツ・アウトドア用品25%、医薬品25%、冷暖房器具25%\n",
    "    - price: 商品価格 (100円以上1100円未満の範囲)\n",
    "    - stock_quantity: 在庫数 (1以上101未満の範囲)\n",
    "    - cost_price: 仕入れ価格 (販売価格の70%)\n",
    "    \"\"\"\n",
    "    return (\n",
    "        spark.range(1, num_products + 1)\n",
    "        .withColumnRenamed(\"id\", \"product_id\")\n",
    "        .withColumn(\"product_name\", generate_productname_udf())\n",
    "        .withColumn(\"rand_category\", rand())\n",
    "        .withColumn(\n",
    "            \"category\",\n",
    "            when(col(\"rand_category\") < 0.5, lit(\"食料品\")).otherwise(lit(\"日用品\"))\n",
    "        )\n",
    "        .withColumn(\"rand_subcategory\", rand())\n",
    "        .withColumn(\n",
    "            \"subcategory\",\n",
    "            when(\n",
    "                col(\"category\") == \"食料品\",\n",
    "                when(col(\"rand_subcategory\") < 0.25, lit(\"野菜\"))\n",
    "                .when(col(\"rand_subcategory\") < 0.50, lit(\"果物\"))\n",
    "                .when(col(\"rand_subcategory\") < 0.75, lit(\"健康食品\"))\n",
    "                .otherwise(lit(\"肉類\"))\n",
    "            ).otherwise(\n",
    "                when(col(\"rand_subcategory\") < 0.25, lit(\"キッチン用品\"))\n",
    "                .when(col(\"rand_subcategory\") < 0.50, lit(\"スポーツ・アウトドア用品\"))\n",
    "                .when(col(\"rand_subcategory\") < 0.75, lit(\"医薬品\"))\n",
    "                .otherwise(lit(\"冷暖房器具\"))\n",
    "            )\n",
    "        )\n",
    "        .withColumn(\"price\", round(rand() * 1000 + 100, 2))\n",
    "        .withColumn(\"stock_quantity\", round(rand() * 100 + 1))\n",
    "        .withColumn(\"cost_price\", round(col(\"price\") * 0.7, 2))\n",
    "        .drop(\"rand_category\", \"rand_subcategory\")\n",
    "    )\n",
    "\n",
    "users = generate_users()\n",
    "products = generate_products()\n",
    "\n",
    "display(users.limit(5))\n",
    "display(products.limit(5))"
   ]
  },
  {
   "cell_type": "code",
   "execution_count": 0,
   "metadata": {
    "application/vnd.databricks.v1+cell": {
     "cellMetadata": {
      "byteLimit": 2048000,
      "rowLimit": 10000
     },
     "inputWidgets": {},
     "nuid": "710f111d-def5-4ea7-a2bc-6841749d9100",
     "showTitle": true,
     "tableResultSettingsMap": {},
     "title": "テーブルの書き込み"
    }
   },
   "outputs": [],
   "source": [
    "users.write.mode(\"overwrite\").option(\"overwriteSchema\", \"true\").saveAsTable(\"users\")\n",
    "products.write.mode(\"overwrite\").option(\"overwriteSchema\", \"true\").saveAsTable(\"products\")"
   ]
  },
  {
   "cell_type": "code",
   "execution_count": 0,
   "metadata": {
    "application/vnd.databricks.v1+cell": {
     "cellMetadata": {
      "byteLimit": 2048000,
      "rowLimit": 10000
     },
     "inputWidgets": {},
     "nuid": "95645023-7782-4144-8a72-2832bbce2d9f",
     "showTitle": true,
     "tableResultSettingsMap": {},
     "title": "販売取引データの生成・フィードバックデータの準備"
    }
   },
   "outputs": [
    {
     "output_type": "display_data",
     "data": {
      "text/html": [
       "<style scoped>\n",
       "  .table-result-container {\n",
       "    max-height: 300px;\n",
       "    overflow: auto;\n",
       "  }\n",
       "  table, th, td {\n",
       "    border: 1px solid black;\n",
       "    border-collapse: collapse;\n",
       "  }\n",
       "  th, td {\n",
       "    padding: 5px;\n",
       "  }\n",
       "  th {\n",
       "    text-align: left;\n",
       "  }\n",
       "</style><div class='table-result-container'><table class='table-result'><thead style='background-color: white'><tr><th>transaction_id</th><th>user_id</th><th>product_id</th><th>quantity</th><th>transaction_price</th><th>transaction_date</th><th>store_id</th></tr></thead><tbody><tr><td>1</td><td>286</td><td>34</td><td>3.0</td><td>1231.5</td><td>2023-10-08</td><td>7.0</td></tr><tr><td>2</td><td>5427</td><td>48</td><td>5.0</td><td>3958.15</td><td>2023-12-14</td><td>2.0</td></tr><tr><td>3</td><td>8712</td><td>94</td><td>4.0</td><td>2814.08</td><td>2023-10-17</td><td>9.0</td></tr><tr><td>4</td><td>4780</td><td>12</td><td>5.0</td><td>1916.25</td><td>2023-11-19</td><td>10.0</td></tr><tr><td>5</td><td>2823</td><td>16</td><td>6.0</td><td>1838.28</td><td>2023-01-23</td><td>5.0</td></tr></tbody></table></div>"
      ]
     },
     "metadata": {
      "application/vnd.databricks.v1+output": {
       "addedWidgets": {},
       "aggData": [],
       "aggError": "",
       "aggOverflow": false,
       "aggSchema": [],
       "aggSeriesLimitReached": false,
       "aggType": "",
       "arguments": {},
       "columnCustomDisplayInfos": {},
       "data": [
        [
         1,
         286,
         34,
         3.0,
         1231.5,
         "2023-10-08",
         7.0
        ],
        [
         2,
         5427,
         48,
         5.0,
         3958.15,
         "2023-12-14",
         2.0
        ],
        [
         3,
         8712,
         94,
         4.0,
         2814.08,
         "2023-10-17",
         9.0
        ],
        [
         4,
         4780,
         12,
         5.0,
         1916.25,
         "2023-11-19",
         10.0
        ],
        [
         5,
         2823,
         16,
         6.0,
         1838.28,
         "2023-01-23",
         5.0
        ]
       ],
       "datasetInfos": [],
       "dbfsResultPath": null,
       "isJsonSchema": true,
       "metadata": {},
       "overflow": false,
       "plotOptions": {
        "customPlotOptions": {},
        "displayType": "table",
        "pivotAggregation": null,
        "pivotColumns": null,
        "xColumns": null,
        "yColumns": null
       },
       "removedWidgets": [],
       "schema": [
        {
         "metadata": "{}",
         "name": "transaction_id",
         "type": "\"long\""
        },
        {
         "metadata": "{}",
         "name": "user_id",
         "type": "\"long\""
        },
        {
         "metadata": "{}",
         "name": "product_id",
         "type": "\"long\""
        },
        {
         "metadata": "{}",
         "name": "quantity",
         "type": "\"double\""
        },
        {
         "metadata": "{}",
         "name": "transaction_price",
         "type": "\"double\""
        },
        {
         "metadata": "{}",
         "name": "transaction_date",
         "type": "\"date\""
        },
        {
         "metadata": "{}",
         "name": "store_id",
         "type": "\"double\""
        }
       ],
       "type": "table"
      }
     },
     "output_type": "display_data"
    },
    {
     "output_type": "display_data",
     "data": {
      "text/html": [
       "<style scoped>\n",
       "  .table-result-container {\n",
       "    max-height: 300px;\n",
       "    overflow: auto;\n",
       "  }\n",
       "  table, th, td {\n",
       "    border: 1px solid black;\n",
       "    border-collapse: collapse;\n",
       "  }\n",
       "  th, td {\n",
       "    padding: 5px;\n",
       "  }\n",
       "  th {\n",
       "    text-align: left;\n",
       "  }\n",
       "</style><div class='table-result-container'><table class='table-result'><thead style='background-color: white'><tr><th>feedback_id</th><th>user_id</th><th>product_id</th><th>rating</th><th>date</th></tr></thead><tbody><tr><td>1</td><td>2034</td><td>13</td><td>5.0</td><td>2023-04-21</td></tr><tr><td>2</td><td>2137</td><td>37</td><td>5.0</td><td>2023-03-18</td></tr><tr><td>3</td><td>483</td><td>6</td><td>4.0</td><td>2023-03-09</td></tr><tr><td>4</td><td>5258</td><td>18</td><td>1.0</td><td>2023-08-26</td></tr><tr><td>5</td><td>7596</td><td>68</td><td>5.0</td><td>2023-09-08</td></tr></tbody></table></div>"
      ]
     },
     "metadata": {
      "application/vnd.databricks.v1+output": {
       "addedWidgets": {},
       "aggData": [],
       "aggError": "",
       "aggOverflow": false,
       "aggSchema": [],
       "aggSeriesLimitReached": false,
       "aggType": "",
       "arguments": {},
       "columnCustomDisplayInfos": {},
       "data": [
        [
         1,
         2034,
         13,
         5.0,
         "2023-04-21"
        ],
        [
         2,
         2137,
         37,
         5.0,
         "2023-03-18"
        ],
        [
         3,
         483,
         6,
         4.0,
         "2023-03-09"
        ],
        [
         4,
         5258,
         18,
         1.0,
         "2023-08-26"
        ],
        [
         5,
         7596,
         68,
         5.0,
         "2023-09-08"
        ]
       ],
       "datasetInfos": [],
       "dbfsResultPath": null,
       "isJsonSchema": true,
       "metadata": {},
       "overflow": false,
       "plotOptions": {
        "customPlotOptions": {},
        "displayType": "table",
        "pivotAggregation": null,
        "pivotColumns": null,
        "xColumns": null,
        "yColumns": null
       },
       "removedWidgets": [],
       "schema": [
        {
         "metadata": "{}",
         "name": "feedback_id",
         "type": "\"long\""
        },
        {
         "metadata": "{}",
         "name": "user_id",
         "type": "\"long\""
        },
        {
         "metadata": "{}",
         "name": "product_id",
         "type": "\"long\""
        },
        {
         "metadata": "{}",
         "name": "rating",
         "type": "\"double\""
        },
        {
         "metadata": "{}",
         "name": "date",
         "type": "\"date\""
        }
       ],
       "type": "table"
      }
     },
     "output_type": "display_data"
    }
   ],
   "source": [
    "# 購買行動に関する傾向スコア（重み）の設定\n",
    "conditions = [\n",
    "    # ---------- 地域ごとの傾向 ----------\n",
    "    # 東京: 食生活において多様性を求める傾向があり、食料品の購入量が増える\n",
    "    ((col(\"region\") == \"東京\") & (col(\"category\") == \"食料品\"), 1),\n",
    "\n",
    "    # 大阪: 実用的な日用品の購入を好む\n",
    "    ((col(\"region\") == \"大阪\") & (col(\"category\") == \"日用品\"), 1),\n",
    "\n",
    "    # 福岡: 健康志向の高い野菜を多く購入\n",
    "    ((col(\"region\") == \"福岡\") & (col(\"subcategory\") == \"野菜\"), 1),\n",
    "\n",
    "    # 北海道: 寒冷地のため冷暖房器具の購入量が増える\n",
    "    ((col(\"region\") == \"北海道\") & (col(\"subcategory\") == \"冷暖房器具\"), 2),\n",
    "\n",
    "    # 沖縄: 地元の果物への関心が高い。さらに温暖な気候のため冷暖房器具の購入量が増える\n",
    "    ((col(\"region\") == \"沖縄\") & (col(\"subcategory\") == \"果物\"), 1),\n",
    "    ((col(\"region\") == \"沖縄\") & (col(\"subcategory\") == \"冷暖房器具\"), 1),\n",
    "\n",
    "    # ---------- 性別ごとの傾向 ----------\n",
    "    # 女性: 食料品や日用品、特にキッチン用品を多く購入\n",
    "    ((col(\"gender\") == \"女性\") & (col(\"category\") == \"食料品\"), 1),\n",
    "    ((col(\"gender\") == \"女性\") & (col(\"category\") == \"日用品\"), 1),\n",
    "    ((col(\"gender\") == \"女性\") & (col(\"subcategory\") == \"キッチン用品\"), 1),\n",
    "\n",
    "    # 男性: スポーツやアウトドア関連の商品に関心が高い。さらに肉類を好む傾向が強い\n",
    "    ((col(\"gender\") == \"男性\") & (col(\"category\") == \"スポーツ・アウトドア用品\"), 2),\n",
    "    ((col(\"gender\") == \"男性\") & (col(\"subcategory\") == \"肉類\"), 1),\n",
    "\n",
    "    # ---------- 年齢層ごとの傾向 ----------\n",
    "    # 若年層 (18〜34歳): 果物、肉類、スポーツ・アウトドア用品に関心が高い\n",
    "    ((col(\"age\") < 35) & (col(\"subcategory\") == \"果物\"), 1),\n",
    "    ((col(\"age\") < 35) & (col(\"subcategory\") == \"肉類\"), 2),\n",
    "    ((col(\"age\") < 35) & (col(\"subcategory\") == \"スポーツ・アウトドア用品\"), 2),\n",
    "\n",
    "    # 中年層 (35〜54歳): 健康志向が高まり野菜の購入量が増える。肉類もそれなりに購入。医薬品の購入量も増える\n",
    "    ((col(\"age\") >= 35) & (col(\"age\") < 55) & (col(\"subcategory\") == \"野菜\"), 1),\n",
    "    ((col(\"age\") >= 35) & (col(\"age\") < 55) & (col(\"subcategory\") == \"肉類\"), 1),\n",
    "    ((col(\"age\") >= 35) & (col(\"age\") < 55) & (col(\"subcategory\") == \"医薬品\"), 1),\n",
    "\n",
    "    # シニア層 (55歳以上): 果物と野菜、医薬品の購入量が増える\n",
    "    ((col(\"age\") >= 55) & (col(\"subcategory\") == \"果物\"), 2),\n",
    "    ((col(\"age\") >= 55) & (col(\"subcategory\") == \"野菜\"), 2),\n",
    "    ((col(\"age\") >= 55) & (col(\"subcategory\") == \"医薬品\"), 2),\n",
    "\n",
    "    # ---------- 組み合わせによる傾向 ----------\n",
    "    # 東京の若年層: 消費行動が旺盛で全体的な購入量が多い\n",
    "    ((col(\"region\") == \"東京\") & (col(\"age\") < 35), 1),\n",
    "\n",
    "    # 大阪の中年層: 家庭を持ち、食料品の購入量が増える\n",
    "    ((col(\"region\") == \"大阪\") & (col(\"age\") >= 35) & (col(\"age\") < 55) & (col(\"category\") == \"食料品\"), 2),\n",
    "\n",
    "    # 北海道の若年層: アウトドア活動に関連する日用品を購入する\n",
    "    ((col(\"region\") == \"北海道\") & (col(\"age\") < 35) & (col(\"category\") == \"日用品\"), 1),\n",
    "\n",
    "    # 沖縄のシニア層は地元の伝統食に高い関心を持つ\n",
    "    ((col(\"region\") == \"沖縄\") & (col(\"age\") >= 55) & (col(\"category\") == \"食料品\"), 2),\n",
    "]\n",
    "\n",
    "# トランザクションデータの生成\n",
    "def generate_transactions(users, products, num_transactions=1000000):\n",
    "    \"\"\"\n",
    "    トランザクションデータを生成し、指定された数のデータを返します。\n",
    "\n",
    "    パラメータ:\n",
    "    users (DataFrame): ユーザーデータを含むSpark DataFrame\n",
    "    products (DataFrame): 商品データを含むSpark DataFrame\n",
    "    num_transactions (int): 生成するトランザクションの数 (デフォルトは1000000)\n",
    "\n",
    "    戻り値:\n",
    "    DataFrame: 生成されたトランザクション情報を含むSpark DataFrame\n",
    "\n",
    "    各トランザクションには以下のカラムが含まれます:\n",
    "    - transaction_id: トランザクションID (1からnum_transactionsまでの範囲)\n",
    "    - user_id: ユーザーID (1から登録ユーザー数までの範囲)\n",
    "    - product_id: 商品ID (1から登録商品数までの範囲)\n",
    "    - quantity: 購入数量 (1以上6以下の整数、傾向スコアによって調整)\n",
    "    - store_id: 店舗ID (1以上11以下の整数)\n",
    "    - transaction_date: 取引日 (2023年1月1日から2024年1月1日までの範囲)\n",
    "        - 8月と12月は10%の確率で特定の日付を選択\n",
    "        - 週末は10%の確率で特定の日付を選択\n",
    "    - transaction_price: 取引金額 (quantity * price)\n",
    "\n",
    "    傾向スコア:\n",
    "    ユーザーの属性や商品カテゴリに基づいて購入数量を調整します。\n",
    "    最終的な数量は0以上の範囲に収まるように調整されます。\n",
    "    \"\"\"\n",
    "    transactions = (\n",
    "        spark.range(1, num_transactions + 1).withColumnRenamed(\"id\", \"transaction_id\")\n",
    "        .withColumn(\"user_id\", expr(f\"floor(rand() * {users.count()}) + 1\"))\n",
    "        .withColumn(\"product_id\", expr(f\"floor(rand() * {products.count()}) + 1\"))\n",
    "        .withColumn(\"quantity\", round(rand() * 5 + 1))\n",
    "        .withColumn(\"store_id\", round(rand() * 10 + 1))\n",
    "        .withColumn(\"random_date\", expr(\"date_add(date('2024-01-01'), -CAST(rand() * 365 AS INTEGER))\"))\n",
    "        .withColumn(\"month\", date_format(\"random_date\", \"M\").cast(\"int\"))\n",
    "        .withColumn(\"is_weekend\", dayofweek(\"random_date\").isin([1, 7]))\n",
    "        .withColumn(\"transaction_date\", \n",
    "            when((rand() < 0.1) & ((expr(\"month\") == 8) | (expr(\"month\") == 12)), expr(\"random_date\"))\n",
    "            .when((rand() < 0.1) & expr(\"is_weekend\"), expr(\"random_date\"))\n",
    "            .otherwise(expr(\"date_add(date('2024-01-01'), -CAST(rand() * 365 AS INTEGER))\"))\n",
    "        )\n",
    "        .drop(\"random_date\", \"month\", \"is_weekend\")\n",
    "    )\n",
    "\n",
    "    # 傾向スコアに基づいて購入数量を調整\n",
    "    adjusted_transaction = transactions.join(users, \"user_id\").join(products.select(\"product_id\", \"price\", \"category\", \"subcategory\"), \"product_id\")\n",
    "    for condition, adjustment in conditions:\n",
    "        adjusted_transaction = adjusted_transaction.withColumn(\"quantity\", when(condition, col(\"quantity\") + adjustment).otherwise(col(\"quantity\")))\n",
    "    adjusted_transaction = adjusted_transaction.withColumn(\"quantity\", greatest(lit(0), \"quantity\"))\n",
    "    adjusted_transaction = adjusted_transaction.withColumn(\"transaction_price\", col(\"quantity\") * col(\"price\"))\n",
    "\n",
    "    # 調整済みトランザクションデータを返却\n",
    "    return adjusted_transaction.select(\"transaction_id\", \"user_id\", \"product_id\", \"quantity\", \"transaction_price\", \"transaction_date\", \"store_id\")\n",
    "\n",
    "# フィードバックデータの生成\n",
    "def generate_feedbacks(users, products, num_feedbacks=50000):\n",
    "    \"\"\"\n",
    "    フィードバックデータを生成し、指定された数のデータを返します。\n",
    "    \n",
    "    パラメータ:\n",
    "    users (DataFrame): ユーザーデータを含むSpark DataFrame\n",
    "    products (DataFrame): 商品データを含むSpark DataFrame\n",
    "    num_feedbacks (int): 生成するフィードバックの数 (デフォルトは50000)\n",
    "    \n",
    "    戻り値:\n",
    "    DataFrame: 生成されたフィードバック情報を含むSpark DataFrame\n",
    "    \n",
    "    各フィードバックには以下のカラムが含まれます:\n",
    "    - feedback_id: フィードバックID (1からnum_feedbacksまでの範囲)\n",
    "    - user_id: ユーザーID (1から登録ユーザー数までの範囲)\n",
    "    - product_id: 商品ID (1から登録商品数までの範囲)\n",
    "    - rating: 評価 (1以上5以下の整数、傾向スコアによって調整)\n",
    "    - date: フィードバック日付 (2024年1月1日から2025年1月1日までの範囲)\n",
    "    - comment: コメント (自由記述形式)\n",
    "    \n",
    "    傾向スコア:\n",
    "    ユーザーの属性や商品カテゴリに基づいて評価を調整します。\n",
    "    最終的な評価は0以上5以下の範囲に収まるように調整されます。\n",
    "    \"\"\"\n",
    "    feedbacks_pre = (\n",
    "        spark.range(1, num_feedbacks + 1)\n",
    "        .withColumnRenamed(\"id\", \"feedback_id\")\n",
    "        .withColumn(\"user_id\", expr(f\"floor(rand() * {users.count()}) + 1\"))\n",
    "        .withColumn(\"product_id\", expr(f\"floor(rand() * {products.count()}) + 1\"))\n",
    "        .withColumn(\"rating\", round(rand() * 4 + 1))\n",
    "        .withColumn(\"date\", expr(\"date_add(date('2024-01-01'), -CAST(rand() * 365 AS INTEGER))\"))\n",
    "    )\n",
    "    \n",
    "    # 傾向スコアに基づいて評価を調整\n",
    "    adjusted_feedbacks = feedbacks_pre.join(users, \"user_id\").join(products.select(\"product_id\", \"category\", \"subcategory\"), \"product_id\")\n",
    "    for condition, adjustment in conditions:\n",
    "        adjusted_feedbacks = adjusted_feedbacks.withColumn(\"rating\",\n",
    "            when(condition, col(\"rating\") + adjustment).otherwise(col(\"rating\")))\n",
    "    adjusted_feedbacks = adjusted_feedbacks.withColumn(\"rating\",greatest(lit(0), least(lit(5), \"rating\")))\n",
    "\n",
    "    # 調整済みフィードバックデータを返却\n",
    "    return adjusted_feedbacks.select(\"feedback_id\", \"user_id\", \"product_id\", \"rating\", \"date\")\n",
    "\n",
    "users = spark.table(\"users\")\n",
    "products = spark.table(\"products\")\n",
    "transactions = generate_transactions(users, products)\n",
    "feedbacks_pre = generate_feedbacks(users, products, 200)    #デモ用に件数絞る\n",
    "\n",
    "# 結果の表示（データフレームのサイズによっては表示が重くなる可能性があるため、小さなサンプルで表示）\n",
    "display(transactions.limit(5))\n",
    "display(feedbacks_pre.limit(5))"
   ]
  },
  {
   "cell_type": "code",
   "execution_count": 0,
   "metadata": {
    "application/vnd.databricks.v1+cell": {
     "cellMetadata": {
      "byteLimit": 2048000,
      "rowLimit": 10000
     },
     "inputWidgets": {},
     "nuid": "8188a73d-9da5-4061-801a-95546e19f5d9",
     "showTitle": true,
     "tableResultSettingsMap": {},
     "title": "フィードバックデータのマスタ準備"
    }
   },
   "outputs": [],
   "source": [
    "# ===========================================================\n",
    "# フィードバックのコメントとレーティングの定義\n",
    "# ===========================================================\n",
    "import pandas as pd\n",
    "from pyspark.sql import functions as F, Window\n",
    "\n",
    "# フィードバックデータ\n",
    "reviews_with_rating = [\n",
    "    # ── 品揃え ────────────────────────────────────────────\n",
    "    (\"ここに来ると、本当に欲しかった商品がいつも見つかる！他の店では見かけないような珍しい商品まで取り揃えていて、毎回驚かされます。\", 5),\n",
    "    (\"ここのお店の食材は本当に新鮮で美味しい！特にお肉や魚は質が高くて、他のどの店でも同じクオリティは見たことがない。信頼しています。\", 5),\n",
    "    (\"常に新しい商品が入っていて、毎回訪れるのが楽しみです！新商品を見つけると、必ず手に取ってしまいます。\", 4),\n",
    "    (\"品揃えが豊富で、欲しい商品がだいたい揃っています。時々珍しい商品も見かけるので、そこも良いところです。\", 4),\n",
    "    (\"品揃えは悪くないですが、時々欲しい商品が売り切れていることがあります。もう少し在庫を多くしてもらえると嬉しいです。\", 2),\n",
    "    (\"品揃えがひどい。欲しい商品が全く置いていないし、他の店舗で見かける商品すらない。何度も行ってもがっかりするばかりです。\", 1),\n",
    "    (\"おかずコーナーの品揃えは悪くないけれど、いつも同じなのでもっと工夫してもらえると嬉しいです。全体的には満足しています。\", 3),\n",
    "\n",
    "    # ── 品質（鮮度・商品クオリティ） ───────────────────────\n",
    "    (\"ここの商品は全体的に良い品質だと思います。特に野菜や果物は新鮮で、美味しいです。\", 4),\n",
    "    (\"新商品がたまに入っているので、足を運ぶたびに少し新しい発見があるのが良い点です。\", 4),\n",
    "    (\"おかずはまずまずですが、たまにおいしくないものもあります。それでも安いので利用しています。\", 3),\n",
    "    (\"新商品は時々見かけますが、他の店に比べると少し遅いかなと感じることがあります。\", 2),\n",
    "    (\"生鮮食品は悪くないですが、たまに少し新鮮さに欠けることがあります。それでも、他の店に比べればまだマシです。\", 3),\n",
    "    (\"チラシの商品がすぐなくなる時があり、せっかく来店しても在庫切れで悲しく帰るしかないこともあります。全体的には満足しているので在庫だけもっとあると嬉しいです。\", 4),\n",
    "    (\"商品の品質には少しばらつきがあります。特に果物や野菜は時々傷んでいることがあるので、もっと新鮮なものを期待していました。\", 3),\n",
    "    (\"新商品があまり頻繁に入ってこないのが残念です。入れ替えのペースが遅いように感じます。\", 2),\n",
    "\n",
    "    # ── コスパ・お得感 ──────────────────────────────────\n",
    "    (\"この店の価格は本当に素晴らしい！他の店では考えられないほど安くて、高品質の商品が手に入ります。特にお得感があり、いつも満足しています。\", 5),\n",
    "    (\"セールが大変充実していて、欲しかった商品が驚きの価格で手に入ることが多いです。毎回訪れるたびにお得な買い物ができて、本当にありがたいです。\", 5),\n",
    "    (\"ポイント還元率が非常に高くて、割引制度も素晴らしい！何度も利用しているうちに、どんどんお得になっていく感覚があって、絶対にお得感があります。\", 5),\n",
    "    (\"価格は適正だと思います。高すぎず、安すぎず、ちょうどいい価格帯で購入しやすいです。特に不満はないですが、もっとお得だと嬉しいです。\", 4),\n",
    "    (\"価格は少し高めに感じますが、特に不満があるわけではないです。もう少し安くなれば嬉しいですが、仕方ないかなとも思っています。\", 3),\n",
    "    (\"ここは本当に高すぎます。価格設定が非常に不満で、他の店と比べても倍以上の価格で買わされていると感じます。もう二度と買いません。\", 1),\n",
    "    (\"セールや特売がたまに行われていて、割引もあるので嬉しいです。もっと頻繁にやってくれるとありがたいですね。\", 5),\n",
    "    (\"ポイント還元や割引があるのは嬉しいですが、他の店に比べると少しだけ劣る感じがします。でも、悪くはないです。\", 4),\n",
    "    (\"価格はまあまあで、安すぎることはないですが、高すぎることもない感じです。特別安いわけではないですが、普通に満足しています。\", 4),\n",
    "    (\"セールや特売がたまに行われていて、まあまあお得に感じます。ただ、頻繁にあるわけではないので、もっとあればいいなと思います。\", 4),\n",
    "    (\"ポイント還元や割引があって、そこそこお得感はありますが、他の店ほどのインパクトは感じません。悪くはないけれど、もっと充実しているとさらに良いです。\", 4),\n",
    "    (\"セールや特売が時々ありますが、他の店舗と比べると少し物足りない感じがします。まあ、あっても利用するかどうかはその時次第ですが。\", 3),\n",
    "    (\"ポイント還元や割引があるけど、他の店に比べてそこまでお得感はありません。もう少し優遇されているといいなと思います。\", 3),\n",
    "    (\"価格が高いと感じることが多いです。特に他の店ではもっと安く買えることがあるので、ここでは少し割高に思ってしまいます。\", 2),\n",
    "    (\"セールや特売があまり頻繁に行われないので、少しがっかりしています。お得感があまりないので、他の店に比べて魅力を感じにくいです。\", 2),\n",
    "    (\"ポイント還元や割引があっても、正直他の店ほどのインパクトはありません。もっと魅力的な制度を提供してほしいと思っています。\", 3),\n",
    "    (\"セールや特売がほとんどなく、あっても期待外れです。価格が高いままで、割引の幅も少なく、完全にがっかりしています。\", 2),\n",
    "    (\"ポイント還元も割引制度も最悪です。全くお得感がなく、他の店舗に比べて圧倒的に損した気分になります。もう利用することはないでしょう。\", 1),\n",
    "\n",
    "    # ── 接客・サービス ──────────────────────────────────\n",
    "    (\"価格に対して商品やサービスのクオリティが非常に高いです。どこに行ってもここが一番お得だと思います。\", 5),\n",
    "    (\"スタッフの対応はとても良かったです。商品について詳しく説明してくれたり、質問にも親切に答えてくれたので安心して買い物ができました。ただ、もう少しスピードが速ければ、さらに良かったと思います。\", 5),\n",
    "    (\"レジでの対応はスムーズで、スタッフの笑顔がとても印象的でした。商品の袋詰めも丁寧にしてくれました。ただ、少し混雑していたため、もう少し早く対応してくれるともっと嬉しかったです。\", 4),\n",
    "    (\"価格と商品の質は満足しています。安い価格帯の商品でもしっかりとした品質を保っており、良い買い物ができました。ただ、少し高めの商品を買う際には、もう少しサービス面でも特別感があると、さらに満足感が高くなったかなと思います。\", 3),\n",
    "    (\"スタッフの対応は悪くはないですが、他の店と比べると少しそっけない印象を受けました。説明が少し不十分に感じることもありましたが、特に大きな問題ではありませんでした。\", 4),\n",
    "    (\"レジ対応はまずまずでした。特に問題なく、商品を迅速に処理してくれましたが、笑顔が少なく感じました。価格に見合ったサービスだったかなと思いますが、もう少し親しみやすさがあれば良かったです。\", 3),\n",
    "    (\"スタッフの対応は悪くはなかったのですが、ちょっと待たされたので、もう少しスムーズに接客が進めばいいと思います。値段に対しては特に問題なかったのですが、接客のスピードがもう少し速ければ、もっと快適に買い物できたかもしれません。\", 3),\n",
    "    (\"レジでの対応は丁寧でしたが、少し時間がかかってしまいました。価格に見合ったサービスだとは思いますが、もう少し速ければ、より満足度が高くなったのではないかと感じました。\", 3),\n",
    "    (\"価格は他と比べて平均的で、商品自体の質も悪くはありませんでした。ただ、レジでの対応が少し遅かったり、サービスにもう少し工夫が欲しかったと感じる場面がありました。価格に対しては満足していますが、より良い体験を期待してしまいました。\", 3),\n",
    "    (\"スタッフの対応が遅かったです。何度か質問をしたのですが、すぐに答えてもらえなかったり、他のスタッフに確認する必要があったり。価格は問題ないですが、もう少しスムーズな接客が欲しいと思いました。\", 3),\n",
    "    (\"レジで少し待たされましたし、対応も少し冷たかったです。お店の価格自体は悪くないですが、もう少し快適なレジ対応があれば、もっとリピーターになると思います。\", 3),\n",
    "    (\"価格はそこまで悪くないのですが、商品の質やサービスがその価格に見合っているとは言い切れません。特に接客がもう少し丁寧でスムーズだったら、全体的にもっと満足感が高かったと思います。\", 3),\n",
    "    (\"レジでの対応が本当に最悪でした。すごく遅い上に、スタッフは無愛想で、全然笑顔もなく、イライラしました。価格も高いし、サービスがあまりにも酷すぎて二度と行きたくないです。\", 1),\n",
    "    (\"価格に対してサービスが全く見合っていません。商品が高いだけで、質も悪く、接客も最悪でした。こんなに悪い体験をしたのは初めてで、他の店舗と比較しても最悪です。二度と行かないと思います。\", 1),\n",
    "    (\"店員さんがとても親切でした。困っているとすぐに気づいて、丁寧に説明してくれました。あんなに親身に対応してもらえたのは初めてで、感動しました！\", 5),\n",
    "    (\"店員が非常にわかりやすく案内してくれたので、迷うことなく買い物できました。店舗の内装も清潔で、スタッフが常に気を配っている感じが伝わってきました。\", 4),\n",
    "    (\"店員が笑顔で、どんな質問にも丁寧に答えてくれたので、とても快適に過ごせました。すごく心地よい買い物ができて、次もここで買い物しようと思います。\", 4),\n",
    "    (\"店員は親切に対応してくれましたが、もう少し早く答えてもらえるともっと良かったです。ただ、全体的に良い印象を受けました。\", 4),\n",
    "    (\"店員の案内はわかりやすく、すぐに目的の場所にたどり着けました。少しだけ不安そうな顔をしていたのが気になりましたが、親切さは感じました。\", 4),\n",
    "    (\"従業員はしっかり説明してくれましたが、少しだけ機械的な感じもしました。でも、対応自体は悪くなかったので、全体的には問題なく買い物できました。\", 4),\n",
    "    (\"従業員は親切でしたが、少し冷たい感じがしました。質問には答えてくれましたが、もう少し親身になってくれるとさらに良かったと思います。\", 4),\n",
    "    (\"お店の人は簡単な説明をしてくれましたが、もう少し詳しく説明してくれたらよかったです。それでも、特に大きな問題はありませんでした。\", 3),\n",
    "    (\"店員は悪くはないのですが、少し素っ気ない感じがしました。もう少し笑顔で接してくれると、もっと良い買い物ができたかなと思います。\", 3),\n",
    "    (\"店員に質問したのですが、少しだけ対応が遅くて、少し不安になりました。でも、最終的には答えてくれたので、大きな問題ではありませんでした。\", 3),\n",
    "    (\"店員が案内してくれましたが、ちょっと不親切に感じた瞬間がありました。それでも、全体的には特に大きな問題ではありませんでした。\", 3),\n",
    "    (\"店員の態度はまあまあでしたが、もう少し明るくて親切だったらよかったかなと思います。それでも、問題なく買い物できたので、悪くはなかったです。\", 3),\n",
    "    (\"店員は質問には答えてくれたものの、少し無愛想に感じました。もう少し丁寧に対応してもらえたら、もっと気持ちよく買い物できたと思います。\", 2),\n",
    "    (\"店員が少し説明が足りなかった気がします。何度か確認することになり、少し手間取ってしまいました。もう少し親切に案内してくれるとよかったと思います。\", 3),\n",
    "    (\"店員の態度は少し冷たかったです。簡単に説明はしてくれたものの、もう少し温かみがあればもっと快適に買い物できたかなと思います。\", 2),\n",
    "    (\"質問しても全然答えてくれず、無視されているような気分になりました。最終的にはスタッフがすれ違って通り過ぎただけで、全く助けてもらえませんでした。\", 3),\n",
    "    (\"店員は全く協力的ではなく、説明が全く足りませんでした。迷ったまま店内をぐるぐる回る羽目になり、結局スタッフに頼らずに自力で探し出しました。\", 3),\n",
    "    (\"最初から最後まで無愛想で、まるで私たちを邪魔者のように扱われました。サービスがあまりにも酷かったので、もう二度とこの店には行きたくないです。\", 1),\n",
    "\n",
    "    # ── 店舗設備・環境 ────────────────────────────────────\n",
    "    (\"店内はとても広々としていて、通路も広くて歩きやすかったです。商品が綺麗に陳列されていて、どこに何があるかが一目でわかり、とても快適に買い物できました！\", 5),\n",
    "    (\"トイレは不潔ではないものの、清掃が行き届いておらず、少し不快感を感じました。イートインスペースもテーブルが汚れていて、清潔さが欠けていたので、もう少し気を使ってほしいと思いました。\", 2),\n",
    "    (\"駐車場はゴミだらけで、全く清掃されていないような状態でした。駐車スペースも不規則に配置されていて、非常に使いづらかったです。アクセスには問題があったわけではありませんが、施設の管理がひどくてがっかりしました。\", 1),\n",
    "    (\"駐車場が広く、清掃も行き届いていました。車を停めるスペースも多く、周囲が整備されていて、気持ちよく訪れることができました。\", 4),\n",
    "    (\"店内はきれいに整理されていて、通路も十分に広かったです。ただ、少し商品が散らかっている場所もあったので、もう少し気を使ってほしいとは思いました。\", 3),\n",
    "    (\"トイレは清潔でしたが、少し混雑していたので、もう少し頻繁に掃除がされるとさらに良いと思います。イートインスペースは快適で、食事するには十分な環境でした。\", 4),\n",
    "    (\"駐車場は広めで、清潔感もありました。ただ、駐車場の一部にもう少し整理整頓が必要な部分があり、そこが少し気になりました。\", 3),\n",
    "    (\"店内は比較的きれいに整頓されていましたが、少し混雑していて通路が狭く感じることがありました。商品は見やすかったですが、もう少し広くしてくれるとありがたいです。\", 3),\n",
    "    (\"トイレは悪くはないですが、少し清掃が行き届いていない部分もありました。イートインスペースも普通で、特に問題はなかったけれど、もっと清潔感を感じられれば良かったと思います。\", 3),\n",
    "    (\"駐車場は広めで便利でしたが、少し汚れている部分も見受けられました。アクセスは良かったですが、駐車場がもっと清潔で整理されているともっと良かったです。\", 3),\n",
    "    (\"通路が少し狭く感じ、商品を選ぶ際に他のお客さんとぶつかりそうになることがありました。陳列は整理されているものの、もう少し広々としたスペースがあるともっと快適に感じられると思います。\", 3),\n",
    "    (\"トイレは清潔でしたが、ちょっと混雑していたせいか、あまり清潔感が感じられませんでした。イートインスペースも整っていましたが、少し雑然としていて、もっと落ち着いた雰囲気があれば良かったと思います。\", 3),\n",
    "    (\"駐車場は便利ですが、少し散らかっている感じがしました。車の通行には問題ありませんが、もう少し清掃や整理が行き届いていれば、より良い印象を受けたと思います。\", 4),\n",
    "    (\"店内の通路はやや狭く、商品があまり整理されていないと感じました。混雑している時間帯には歩きづらく、買い物がしにくかったです。改善してほしいです。\", 2),\n",
    "    (\"トイレは不潔ではないものの、清掃が行き届いておらず、少し不快感を感じました。イートインスペースもテーブルが汚れていて、清潔さが欠けていたので、もう少し気を使ってほしいと思いました。\", 2),\n",
    "    (\"駐車場は広いものの、ゴミが散乱している部分があり、あまり気分よく停めることができませんでした。アクセスには問題ないですが、もっと清掃が行き届いていれば良かったです。\", 2),\n",
    "    (\"店内は散らかっていて、通路も狭く、商品がごちゃごちゃに積まれている状態でした。歩くたびに他のお客さんとぶつかりそうになり、非常に不快でした。整頓されていない感じが強く、もう二度と行きたくないです。\", 1),\n",
    "    (\"トイレは本当に汚く、全く清掃されていないような状態でした。臭いがひどくて、使うのを避けたくなるくらいでした。イートインスペースも汚れていて、座る気にもなりませんでした。\", 1),\n",
    "\n",
    "    # ── その他 ──────────────────────────────────────────\n",
    "    (\"特に不満はありませんでした。\", 4),\n",
    "    (\"スタッフの対応に満足しました。\", 4),\n",
    "    (\"レジのもう少し待ち時間が短いと嬉しいです。\", 3),\n",
    "    (\"店内が清潔で安心できました。\", 4),\n",
    "    (\"商品の品揃えが豊富でした。\", 4),\n",
    "    (\"店舗アクセスが便利でした。\", 4),\n",
    "    (\"全体的に価格が少し高いと感じました。\", 2),\n",
    "    (\"商品の場所がわからなくてお店の人に質問したら、丁寧に対応してくれて助かりました。\", 4),\n",
    "    (\"店内は綺麗だし、お店の人も気持ちいい対応してくれて良いですね。また利用したいと思います。\", 5),\n",
    "]\n",
    "\n",
    "# Spark DataFrameに変換\n",
    "reviews_master_df = spark.createDataFrame(\n",
    "  pd.DataFrame(reviews_with_rating, columns=[\"comment\", \"rating\"])\n",
    ")"
   ]
  },
  {
   "cell_type": "code",
   "execution_count": 0,
   "metadata": {
    "application/vnd.databricks.v1+cell": {
     "cellMetadata": {
      "byteLimit": 2048000,
      "rowLimit": 10000
     },
     "inputWidgets": {},
     "nuid": "67c8dbb1-25fb-4eaf-8a40-945127374869",
     "showTitle": true,
     "tableResultSettingsMap": {},
     "title": "フィードバックデータの生成"
    }
   },
   "outputs": [
    {
     "output_type": "stream",
     "name": "stdout",
     "output_type": "stream",
     "text": [
      "200\n['feedback_id', 'user_id', 'product_id', 'rating', 'date', 'comment']\n"
     ]
    },
    {
     "output_type": "display_data",
     "data": {
      "text/html": [
       "<style scoped>\n",
       "  .table-result-container {\n",
       "    max-height: 300px;\n",
       "    overflow: auto;\n",
       "  }\n",
       "  table, th, td {\n",
       "    border: 1px solid black;\n",
       "    border-collapse: collapse;\n",
       "  }\n",
       "  th, td {\n",
       "    padding: 5px;\n",
       "  }\n",
       "  th {\n",
       "    text-align: left;\n",
       "  }\n",
       "</style><div class='table-result-container'><table class='table-result'><thead style='background-color: white'><tr><th>feedback_id</th><th>user_id</th><th>product_id</th><th>rating</th><th>date</th><th>comment</th></tr></thead><tbody><tr><td>3</td><td>6000</td><td>72</td><td>1.0</td><td>2023-06-04</td><td>最初から最後まで無愛想で、まるで私たちを邪魔者のように扱われました。サービスがあまりにも酷かったので、もう二度とこの店には行きたくないです。</td></tr><tr><td>31</td><td>4435</td><td>23</td><td>1.0</td><td>2023-04-07</td><td>価格に対してサービスが全く見合っていません。商品が高いだけで、質も悪く、接客も最悪でした。こんなに悪い体験をしたのは初めてで、他の店舗と比較しても最悪です。二度と行かないと思います。</td></tr><tr><td>59</td><td>8732</td><td>96</td><td>1.0</td><td>2023-08-09</td><td>レジでの対応が本当に最悪でした。すごく遅い上に、スタッフは無愛想で、全然笑顔もなく、イライラしました。価格も高いし、サービスがあまりにも酷すぎて二度と行きたくないです。</td></tr><tr><td>91</td><td>9288</td><td>94</td><td>1.0</td><td>2023-12-02</td><td>品揃えがひどい。欲しい商品が全く置いていないし、他の店舗で見かける商品すらない。何度も行ってもがっかりするばかりです。</td></tr><tr><td>106</td><td>406</td><td>72</td><td>1.0</td><td>2023-06-18</td><td>ポイント還元も割引制度も最悪です。全くお得感がなく、他の店舗に比べて圧倒的に損した気分になります。もう利用することはないでしょう。</td></tr></tbody></table></div>"
      ]
     },
     "metadata": {
      "application/vnd.databricks.v1+output": {
       "addedWidgets": {},
       "aggData": [],
       "aggError": "",
       "aggOverflow": false,
       "aggSchema": [],
       "aggSeriesLimitReached": false,
       "aggType": "",
       "arguments": {},
       "columnCustomDisplayInfos": {},
       "data": [
        [
         3,
         6000,
         72,
         1.0,
         "2023-06-04",
         "最初から最後まで無愛想で、まるで私たちを邪魔者のように扱われました。サービスがあまりにも酷かったので、もう二度とこの店には行きたくないです。"
        ],
        [
         31,
         4435,
         23,
         1.0,
         "2023-04-07",
         "価格に対してサービスが全く見合っていません。商品が高いだけで、質も悪く、接客も最悪でした。こんなに悪い体験をしたのは初めてで、他の店舗と比較しても最悪です。二度と行かないと思います。"
        ],
        [
         59,
         8732,
         96,
         1.0,
         "2023-08-09",
         "レジでの対応が本当に最悪でした。すごく遅い上に、スタッフは無愛想で、全然笑顔もなく、イライラしました。価格も高いし、サービスがあまりにも酷すぎて二度と行きたくないです。"
        ],
        [
         91,
         9288,
         94,
         1.0,
         "2023-12-02",
         "品揃えがひどい。欲しい商品が全く置いていないし、他の店舗で見かける商品すらない。何度も行ってもがっかりするばかりです。"
        ],
        [
         106,
         406,
         72,
         1.0,
         "2023-06-18",
         "ポイント還元も割引制度も最悪です。全くお得感がなく、他の店舗に比べて圧倒的に損した気分になります。もう利用することはないでしょう。"
        ]
       ],
       "datasetInfos": [],
       "dbfsResultPath": null,
       "isJsonSchema": true,
       "metadata": {},
       "overflow": false,
       "plotOptions": {
        "customPlotOptions": {},
        "displayType": "table",
        "pivotAggregation": null,
        "pivotColumns": null,
        "xColumns": null,
        "yColumns": null
       },
       "removedWidgets": [],
       "schema": [
        {
         "metadata": "{}",
         "name": "feedback_id",
         "type": "\"long\""
        },
        {
         "metadata": "{}",
         "name": "user_id",
         "type": "\"long\""
        },
        {
         "metadata": "{}",
         "name": "product_id",
         "type": "\"long\""
        },
        {
         "metadata": "{}",
         "name": "rating",
         "type": "\"double\""
        },
        {
         "metadata": "{}",
         "name": "date",
         "type": "\"date\""
        },
        {
         "metadata": "{}",
         "name": "comment",
         "type": "\"string\""
        }
       ],
       "type": "table"
      }
     },
     "output_type": "display_data"
    }
   ],
   "source": [
    "import pandas as pd\n",
    "import numpy as np\n",
    "\n",
    "# reviews_master_df, feedbacksはSpark DataFrame想定\n",
    "# まずPandas DataFrameに変換\n",
    "reviews_pd = reviews_master_df.toPandas()\n",
    "feedbacks_pd = feedbacks_pre.toPandas()\n",
    "\n",
    "# 各ratingごとに処理\n",
    "result_list = []\n",
    "\n",
    "for rating, fb_group in feedbacks_pd.groupby('rating'):\n",
    "    # 該当ratingのレビューコメント一覧\n",
    "    rv_group = reviews_pd[reviews_pd['rating'] == rating].copy()\n",
    "    rv_comments = rv_group['comment'].tolist()\n",
    "    n_reviews = len(rv_comments)\n",
    "    n_feedbacks = len(fb_group)\n",
    "    \n",
    "    # コメントが足りない場合は繰り返し、余る場合はシャッフルして余りを使わない\n",
    "    if n_reviews == 0:\n",
    "        assigned_comments = [np.nan] * n_feedbacks\n",
    "    else:\n",
    "        repeats = (n_feedbacks + n_reviews - 1) // n_reviews  # 必要な繰り返し回数\n",
    "        assigned_comments = (rv_comments * repeats)[:n_feedbacks]\n",
    "        np.random.shuffle(assigned_comments)  # 割り当て順もシャッフル\n",
    "\n",
    "    fb_group = fb_group.copy()\n",
    "    # fb_group['comment_review'] = assigned_comments\n",
    "    fb_group['comment'] = assigned_comments\n",
    "    result_list.append(fb_group)\n",
    "\n",
    "# Pandas DataFrameを作成\n",
    "merged_data = pd.concat(result_list, ignore_index=True)\n",
    "\n",
    "# Pandas DataFrameからSpark DataFrameへ変換\n",
    "feedbacks = spark.createDataFrame(merged_data)\n",
    "\n",
    "# 結果表示（データフレームのサイズによっては表示が重くなる可能性があるため、小さなサンプルで表示）\n",
    "print(feedbacks.count())\n",
    "print(feedbacks.columns)\n",
    "display(feedbacks.limit(5))"
   ]
  },
  {
   "cell_type": "markdown",
   "metadata": {
    "application/vnd.databricks.v1+cell": {
     "cellMetadata": {},
     "inputWidgets": {},
     "nuid": "fb10e831-6c14-46d1-9cba-dda26b70b189",
     "showTitle": false,
     "tableResultSettingsMap": {},
     "title": ""
    }
   },
   "source": [
    "Note: トランザクションとフィードバックのテーブルへの書き込みについて、リネージの流れを直感的に分かりやすいものにするために一旦一時テーブルに書き込み、DEEP CLONEを使用してメインテーブルを作成する。"
   ]
  },
  {
   "cell_type": "code",
   "execution_count": 0,
   "metadata": {
    "application/vnd.databricks.v1+cell": {
     "cellMetadata": {
      "byteLimit": 2048000,
      "rowLimit": 10000
     },
     "inputWidgets": {},
     "nuid": "bab075bc-8736-4ca3-909f-1f4fc57a4506",
     "showTitle": true,
     "tableResultSettingsMap": {},
     "title": "一時テーブルへの書き込み"
    }
   },
   "outputs": [],
   "source": [
    "transactions.write.mode(\"overwrite\").option(\"overwriteSchema\", \"true\").saveAsTable(\"transactions_temp\")\n",
    "feedbacks.write.mode(\"overwrite\").option(\"overwriteSchema\", \"true\").saveAsTable(\"feedbacks_temp\")"
   ]
  },
  {
   "cell_type": "code",
   "execution_count": 0,
   "metadata": {
    "application/vnd.databricks.v1+cell": {
     "cellMetadata": {
      "byteLimit": 2048000,
      "rowLimit": 10000
     },
     "inputWidgets": {},
     "nuid": "5ac10df3-3657-485d-9617-9b3cd5ce0c32",
     "showTitle": true,
     "tableResultSettingsMap": {},
     "title": "DEEP CLONEを使用して一時テーブルからメインテーブルを作成"
    }
   },
   "outputs": [
    {
     "output_type": "execute_result",
     "data": {
      "text/plain": [
       "DataFrame[source_table_size: bigint, source_num_of_files: bigint, num_of_synced_transactions: bigint, num_removed_files: bigint, num_copied_files: bigint, removed_files_size: bigint, copied_files_size: bigint]"
      ]
     },
     "execution_count": 14,
     "metadata": {},
     "output_type": "execute_result"
    }
   ],
   "source": [
    "spark.sql(\"DROP TABLE IF EXISTS transactions\")\n",
    "spark.sql(\"CREATE TABLE transactions DEEP CLONE transactions_temp\")\n",
    "spark.sql(\"DROP TABLE IF EXISTS feedbacks\")\n",
    "spark.sql(\"CREATE TABLE feedbacks DEEP CLONE feedbacks_temp\")"
   ]
  },
  {
   "cell_type": "code",
   "execution_count": 0,
   "metadata": {
    "application/vnd.databricks.v1+cell": {
     "cellMetadata": {
      "byteLimit": 2048000,
      "rowLimit": 10000
     },
     "inputWidgets": {},
     "nuid": "521836e3-eba5-4434-ab19-69f9aeaec020",
     "showTitle": true,
     "tableResultSettingsMap": {},
     "title": "一時テーブルの削除"
    }
   },
   "outputs": [
    {
     "output_type": "execute_result",
     "data": {
      "text/plain": [
       "DataFrame[]"
      ]
     },
     "execution_count": 15,
     "metadata": {},
     "output_type": "execute_result"
    }
   ],
   "source": [
    "spark.sql(\"DROP TABLE transactions_temp\")\n",
    "spark.sql(\"DROP TABLE feedbacks_temp\")"
   ]
  },
  {
   "cell_type": "code",
   "execution_count": 0,
   "metadata": {
    "application/vnd.databricks.v1+cell": {
     "cellMetadata": {
      "byteLimit": 2048000,
      "implicitDf": true,
      "rowLimit": 10000
     },
     "inputWidgets": {},
     "nuid": "6c446666-12e2-4203-bb2a-2e74e7477da0",
     "showTitle": true,
     "tableResultSettingsMap": {},
     "title": "テーブルのメタデータ編集"
    }
   },
   "outputs": [],
   "source": [
    "%sql\n",
    "ALTER TABLE users ALTER COLUMN user_id COMMENT \"ユーザーID\";\n",
    "ALTER TABLE users ALTER COLUMN name COMMENT \"氏名\";\n",
    "ALTER TABLE users ALTER COLUMN age COMMENT \"年齢: 0以上\";\n",
    "ALTER TABLE users ALTER COLUMN gender COMMENT \"性別: 例) 男性, 女性, 未回答, その他\";\n",
    "ALTER TABLE users ALTER COLUMN email COMMENT \"メールアドレス\";\n",
    "ALTER TABLE users ALTER COLUMN registration_date COMMENT \"登録日\";\n",
    "ALTER TABLE users ALTER COLUMN region COMMENT \"地域: 例) 東京, 大阪, 北海道\";\n",
    "COMMENT ON TABLE users IS '**users テーブル**\\nオンラインスーパー「ブリックスマート」に登録されているユーザー情報を保持するテーブルです。\\n- ユーザーの基本情報（氏名、年齢、性別、地域など）や連絡先（メールアドレス）を管理\\n- ユーザーのセグメンテーションや嗜好分析、マーケティング効果測定などに活用できます';\n",
    "\n",
    "ALTER TABLE transactions ALTER COLUMN transaction_id COMMENT \"トランザクションID\";\n",
    "ALTER TABLE transactions ALTER COLUMN user_id COMMENT \"ユーザーID: usersテーブルのuser_idとリンクする外部キー\";\n",
    "ALTER TABLE transactions ALTER COLUMN transaction_date COMMENT \"購入日\";\n",
    "ALTER TABLE transactions ALTER COLUMN product_id COMMENT \"商品ID: productsテーブルのproduct_idとリンクする外部キー\";\n",
    "ALTER TABLE transactions ALTER COLUMN quantity COMMENT \"購入数量: 1以上\";\n",
    "ALTER TABLE transactions ALTER COLUMN transaction_price COMMENT \"購入時価格: 0以上, transactions.quantity * products.price で計算\";\n",
    "ALTER TABLE transactions ALTER COLUMN store_id COMMENT \"店舗ID\";\n",
    "COMMENT ON TABLE transactions IS '**transactions テーブル**\\nオンラインスーパー「ブリックスマート」で行われた販売取引（購入履歴）の情報を管理するテーブルです。\\n- ユーザーIDや商品IDなど他テーブルと関連付けしつつ、購入日や価格、数量などを保持\\n- 販売動向の分析、ユーザーの購買行動追跡、在庫・マーケティング戦略の最適化に役立ちます';\n",
    "\n",
    "ALTER TABLE products ALTER COLUMN product_id COMMENT \"商品ID\";\n",
    "ALTER TABLE products ALTER COLUMN product_name COMMENT \"商品名\";\n",
    "ALTER TABLE products ALTER COLUMN category COMMENT \"カテゴリー: 例) 食料品, 日用品\";\n",
    "ALTER TABLE products ALTER COLUMN subcategory COMMENT \"サブカテゴリー: 例) 野菜, 洗剤\";\n",
    "ALTER TABLE products ALTER COLUMN price COMMENT \"販売価格: 0以上\";\n",
    "ALTER TABLE products ALTER COLUMN stock_quantity COMMENT \"在庫数量\";\n",
    "ALTER TABLE products ALTER COLUMN cost_price COMMENT \"仕入れ価格\";\n",
    "COMMENT ON TABLE products IS '**products テーブル**\\nオンラインスーパー「ブリックスマート」で取り扱う商品の情報を管理するテーブルです。\\n- 商品名、カテゴリー・サブカテゴリー、価格、在庫数、原価などを保持\\n- 在庫管理、価格分析、商品分類や商品のパフォーマンス分析に活用できます';\n",
    "\n",
    "ALTER TABLE feedbacks ALTER COLUMN feedback_id COMMENT \"フィードバックID\";\n",
    "ALTER TABLE feedbacks ALTER COLUMN user_id COMMENT \"ユーザーID: usersテーブルのuser_idとリンクする外部キー\";\n",
    "ALTER TABLE feedbacks ALTER COLUMN comment COMMENT \"コメント\";\n",
    "ALTER TABLE feedbacks ALTER COLUMN date COMMENT \"フィードバック日\";\n",
    "ALTER TABLE feedbacks ALTER COLUMN rating COMMENT \"評価: 1～5\";\n",
    "COMMENT ON TABLE feedbacks IS '**feedbacks テーブル**\\nユーザーからのフィードバックを管理するテーブルです。\\n- 商品やサービスに対するコメント、評価(1～5)、フィードバック日などを保持\\n- ユーザー満足度の把握や改善点の分析、優先度付けに役立ちます';"
   ]
  },
  {
   "cell_type": "code",
   "execution_count": 0,
   "metadata": {
    "application/vnd.databricks.v1+cell": {
     "cellMetadata": {
      "byteLimit": 2048000,
      "implicitDf": true,
      "rowLimit": 10000
     },
     "inputWidgets": {},
     "nuid": "b9db9d5f-2801-435b-a7a8-fb063f671046",
     "showTitle": true,
     "tableResultSettingsMap": {},
     "title": "gold_usersテーブルの生成"
    }
   },
   "outputs": [
    {
     "output_type": "display_data",
     "data": {
      "text/html": [
       "<style scoped>\n",
       "  .table-result-container {\n",
       "    max-height: 300px;\n",
       "    overflow: auto;\n",
       "  }\n",
       "  table, th, td {\n",
       "    border: 1px solid black;\n",
       "    border-collapse: collapse;\n",
       "  }\n",
       "  th, td {\n",
       "    padding: 5px;\n",
       "  }\n",
       "  th {\n",
       "    text-align: left;\n",
       "  }\n",
       "</style><div class='table-result-container'><table class='table-result'><thead style='background-color: white'><tr><th>num_affected_rows</th><th>num_inserted_rows</th></tr></thead><tbody></tbody></table></div>"
      ]
     },
     "metadata": {
      "application/vnd.databricks.v1+output": {
       "addedWidgets": {},
       "aggData": [],
       "aggError": "",
       "aggOverflow": false,
       "aggSchema": [],
       "aggSeriesLimitReached": false,
       "aggType": "",
       "arguments": {},
       "columnCustomDisplayInfos": {},
       "data": [],
       "datasetInfos": [
        {
         "name": "_sqldf",
         "schema": {
          "fields": [
           {
            "metadata": {},
            "name": "num_affected_rows",
            "nullable": true,
            "type": "long"
           },
           {
            "metadata": {},
            "name": "num_inserted_rows",
            "nullable": true,
            "type": "long"
           }
          ],
          "type": "struct"
         },
         "tableIdentifier": null,
         "typeStr": "pyspark.sql.connect.dataframe.DataFrame"
        }
       ],
       "dbfsResultPath": null,
       "isJsonSchema": true,
       "metadata": {
        "createTempViewForImplicitDf": true,
        "dataframeName": "_sqldf",
        "executionCount": 17
       },
       "overflow": false,
       "plotOptions": {
        "customPlotOptions": {},
        "displayType": "table",
        "pivotAggregation": null,
        "pivotColumns": null,
        "xColumns": null,
        "yColumns": null
       },
       "removedWidgets": [],
       "schema": [
        {
         "metadata": "{}",
         "name": "num_affected_rows",
         "type": "\"long\""
        },
        {
         "metadata": "{}",
         "name": "num_inserted_rows",
         "type": "\"long\""
        }
       ],
       "type": "table"
      }
     },
     "output_type": "display_data"
    }
   ],
   "source": [
    "%sql\n",
    "CREATE OR REPLACE TABLE gold_user AS (\n",
    "  -- ユーザーごとの購買・評価データを集計\n",
    "  with user_metrics as (\n",
    "  SELECT \n",
    "    u.user_id,\n",
    "    CASE \n",
    "      WHEN u.age < 35 THEN '若年層'\n",
    "      WHEN u.age < 55 THEN '中年層'\n",
    "      ELSE 'シニア層'\n",
    "    END as age_group,\n",
    "    SUM(CASE WHEN p.category = '食料品' THEN t.quantity ELSE 0 END) AS food_quantity,\n",
    "    SUM(CASE WHEN p.category = '日用品' THEN t.quantity ELSE 0 END) AS daily_quantity,\n",
    "    SUM(CASE WHEN p.category NOT IN ('食料品', '日用品') THEN t.quantity ELSE 0 END) AS other_quantity,\n",
    "    AVG(CASE WHEN p.category = '食料品' THEN f.rating ELSE NULL END) AS food_rating,\n",
    "    AVG(CASE WHEN p.category = '日用品' THEN f.rating ELSE NULL END) AS daily_rating,\n",
    "    AVG(CASE WHEN p.category NOT IN ('食料品', '日用品') THEN f.rating ELSE NULL END) AS other_rating\n",
    "  FROM users u\n",
    "  LEFT JOIN transactions t ON u.user_id = t.user_id\n",
    "  LEFT JOIN products p ON t.product_id = p.product_id\n",
    "  LEFT JOIN feedbacks f ON u.user_id = f.user_id\n",
    "  GROUP BY u.user_id, u.age)\n",
    "  -- ユーザー基本情報と購買・評価指標を結合\n",
    "  SELECT * FROM users JOIN user_metrics USING (user_id)\n",
    ");"
   ]
  },
  {
   "cell_type": "code",
   "execution_count": 0,
   "metadata": {
    "application/vnd.databricks.v1+cell": {
     "cellMetadata": {
      "byteLimit": 2048000,
      "implicitDf": true,
      "rowLimit": 10000
     },
     "inputWidgets": {},
     "nuid": "764a2632-9672-49b9-bc9c-1f969dc0388e",
     "showTitle": true,
     "tableResultSettingsMap": {},
     "title": "gold_usersテーブルのメタデータ編集"
    }
   },
   "outputs": [],
   "source": [
    "%sql\n",
    "ALTER TABLE gold_user ALTER COLUMN age_group COMMENT \"年齢層: 若年層, 中年層, シニア層\\n\\n- 若年層: 35歳未満\\n- 中年層: 35歳以上55歳未満\\n- シニア層: 55歳以上\";\n",
    "ALTER TABLE gold_user ALTER COLUMN food_quantity COMMENT \"食料品の合計購買点数\";\n",
    "ALTER TABLE gold_user ALTER COLUMN daily_quantity COMMENT \"日用品の合計購買点数\";\n",
    "ALTER TABLE gold_user ALTER COLUMN other_quantity COMMENT \"その他の合計購買点数\";\n",
    "ALTER TABLE gold_user ALTER COLUMN food_rating COMMENT \"食料品の平均レビュー評価\";\n",
    "ALTER TABLE gold_user ALTER COLUMN daily_rating COMMENT \"日用品の平均レビュー評価\";\n",
    "ALTER TABLE gold_user ALTER COLUMN other_rating COMMENT \"その他の平均レビュー評価\";\n",
    "COMMENT ON TABLE gold_user IS '**gold_user テーブル**\\nAIを搭載した食品推薦システムに登録したユーザーに関する情報が含まれています。\\n- 人口統計学的詳細、食品消費習慣、および評価などを保持\\n- ユーザーの嗜好を理解し、食品の消費傾向を追跡、AIシステムの有効性を評価するのに活用\\n- 個々のユーザーに合わせた食品推薦やシステム改善の検討にも役立ちます';"
   ]
  },
  {
   "cell_type": "code",
   "execution_count": 0,
   "metadata": {
    "application/vnd.databricks.v1+cell": {
     "cellMetadata": {
      "byteLimit": 2048000,
      "rowLimit": 10000
     },
     "inputWidgets": {},
     "nuid": "8896b077-0873-4f68-aec2-e7c450505df4",
     "showTitle": true,
     "tableResultSettingsMap": {},
     "title": "gold_feedbacksテーブル用CSVダウンロードfromGithub(shortcut ver)"
    }
   },
   "outputs": [
    {
     "output_type": "stream",
     "name": "stdout",
     "output_type": "stream",
     "text": [
      "Saving /Volumes/workspace/bricksmart/csv/gold_feedback.csv\n"
     ]
    }
   ],
   "source": [
    "import requests\n",
    "import os\n",
    "from concurrent.futures import ThreadPoolExecutor\n",
    "\n",
    "# gold_feedbacksテーブル用のCSVをGithubからボリュームにダウンロードする関数\n",
    "class DBDemos:\n",
    "    @staticmethod\n",
    "    def download_file_from_git(dest, owner, repo, path):\n",
    "        def download_file(url, destination):\n",
    "            local_filename = url.split('/')[-1]\n",
    "            with requests.get(url, stream=True) as r:\n",
    "                r.raise_for_status()\n",
    "                print(f'Saving {destination}/{local_filename}')\n",
    "                with open(f'{destination}/{local_filename}', 'wb') as f:\n",
    "                    for chunk in r.iter_content(chunk_size=8192):\n",
    "                        f.write(chunk)\n",
    "\n",
    "        if not os.path.exists(dest):\n",
    "            os.makedirs(dest)\n",
    "\n",
    "        api_url = f'https://api.github.com/repos/{owner}/{repo}/contents{path}'\n",
    "        files = requests.get(api_url).json()\n",
    "        download_urls = [f['download_url'] for f in files if isinstance(f, dict) and 'download_url' in f]\n",
    "\n",
    "        with ThreadPoolExecutor(max_workers=10) as executor:\n",
    "            executor.map(lambda url: download_file(url, dest), download_urls)\n",
    "\n",
    "# ダウンロード実行\n",
    "DBDemos.download_file_from_git(\n",
    "    dest=f\"/Volumes/{catalog}/{schema}/{volume}\",\n",
    "    owner=\"komae5519pv\",\n",
    "    repo=\"komae_dbdemos\",\n",
    "    path=\"/bootcamp_20250527/data/\"\n",
    ")"
   ]
  },
  {
   "cell_type": "code",
   "execution_count": 0,
   "metadata": {
    "application/vnd.databricks.v1+cell": {
     "cellMetadata": {
      "byteLimit": 2048000,
      "rowLimit": 10000
     },
     "inputWidgets": {},
     "nuid": "aea14122-3d21-4c48-9a60-07528749982a",
     "showTitle": true,
     "tableResultSettingsMap": {},
     "title": "gold_feedbacksテーブルの生成(shortcut ver)"
    }
   },
   "outputs": [
    {
     "output_type": "stream",
     "name": "stdout",
     "output_type": "stream",
     "text": [
      "200\n['feedback_id', 'user_id', 'product_id', 'rating', 'date', 'category', 'summary', 'positive_score', 'comment']\n"
     ]
    },
    {
     "output_type": "display_data",
     "data": {
      "text/html": [
       "<style scoped>\n",
       "  .table-result-container {\n",
       "    max-height: 300px;\n",
       "    overflow: auto;\n",
       "  }\n",
       "  table, th, td {\n",
       "    border: 1px solid black;\n",
       "    border-collapse: collapse;\n",
       "  }\n",
       "  th, td {\n",
       "    padding: 5px;\n",
       "  }\n",
       "  th {\n",
       "    text-align: left;\n",
       "  }\n",
       "</style><div class='table-result-container'><table class='table-result'><thead style='background-color: white'><tr><th>feedback_id</th><th>user_id</th><th>product_id</th><th>rating</th><th>date</th><th>category</th><th>summary</th><th>positive_score</th><th>comment</th></tr></thead><tbody><tr><td>28</td><td>9846</td><td>71</td><td>1.0</td><td>2023-12-23</td><td>コスパ・お得感</td><td>価格が高すぎて不満であり、再購入意思はない。</td><td>0.05</td><td>ここは本当に高すぎます。価格設定が非常に不満で、他の店と比べても倍以上の価格で買わされていると感じます。もう二度と買いません。</td></tr><tr><td>71</td><td>2010</td><td>75</td><td>1.0</td><td>2023-09-26</td><td>品揃え・在庫</td><td>品揃えが乏しく、欲しい商品が見つからない。</td><td>0.05</td><td>品揃えがひどい。欲しい商品が全く置いていないし、他の店舗で見かける商品すらない。何度も行ってもがっかりするばかりです。</td></tr><tr><td>6</td><td>465</td><td>61</td><td>2.0</td><td>2023-08-28</td><td>店舗設備・環境</td><td>店内は狭く商品整理が不十分で買い物しづらい。</td><td>0.15</td><td>店内の通路はやや狭く、商品があまり整理されていないと感じました。混雑している時間帯には歩きづらく、買い物がしにくかったです。改善してほしいです。</td></tr><tr><td>16</td><td>7602</td><td>48</td><td>2.0</td><td>2023-08-18</td><td>コスパ・お得感</td><td>セールが少なく、他店より魅力を感じにくい。</td><td>0.2</td><td>セールや特売があまり頻繁に行われないので、少しがっかりしています。お得感があまりないので、他の店に比べて魅力を感じにくいです。</td></tr><tr><td>64</td><td>7613</td><td>33</td><td>2.0</td><td>2023-03-24</td><td>品揃え・在庫</td><td>新商品の入荷が他店より遅い傾向がある。</td><td>0.35</td><td>新商品は時々見かけますが、他の店に比べると少し遅いかなと感じることがあります。</td></tr><tr><td>72</td><td>628</td><td>52</td><td>2.0</td><td>2023-06-26</td><td>コスパ・お得感</td><td>他店と比べて価格が割高に感じる。</td><td>0.2</td><td>価格が高いと感じることが多いです。特に他の店ではもっと安く買えることがあるので、ここでは少し割高に思ってしまいます。</td></tr><tr><td>90</td><td>3338</td><td>37</td><td>2.0</td><td>2023-11-06</td><td>店舗設備・環境</td><td>トイレとイートインスペースの清掃が不十分で不快感があった。</td><td>0.2</td><td>トイレは不潔ではないものの、清掃が行き届いておらず、少し不快感を感じました。イートインスペースもテーブルが汚れていて、清潔さが欠けていたので、もう少し気を使ってほしいと思いました。</td></tr><tr><td>92</td><td>5971</td><td>41</td><td>2.0</td><td>2023-12-12</td><td>品揃え・在庫</td><td>新商品の入荷頻度と入れ替えペースが遅い。</td><td>0.2</td><td>新商品があまり頻繁に入ってこないのが残念です。入れ替えのペースが遅いように感じます。</td></tr><tr><td>109</td><td>3105</td><td>33</td><td>2.0</td><td>2023-07-07</td><td>店舗設備・環境</td><td>トイレとイートインスペースの清掃が不十分で不快感があった。</td><td>0.2</td><td>トイレは不潔ではないものの、清掃が行き届いておらず、少し不快感を感じました。イートインスペースもテーブルが汚れていて、清潔さが欠けていたので、もう少し気を使ってほしいと思いました。</td></tr><tr><td>112</td><td>7473</td><td>30</td><td>2.0</td><td>2023-07-06</td><td>接客・サービス</td><td>店員は質問に答えたが、接客態度に改善の余地あり。</td><td>0.35</td><td>店員は質問には答えてくれたものの、少し無愛想に感じました。もう少し丁寧に対応してもらえたら、もっと気持ちよく買い物できたと思います。</td></tr><tr><td>118</td><td>3780</td><td>74</td><td>2.0</td><td>2023-06-18</td><td>接客・サービス</td><td>店員の態度が冷たく、温かみが欲しかった。</td><td>0.3</td><td>店員の態度は少し冷たかったです。簡単に説明はしてくれたものの、もう少し温かみがあればもっと快適に買い物できたかなと思います。</td></tr><tr><td>127</td><td>8042</td><td>92</td><td>2.0</td><td>2023-11-18</td><td>コスパ・お得感</td><td>セールは少なく、割引幅も小さいため失望している。</td><td>0.05</td><td>セールや特売がほとんどなく、あっても期待外れです。価格が高いままで、割引の幅も少なく、完全にがっかりしています。</td></tr><tr><td>188</td><td>7994</td><td>64</td><td>2.0</td><td>2023-10-19</td><td>品揃え・在庫</td><td>品揃えは良いが、在庫不足が時々あり改善を希望。</td><td>0.6</td><td>品揃えは悪くないですが、時々欲しい商品が売り切れていることがあります。もう少し在庫を多くしてもらえると嬉しいです。</td></tr><tr><td>8</td><td>3371</td><td>35</td><td>3.0</td><td>2023-08-03</td><td>接客・サービス</td><td>店員の態度は普通だが、もう少し親切さが欲しかった。</td><td>0.6</td><td>店員の態度はまあまあでしたが、もう少し明るくて親切だったらよかったかなと思います。それでも、問題なく買い物できたので、悪くはなかったです。</td></tr><tr><td>10</td><td>3978</td><td>58</td><td>3.0</td><td>2023-12-17</td><td>接客・サービス</td><td>店員の対応は少し遅かったが、最終的には問題なかった。</td><td>0.65</td><td>店員に質問したのですが、少しだけ対応が遅くて、少し不安になりました。でも、最終的には答えてくれたので、大きな問題ではありませんでした。</td></tr><tr><td>11</td><td>4001</td><td>25</td><td>3.0</td><td>2023-02-06</td><td>コスパ・お得感</td><td>他店に比べてポイント還元や割引の魅力が不足している。</td><td>0.2</td><td>ポイント還元や割引があっても、正直他の店ほどのインパクトはありません。もっと魅力的な制度を提供してほしいと思っています。</td></tr><tr><td>20</td><td>4757</td><td>9</td><td>3.0</td><td>2024-01-01</td><td>コスパ・お得感</td><td>他店と比べて特典の優遇が物足りない。</td><td>0.35</td><td>ポイント還元や割引があるけど、他の店に比べてそこまでお得感はありません。もう少し優遇されているといいなと思います。</td></tr><tr><td>21</td><td>9101</td><td>6</td><td>3.0</td><td>2023-06-22</td><td>品質</td><td>生鮮食品は時々新鮮さに欠けるが他店より良い。</td><td>0.55</td><td>生鮮食品は悪くないですが、たまに少し新鮮さに欠けることがあります。それでも、他の店に比べればまだマシです。</td></tr><tr><td>24</td><td>504</td><td>91</td><td>3.0</td><td>2023-02-05</td><td>品質</td><td>商品の品質にばらつきがあり、特に青果物の鮮度に不満がある。</td><td>0.3</td><td>商品の品質には少しばらつきがあります。特に果物や野菜は時々傷んでいることがあるので、もっと新鮮なものを期待していました。</td></tr><tr><td>29</td><td>9483</td><td>56</td><td>3.0</td><td>2023-02-13</td><td>接客・サービス</td><td>レジ対応は迅速だが笑顔と親しみやすさに欠けた。</td><td>0.55</td><td>レジ対応はまずまずでした。特に問題なく、商品を迅速に処理してくれましたが、笑顔が少なく感じました。価格に見合ったサービスだったかなと思いますが、もう少し親しみやすさがあれば良かったです。</td></tr><tr><td>33</td><td>6917</td><td>37</td><td>3.0</td><td>2023-02-09</td><td>店舗設備・環境</td><td>店内は整頓されているが狭く混雑していた。</td><td>0.65</td><td>店内は比較的きれいに整頓されていましたが、少し混雑していて通路が狭く感じることがありました。商品は見やすかったですが、もう少し広くしてくれるとありがたいです。</td></tr><tr><td>78</td><td>8194</td><td>22</td><td>3.0</td><td>2023-07-03</td><td>品揃え・在庫</td><td>おかずの品揃えは良いが、バリエーションを増やしてほしい。</td><td>0.65</td><td>おかずコーナーの品揃えは悪くないけれど、いつも同じなのでもっと工夫してもらえると嬉しいです。全体的には満足しています。</td></tr><tr><td>79</td><td>4194</td><td>66</td><td>3.0</td><td>2023-12-18</td><td>接客・サービス</td><td>レジ対応は丁寧だが時間がかかり改善の余地あり。</td><td>0.65</td><td>レジでの対応は丁寧でしたが、少し時間がかかってしまいました。価格に見合ったサービスだとは思いますが、もう少し速ければ、より満足度が高くなったのではないかと感じました。</td></tr><tr><td>86</td><td>9148</td><td>97</td><td>3.0</td><td>2023-02-04</td><td>店舗設備・環境</td><td>駐車場は広く清潔だが、一部に整理が必要な箇所あり。</td><td>0.65</td><td>駐車場は広めで、清潔感もありました。ただ、駐車場の一部にもう少し整理整頓が必要な部分があり、そこが少し気になりました。</td></tr><tr><td>87</td><td>4528</td><td>71</td><td>3.0</td><td>2023-05-15</td><td>接客・サービス</td><td>価格は妥当だが、商品とサービスの質が不十分。</td><td>0.35</td><td>価格はそこまで悪くないのですが、商品の質やサービスがその価格に見合っているとは言い切れません。特に接客がもう少し丁寧でスムーズだったら、全体的にもっと満足感が高かったと思います。</td></tr><tr><td>93</td><td>8772</td><td>6</td><td>3.0</td><td>2023-11-22</td><td>接客・サービス</td><td>スタッフの対応が遅く、接客の改善が必要。</td><td>0.3</td><td>スタッフの対応が遅かったです。何度か質問をしたのですが、すぐに答えてもらえなかったり、他のスタッフに確認する必要があったり。価格は問題ないですが、もう少しスムーズな接客が欲しいと思いました。</td></tr><tr><td>94</td><td>4635</td><td>63</td><td>3.0</td><td>2023-07-07</td><td>接客・サービス</td><td>店員の説明不足により確認に手間取った。</td><td>0.2</td><td>店員が少し説明が足りなかった気がします。何度か確認することになり、少し手間取ってしまいました。もう少し親切に案内してくれるとよかったと思います。</td></tr><tr><td>96</td><td>6748</td><td>34</td><td>3.0</td><td>2023-04-25</td><td>接客・サービス</td><td>レジ対応の改善で顧客満足度が上がる可能性あり。</td><td>0.35</td><td>レジで少し待たされましたし、対応も少し冷たかったです。お店の価格自体は悪くないですが、もう少し快適なレジ対応があれば、もっとリピーターになると思います。</td></tr><tr><td>102</td><td>7631</td><td>12</td><td>3.0</td><td>2023-07-12</td><td>接客・サービス</td><td>スタッフの対応は良いが接客スピードに改善の余地あり。</td><td>0.6</td><td>スタッフの対応は悪くはなかったのですが、ちょっと待たされたので、もう少しスムーズに接客が進めばいいと思います。値段に対しては特に問題なかったのですが、接客のスピードがもう少し速ければ、もっと快適に買い物できたかもしれません。</td></tr><tr><td>115</td><td>9210</td><td>13</td><td>3.0</td><td>2023-06-23</td><td>店舗設備・環境</td><td>店内は整理されているが一部商品が散らかっていた。</td><td>0.65</td><td>店内はきれいに整理されていて、通路も十分に広かったです。ただ、少し商品が散らかっている場所もあったので、もう少し気を使ってほしいとは思いました。</td></tr><tr><td>123</td><td>1985</td><td>22</td><td>3.0</td><td>2023-07-31</td><td>接客・サービス</td><td>店員の対応が素っ気なく、笑顔があれば良かった。</td><td>0.35</td><td>店員は悪くはないのですが、少し素っ気ない感じがしました。もう少し笑顔で接してくれると、もっと良い買い物ができたかなと思います。</td></tr><tr><td>129</td><td>4593</td><td>62</td><td>3.0</td><td>2023-09-23</td><td>接客・サービス</td><td>スタッフが質問を無視し、全く対応してくれなかった。</td><td>0.05</td><td>質問しても全然答えてくれず、無視されているような気分になりました。最終的にはスタッフがすれ違って通り過ぎただけで、全く助けてもらえませんでした。</td></tr><tr><td>137</td><td>2957</td><td>41</td><td>3.0</td><td>2023-07-13</td><td>店舗設備・環境</td><td>トイレとイートインスペースの清掃が不十分だった。</td><td>0.45</td><td>トイレは悪くはないですが、少し清掃が行き届いていない部分もありました。イートインスペースも普通で、特に問題はなかったけれど、もっと清潔感を感じられれば良かったと思います。</td></tr><tr><td>160</td><td>4914</td><td>41</td><td>3.0</td><td>2023-09-15</td><td>接客・サービス</td><td>店員の対応に一瞬不満があったが全体的には問題なし。</td><td>0.55</td><td>店員が案内してくれましたが、ちょっと不親切に感じた瞬間がありました。それでも、全体的には特に大きな問題ではありませんでした。</td></tr><tr><td>179</td><td>1985</td><td>71</td><td>3.0</td><td>2023-12-26</td><td>コスパ・お得感</td><td>セールの頻度が少なく、他店より物足りない印象。</td><td>0.35</td><td>セールや特売が時々ありますが、他の店舗と比べると少し物足りない感じがします。まあ、あっても利用するかどうかはその時次第ですが。</td></tr><tr><td>185</td><td>5324</td><td>35</td><td>3.0</td><td>2023-09-09</td><td>接客・サービス</td><td>価格と品質は満足だが接客サービスに改善の余地あり。</td><td>0.6</td><td>価格は他と比べて平均的で、商品自体の質も悪くはありませんでした。ただ、レジでの対応が少し遅かったり、サービスにもう少し工夫が欲しかったと感じる場面がありました。価格に対しては満足していますが、より良い体験を期待してしまいました。</td></tr><tr><td>187</td><td>9709</td><td>67</td><td>3.0</td><td>2023-10-30</td><td>コスパ・お得感</td><td>価格は高めだが、特に不満はない。</td><td>0.55</td><td>価格は少し高めに感じますが、特に不満があるわけではないです。もう少し安くなれば嬉しいですが、仕方ないかなとも思っています。</td></tr><tr><td>191</td><td>4435</td><td>80</td><td>3.0</td><td>2023-11-08</td><td>接客・サービス</td><td>店員の非協力的な対応で商品を自力で探した。</td><td>0.05</td><td>店員は全く協力的ではなく、説明が全く足りませんでした。迷ったまま店内をぐるぐる回る羽目になり、結局スタッフに頼らずに自力で探し出しました。</td></tr><tr><td>193</td><td>9176</td><td>61</td><td>3.0</td><td>2023-05-02</td><td>コスパ・お得感</td><td>おかずの味は不安定だが、価格の安さで利用継続中。</td><td>0.55</td><td>おかずはまずまずですが、たまにおいしくないものもあります。それでも安いので利用しています。</td></tr><tr><td>198</td><td>9845</td><td>11</td><td>3.0</td><td>2023-07-25</td><td>コスパ・お得感</td><td>安価でも品質が良く満足だが高額品はサービス向上を希望。</td><td>0.75</td><td>価格と商品の質は満足しています。安い価格帯の商品でもしっかりとした品質を保っており、良い買い物ができました。ただ、少し高めの商品を買う際には、もう少しサービス面でも特別感があると、さらに満足感が高くなったかなと思います。</td></tr><tr><td>199</td><td>2492</td><td>40</td><td>3.0</td><td>2023-11-29</td><td>接客・サービス</td><td>店員の説明が簡素で、より詳細な説明が欲しかった。</td><td>0.6</td><td>お店の人は簡単な説明をしてくれましたが、もう少し詳しく説明してくれたらよかったです。それでも、特に大きな問題はありませんでした。</td></tr><tr><td>1</td><td>3206</td><td>97</td><td>4.0</td><td>2023-04-09</td><td>接客・サービス</td><td>店員の対応は親切だが、返答速度に改善の余地あり。</td><td>0.75</td><td>店員は親切に対応してくれましたが、もう少し早く答えてもらえるともっと良かったです。ただ、全体的に良い印象を受けました。</td></tr><tr><td>4</td><td>3312</td><td>51</td><td>4.0</td><td>2023-03-27</td><td>品揃え・在庫</td><td>豊富な品揃えで珍しい商品も見つかる便利な店。</td><td>0.85</td><td>品揃えが豊富で、欲しい商品がだいたい揃っています。時々珍しい商品も見かけるので、そこも良いところです。</td></tr><tr><td>7</td><td>5364</td><td>75</td><td>4.0</td><td>2023-11-23</td><td>品揃え・在庫</td><td>豊富な品揃えで珍しい商品も見つかる店舗。</td><td>0.85</td><td>品揃えが豊富で、欲しい商品がだいたい揃っています。時々珍しい商品も見かけるので、そこも良いところです。</td></tr><tr><td>14</td><td>5092</td><td>37</td><td>4.0</td><td>2023-02-22</td><td>接客・サービス</td><td>親切な店員と清潔な店内で快適に買い物できた。</td><td>0.95</td><td>店員が非常にわかりやすく案内してくれたので、迷うことなく買い物できました。店舗の内装も清潔で、スタッフが常に気を配っている感じが伝わってきました。</td></tr><tr><td>18</td><td>1271</td><td>37</td><td>4.0</td><td>2023-01-27</td><td>コスパ・お得感</td><td>セールはお得だが頻度が少なく増加を望む。</td><td>0.6</td><td>セールや特売がたまに行われていて、まあまあお得に感じます。ただ、頻繁にあるわけではないので、もっとあればいいなと思います。</td></tr><tr><td>25</td><td>4213</td><td>79</td><td>4.0</td><td>2023-12-17</td><td>品揃え・在庫</td><td>商品の品揃えが豊富だった。</td><td>0.75</td><td>商品の品揃えが豊富でした。</td></tr><tr><td>26</td><td>3055</td><td>43</td><td>4.0</td><td>2023-04-05</td><td>店舗設備・環境</td><td>駐車場が広く清潔で、快適に利用できた。</td><td>0.95</td><td>駐車場が広く、清掃も行き届いていました。車を停めるスペースも多く、周囲が整備されていて、気持ちよく訪れることができました。</td></tr><tr><td>35</td><td>7969</td><td>11</td><td>4.0</td><td>2023-02-20</td><td>店舗設備・環境</td><td>店舗へのアクセスが便利だった。</td><td>0.75</td><td>店舗アクセスが便利でした。</td></tr><tr><td>36</td><td>528</td><td>80</td><td>4.0</td><td>2023-05-12</td><td>接客・サービス</td><td>店員の丁寧な対応で商品の場所がわかり助かった。</td><td>0.85</td><td>商品の場所がわからなくてお店の人に質問したら、丁寧に対応してくれて助かりました。</td></tr><tr><td>37</td><td>2891</td><td>67</td><td>4.0</td><td>2023-08-25</td><td>コスパ・お得感</td><td>適正価格で購入しやすいが、更なる割引を希望。</td><td>0.65</td><td>価格は適正だと思います。高すぎず、安すぎず、ちょうどいい価格帯で購入しやすいです。特に不満はないですが、もっとお得だと嬉しいです。</td></tr><tr><td>38</td><td>2910</td><td>28</td><td>4.0</td><td>2023-02-26</td><td>コスパ・お得感</td><td>ポイント還元や割引はあるが他店より少し劣る。</td><td>0.6</td><td>ポイント還元や割引があるのは嬉しいですが、他の店に比べると少しだけ劣る感じがします。でも、悪くはないです。</td></tr><tr><td>42</td><td>6003</td><td>75</td><td>4.0</td><td>2023-07-24</td><td>品揃え・在庫</td><td>チラシ商品の在庫不足が改善されれば満足度が上がる。</td><td>0.65</td><td>チラシの商品がすぐなくなる時があり、せっかく来店しても在庫切れで悲しく帰るしかないこともあります。全体的には満足しているので在庫だけもっとあると嬉しいです。</td></tr><tr><td>46</td><td>7805</td><td>10</td><td>4.0</td><td>2023-06-13</td><td>接客・サービス</td><td>レジ対応は丁寧だが混雑で時間がかかった。</td><td>0.75</td><td>レジでの対応はスムーズで、スタッフの笑顔がとても印象的でした。商品の袋詰めも丁寧にしてくれました。ただ、少し混雑していたため、もう少し早く対応してくれるともっと嬉しかったです。</td></tr><tr><td>54</td><td>8928</td><td>55</td><td>4.0</td><td>2023-04-28</td><td>コスパ・お得感</td><td>セールはたまにあるが、もっと頻繁にあるとよい。</td><td>0.6</td><td>セールや特売がたまに行われていて、まあまあお得に感じます。ただ、頻繁にあるわけではないので、もっとあればいいなと思います。</td></tr><tr><td>67</td><td>332</td><td>61</td><td>4.0</td><td>2023-12-10</td><td>コスパ・お得感</td><td>価格は特別安くはないが、満足できる水準。</td><td>0.65</td><td>価格はまあまあで、安すぎることはないですが、高すぎることもない感じです。特別安いわけではないですが、普通に満足しています。</td></tr><tr><td>76</td><td>5182</td><td>47</td><td>4.0</td><td>2023-09-06</td><td>コスパ・お得感</td><td>価格は特別安くはないが、満足できる水準。</td><td>0.6</td><td>価格はまあまあで、安すぎることはないですが、高すぎることもない感じです。特別安いわけではないですが、普通に満足しています。</td></tr><tr><td>85</td><td>3236</td><td>100</td><td>4.0</td><td>2023-05-10</td><td>コスパ・お得感</td><td>ポイント還元や割引はあるが、他店ほどの魅力はない。</td><td>0.55</td><td>ポイント還元や割引があって、そこそこお得感はありますが、他の店ほどのインパクトは感じません。悪くはないけれど、もっと充実しているとさらに良いです。</td></tr><tr><td>91</td><td>4673</td><td>57</td><td>4.0</td><td>2023-11-08</td><td>コスパ・お得感</td><td>適正価格で購入しやすいが、更なる割引を希望。</td><td>0.65</td><td>価格は適正だと思います。高すぎず、安すぎず、ちょうどいい価格帯で購入しやすいです。特に不満はないですが、もっとお得だと嬉しいです。</td></tr><tr><td>95</td><td>1002</td><td>27</td><td>4.0</td><td>2023-03-26</td><td>接客・サービス</td><td>笑顔で丁寧な店員のおかげで快適な買い物ができた。</td><td>0.95</td><td>店員が笑顔で、どんな質問にも丁寧に答えてくれたので、とても快適に過ごせました。すごく心地よい買い物ができて、次もここで買い物しようと思います。</td></tr><tr><td>100</td><td>4739</td><td>84</td><td>4.0</td><td>2023-03-09</td><td>その他</td><td>特に不満はなかった。</td><td>0.6</td><td>特に不満はありませんでした。</td></tr><tr><td>108</td><td>8281</td><td>66</td><td>4.0</td><td>2023-12-17</td><td>品揃え・在庫</td><td>常に新商品があり、訪問が楽しみな店舗。</td><td>0.95</td><td>常に新しい商品が入っていて、毎回訪れるのが楽しみです！新商品を見つけると、必ず手に取ってしまいます。</td></tr><tr><td>111</td><td>856</td><td>37</td><td>4.0</td><td>2023-02-14</td><td>接客・サービス</td><td>スタッフの対応が満足できるものだった。</td><td>0.85</td><td>スタッフの対応に満足しました。</td></tr><tr><td>120</td><td>3933</td><td>93</td><td>4.0</td><td>2023-06-09</td><td>品揃え・在庫</td><td>常に新商品があり、訪問が楽しみな店舗。</td><td>0.95</td><td>常に新しい商品が入っていて、毎回訪れるのが楽しみです！新商品を見つけると、必ず手に取ってしまいます。</td></tr><tr><td>121</td><td>2451</td><td>5</td><td>4.0</td><td>2023-02-28</td><td>接客・サービス</td><td>従業員の対応は機械的だが全体的に問題なし。</td><td>0.65</td><td>従業員はしっかり説明してくれましたが、少しだけ機械的な感じもしました。でも、対応自体は悪くなかったので、全体的には問題なく買い物できました。</td></tr><tr><td>124</td><td>4078</td><td>4</td><td>4.0</td><td>2023-07-01</td><td>店舗設備・環境</td><td>駐車場は便利だが清掃と整理が不十分。</td><td>0.45</td><td>駐車場は便利ですが、少し散らかっている感じがしました。車の通行には問題ありませんが、もう少し清掃や整理が行き届いていれば、より良い印象を受けたと思います。</td></tr><tr><td>126</td><td>7333</td><td>8</td><td>4.0</td><td>2023-09-04</td><td>接客・サービス</td><td>スタッフの対応はやや素っ気なく説明不足だが許容範囲。</td><td>0.45</td><td>スタッフの対応は悪くはないですが、他の店と比べると少しそっけない印象を受けました。説明が少し不十分に感じることもありましたが、特に大きな問題ではありませんでした。</td></tr><tr><td>138</td><td>7378</td><td>2</td><td>4.0</td><td>2023-04-21</td><td>接客・サービス</td><td>店員は少し不安そうだが親切で案内が分かりやすかった。</td><td>0.75</td><td>店員の案内はわかりやすく、すぐに目的の場所にたどり着けました。少しだけ不安そうな顔をしていたのが気になりましたが、親切さは感じました。</td></tr><tr><td>145</td><td>2047</td><td>7</td><td>4.0</td><td>2023-12-12</td><td>店舗設備・環境</td><td>トイレは清潔だが混雑し、イートインは快適。</td><td>0.65</td><td>トイレは清潔でしたが、少し混雑していたので、もう少し頻繁に掃除がされるとさらに良いと思います。イートインスペースは快適で、食事するには十分な環境でした。</td></tr><tr><td>146</td><td>65</td><td>21</td><td>4.0</td><td>2023-06-27</td><td>品揃え・在庫</td><td>新商品の入荷があり、訪問時に新しい発見がある。</td><td>0.75</td><td>新商品がたまに入っているので、足を運ぶたびに少し新しい発見があるのが良い点です。</td></tr><tr><td>156</td><td>4379</td><td>25</td><td>4.0</td><td>2023-01-16</td><td>コスパ・お得感</td><td>ポイント還元や割引はあるが、他店ほどの魅力はない。</td><td>0.55</td><td>ポイント還元や割引があって、そこそこお得感はありますが、他の店ほどのインパクトは感じません。悪くはないけれど、もっと充実しているとさらに良いです。</td></tr><tr><td>158</td><td>1388</td><td>89</td><td>4.0</td><td>2023-10-12</td><td>接客・サービス</td><td>従業員は親切だが、より親身な対応が望まれた。</td><td>0.55</td><td>従業員は親切でしたが、少し冷たい感じがしました。質問には答えてくれましたが、もう少し親身になってくれるとさらに良かったと思います。</td></tr><tr><td>162</td><td>5044</td><td>23</td><td>4.0</td><td>2023-02-06</td><td>コスパ・お得感</td><td>ポイント還元や割引はあるが他店より少し劣る。</td><td>0.6</td><td>ポイント還元や割引があるのは嬉しいですが、他の店に比べると少しだけ劣る感じがします。でも、悪くはないです。</td></tr><tr><td>163</td><td>680</td><td>26</td><td>4.0</td><td>2023-11-17</td><td>店舗設備・環境</td><td>店内の清潔さが安心感を与えた。</td><td>0.85</td><td>店内が清潔で安心できました。</td></tr><tr><td>170</td><td>2373</td><td>45</td><td>4.0</td><td>2023-10-29</td><td>品揃え・在庫</td><td>新商品の入荷があり、訪問時に新しい発見がある。</td><td>0.75</td><td>新商品がたまに入っているので、足を運ぶたびに少し新しい発見があるのが良い点です。</td></tr><tr><td>174</td><td>5963</td><td>83</td><td>4.0</td><td>2023-04-12</td><td>品質</td><td>新鮮で美味しい野菜や果物を含む高品質な商品。</td><td>0.85</td><td>ここの商品は全体的に良い品質だと思います。特に野菜や果物は新鮮で、美味しいです。</td></tr><tr><td>189</td><td>3818</td><td>13</td><td>4.0</td><td>2023-12-06</td><td>品質</td><td>新鮮で美味しい野菜や果物を含む高品質な商品。</td><td>0.85</td><td>ここの商品は全体的に良い品質だと思います。特に野菜や果物は新鮮で、美味しいです。</td></tr><tr><td>197</td><td>2958</td><td>74</td><td>4.0</td><td>2023-08-04</td><td>品揃え・在庫</td><td>チラシ商品の在庫不足が改善されれば満足度が上がる。</td><td>0.65</td><td>チラシの商品がすぐなくなる時があり、せっかく来店しても在庫切れで悲しく帰るしかないこともあります。全体的には満足しているので在庫だけもっとあると嬉しいです。</td></tr><tr><td>2</td><td>2856</td><td>3</td><td>5.0</td><td>2023-10-04</td><td>接客・サービス</td><td>店内の清潔さと接客の良さが印象的で再訪したい。</td><td>0.85</td><td>店内は綺麗だし、お店の人も気持ちいい対応してくれて良いですね。また利用したいと思います。</td></tr><tr><td>3</td><td>561</td><td>42</td><td>5.0</td><td>2023-09-24</td><td>コスパ・お得感</td><td>価格に対して高品質で最もお得なサービス。</td><td>0.95</td><td>価格に対して商品やサービスのクオリティが非常に高いです。どこに行ってもここが一番お得だと思います。</td></tr><tr><td>5</td><td>1768</td><td>43</td><td>5.0</td><td>2023-12-09</td><td>接客・サービス</td><td>店内の清潔さと接客の良さが印象的で再訪したい。</td><td>0.85</td><td>店内は綺麗だし、お店の人も気持ちいい対応してくれて良いですね。また利用したいと思います。</td></tr><tr><td>9</td><td>569</td><td>69</td><td>5.0</td><td>2023-02-28</td><td>接客・サービス</td><td>スタッフの対応は親切だが、接客速度に改善の余地あり。</td><td>0.85</td><td>スタッフの対応はとても良かったです。商品について詳しく説明してくれたり、質問にも親切に答えてくれたので安心して買い物ができました。ただ、もう少しスピードが速ければ、さらに良かったと思います。</td></tr><tr><td>12</td><td>4102</td><td>6</td><td>5.0</td><td>2023-02-02</td><td>接客・サービス</td><td>店員の親切で丁寧な対応に感動した。</td><td>0.95</td><td>店員さんがとても親切でした。困っているとすぐに気づいて、丁寧に説明してくれました。あんなに親身に対応してもらえたのは初めてで、感動しました！</td></tr><tr><td>13</td><td>6708</td><td>20</td><td>5.0</td><td>2023-12-20</td><td>接客・サービス</td><td>店内の清潔さと接客の良さが印象的で再訪したい。</td><td>0.85</td><td>店内は綺麗だし、お店の人も気持ちいい対応してくれて良いですね。また利用したいと思います。</td></tr><tr><td>15</td><td>6937</td><td>63</td><td>5.0</td><td>2023-04-04</td><td>接客・サービス</td><td>スタッフの対応は親切だが、接客速度に改善の余地あり。</td><td>0.85</td><td>スタッフの対応はとても良かったです。商品について詳しく説明してくれたり、質問にも親切に答えてくれたので安心して買い物ができました。ただ、もう少しスピードが速ければ、さらに良かったと思います。</td></tr><tr><td>17</td><td>7584</td><td>85</td><td>5.0</td><td>2023-02-18</td><td>品質</td><td>新鮮で高品質な食材、特に肉と魚が自慢の店。</td><td>0.95</td><td>ここのお店の食材は本当に新鮮で美味しい！特にお肉や魚は質が高くて、他のどの店でも同じクオリティは見たことがない。信頼しています。</td></tr><tr><td>19</td><td>7223</td><td>16</td><td>5.0</td><td>2023-07-23</td><td>コスパ・お得感</td><td>セールが充実しており、欲しい商品がお得に購入できる。</td><td>0.95</td><td>セールが大変充実していて、欲しかった商品が驚きの価格で手に入ることが多いです。毎回訪れるたびにお得な買い物ができて、本当にありがたいです。</td></tr><tr><td>22</td><td>8735</td><td>73</td><td>5.0</td><td>2023-04-06</td><td>店舗設備・環境</td><td>広々とした店内で商品が見やすく快適に買い物できた。</td><td>0.95</td><td>店内はとても広々としていて、通路も広くて歩きやすかったです。商品が綺麗に陳列されていて、どこに何があるかが一目でわかり、とても快適に買い物できました！</td></tr><tr><td>23</td><td>2580</td><td>29</td><td>5.0</td><td>2023-03-04</td><td>コスパ・お得感</td><td>セールや特売の割引が嬉しいが、もっと頻繁に開催してほしい。</td><td>0.75</td><td>セールや特売がたまに行われていて、割引もあるので嬉しいです。もっと頻繁にやってくれるとありがたいですね。</td></tr><tr><td>27</td><td>6104</td><td>99</td><td>5.0</td><td>2023-05-28</td><td>コスパ・お得感</td><td>セールが充実しており、欲しい商品がお得に購入できる。</td><td>0.95</td><td>セールが大変充実していて、欲しかった商品が驚きの価格で手に入ることが多いです。毎回訪れるたびにお得な買い物ができて、本当にありがたいです。</td></tr><tr><td>30</td><td>3564</td><td>48</td><td>5.0</td><td>2023-06-25</td><td>接客・サービス</td><td>スタッフの対応は良いが、接客スピードに改善の余地あり。</td><td>0.85</td><td>スタッフの対応はとても良かったです。商品について詳しく説明してくれたり、質問にも親切に答えてくれたので安心して買い物ができました。ただ、もう少しスピードが速ければ、さらに良かったと思います。</td></tr><tr><td>31</td><td>1183</td><td>74</td><td>5.0</td><td>2023-07-02</td><td>コスパ・お得感</td><td>この店は他店より安く高品質な商品が買える。</td><td>0.95</td><td>この店の価格は本当に素晴らしい！他の店では考えられないほど安くて、高品質の商品が手に入ります。特にお得感があり、いつも満足しています。</td></tr><tr><td>32</td><td>9541</td><td>8</td><td>5.0</td><td>2023-04-08</td><td>品揃え・在庫</td><td>他店にない珍しい商品が豊富に揃っている。</td><td>0.95</td><td>ここに来ると、本当に欲しかった商品がいつも見つかる！他の店では見かけないような珍しい商品まで取り揃えていて、毎回驚かされます。</td></tr><tr><td>34</td><td>1416</td><td>2</td><td>5.0</td><td>2023-07-29</td><td>品揃え・在庫</td><td>この店は珍しい商品が豊富で欲しいものが必ず見つかる。</td><td>0.95</td><td>ここに来ると、本当に欲しかった商品がいつも見つかる！他の店では見かけないような珍しい商品まで取り揃えていて、毎回驚かされます。</td></tr><tr><td>39</td><td>4102</td><td>45</td><td>5.0</td><td>2023-02-09</td><td>コスパ・お得感</td><td>高いポイント還元率と割引制度で利用するほどお得になる。</td><td>0.95</td><td>ポイント還元率が非常に高くて、割引制度も素晴らしい！何度も利用しているうちに、どんどんお得になっていく感覚があって、絶対にお得感があります。</td></tr><tr><td>40</td><td>1350</td><td>17</td><td>5.0</td><td>2023-06-15</td><td>店舗設備・環境</td><td>広々とした店内で商品が見やすく配置され、快適に買い物できた。</td><td>0.95</td><td>店内はとても広々としていて、通路も広くて歩きやすかったです。商品が綺麗に陳列されていて、どこに何があるかが一目でわかり、とても快適に買い物できました！</td></tr><tr><td>41</td><td>2843</td><td>90</td><td>5.0</td><td>2023-11-11</td><td>接客・サービス</td><td>店内が清潔で接客も良く、再訪したいと思える店。</td><td>0.85</td><td>店内は綺麗だし、お店の人も気持ちいい対応してくれて良いですね。また利用したいと思います。</td></tr><tr><td>43</td><td>5657</td><td>81</td><td>5.0</td><td>2023-03-25</td><td>コスパ・お得感</td><td>価格に対して高品質で最もお得なサービス。</td><td>0.95</td><td>価格に対して商品やサービスのクオリティが非常に高いです。どこに行ってもここが一番お得だと思います。</td></tr><tr><td>44</td><td>6329</td><td>73</td><td>5.0</td><td>2023-10-14</td><td>品揃え・在庫</td><td>他店にない珍しい商品が豊富に揃っている。</td><td>0.95</td><td>ここに来ると、本当に欲しかった商品がいつも見つかる！他の店では見かけないような珍しい商品まで取り揃えていて、毎回驚かされます。</td></tr><tr><td>45</td><td>7421</td><td>35</td><td>5.0</td><td>2023-07-12</td><td>コスパ・お得感</td><td>価格に対して高品質で最もお得なサービス。</td><td>0.95</td><td>価格に対して商品やサービスのクオリティが非常に高いです。どこに行ってもここが一番お得だと思います。</td></tr></tbody></table></div>"
      ]
     },
     "metadata": {
      "application/vnd.databricks.v1+output": {
       "addedWidgets": {},
       "aggData": [],
       "aggError": "",
       "aggOverflow": false,
       "aggSchema": [],
       "aggSeriesLimitReached": false,
       "aggType": "",
       "arguments": {},
       "columnCustomDisplayInfos": {},
       "data": [
        [
         28,
         9846,
         71,
         1.0,
         "2023-12-23",
         "コスパ・お得感",
         "価格が高すぎて不満であり、再購入意思はない。",
         0.05,
         "ここは本当に高すぎます。価格設定が非常に不満で、他の店と比べても倍以上の価格で買わされていると感じます。もう二度と買いません。"
        ],
        [
         71,
         2010,
         75,
         1.0,
         "2023-09-26",
         "品揃え・在庫",
         "品揃えが乏しく、欲しい商品が見つからない。",
         0.05,
         "品揃えがひどい。欲しい商品が全く置いていないし、他の店舗で見かける商品すらない。何度も行ってもがっかりするばかりです。"
        ],
        [
         6,
         465,
         61,
         2.0,
         "2023-08-28",
         "店舗設備・環境",
         "店内は狭く商品整理が不十分で買い物しづらい。",
         0.15,
         "店内の通路はやや狭く、商品があまり整理されていないと感じました。混雑している時間帯には歩きづらく、買い物がしにくかったです。改善してほしいです。"
        ],
        [
         16,
         7602,
         48,
         2.0,
         "2023-08-18",
         "コスパ・お得感",
         "セールが少なく、他店より魅力を感じにくい。",
         0.2,
         "セールや特売があまり頻繁に行われないので、少しがっかりしています。お得感があまりないので、他の店に比べて魅力を感じにくいです。"
        ],
        [
         64,
         7613,
         33,
         2.0,
         "2023-03-24",
         "品揃え・在庫",
         "新商品の入荷が他店より遅い傾向がある。",
         0.35,
         "新商品は時々見かけますが、他の店に比べると少し遅いかなと感じることがあります。"
        ],
        [
         72,
         628,
         52,
         2.0,
         "2023-06-26",
         "コスパ・お得感",
         "他店と比べて価格が割高に感じる。",
         0.2,
         "価格が高いと感じることが多いです。特に他の店ではもっと安く買えることがあるので、ここでは少し割高に思ってしまいます。"
        ],
        [
         90,
         3338,
         37,
         2.0,
         "2023-11-06",
         "店舗設備・環境",
         "トイレとイートインスペースの清掃が不十分で不快感があった。",
         0.2,
         "トイレは不潔ではないものの、清掃が行き届いておらず、少し不快感を感じました。イートインスペースもテーブルが汚れていて、清潔さが欠けていたので、もう少し気を使ってほしいと思いました。"
        ],
        [
         92,
         5971,
         41,
         2.0,
         "2023-12-12",
         "品揃え・在庫",
         "新商品の入荷頻度と入れ替えペースが遅い。",
         0.2,
         "新商品があまり頻繁に入ってこないのが残念です。入れ替えのペースが遅いように感じます。"
        ],
        [
         109,
         3105,
         33,
         2.0,
         "2023-07-07",
         "店舗設備・環境",
         "トイレとイートインスペースの清掃が不十分で不快感があった。",
         0.2,
         "トイレは不潔ではないものの、清掃が行き届いておらず、少し不快感を感じました。イートインスペースもテーブルが汚れていて、清潔さが欠けていたので、もう少し気を使ってほしいと思いました。"
        ],
        [
         112,
         7473,
         30,
         2.0,
         "2023-07-06",
         "接客・サービス",
         "店員は質問に答えたが、接客態度に改善の余地あり。",
         0.35,
         "店員は質問には答えてくれたものの、少し無愛想に感じました。もう少し丁寧に対応してもらえたら、もっと気持ちよく買い物できたと思います。"
        ],
        [
         118,
         3780,
         74,
         2.0,
         "2023-06-18",
         "接客・サービス",
         "店員の態度が冷たく、温かみが欲しかった。",
         0.3,
         "店員の態度は少し冷たかったです。簡単に説明はしてくれたものの、もう少し温かみがあればもっと快適に買い物できたかなと思います。"
        ],
        [
         127,
         8042,
         92,
         2.0,
         "2023-11-18",
         "コスパ・お得感",
         "セールは少なく、割引幅も小さいため失望している。",
         0.05,
         "セールや特売がほとんどなく、あっても期待外れです。価格が高いままで、割引の幅も少なく、完全にがっかりしています。"
        ],
        [
         188,
         7994,
         64,
         2.0,
         "2023-10-19",
         "品揃え・在庫",
         "品揃えは良いが、在庫不足が時々あり改善を希望。",
         0.6,
         "品揃えは悪くないですが、時々欲しい商品が売り切れていることがあります。もう少し在庫を多くしてもらえると嬉しいです。"
        ],
        [
         8,
         3371,
         35,
         3.0,
         "2023-08-03",
         "接客・サービス",
         "店員の態度は普通だが、もう少し親切さが欲しかった。",
         0.6,
         "店員の態度はまあまあでしたが、もう少し明るくて親切だったらよかったかなと思います。それでも、問題なく買い物できたので、悪くはなかったです。"
        ],
        [
         10,
         3978,
         58,
         3.0,
         "2023-12-17",
         "接客・サービス",
         "店員の対応は少し遅かったが、最終的には問題なかった。",
         0.65,
         "店員に質問したのですが、少しだけ対応が遅くて、少し不安になりました。でも、最終的には答えてくれたので、大きな問題ではありませんでした。"
        ],
        [
         11,
         4001,
         25,
         3.0,
         "2023-02-06",
         "コスパ・お得感",
         "他店に比べてポイント還元や割引の魅力が不足している。",
         0.2,
         "ポイント還元や割引があっても、正直他の店ほどのインパクトはありません。もっと魅力的な制度を提供してほしいと思っています。"
        ],
        [
         20,
         4757,
         9,
         3.0,
         "2024-01-01",
         "コスパ・お得感",
         "他店と比べて特典の優遇が物足りない。",
         0.35,
         "ポイント還元や割引があるけど、他の店に比べてそこまでお得感はありません。もう少し優遇されているといいなと思います。"
        ],
        [
         21,
         9101,
         6,
         3.0,
         "2023-06-22",
         "品質",
         "生鮮食品は時々新鮮さに欠けるが他店より良い。",
         0.55,
         "生鮮食品は悪くないですが、たまに少し新鮮さに欠けることがあります。それでも、他の店に比べればまだマシです。"
        ],
        [
         24,
         504,
         91,
         3.0,
         "2023-02-05",
         "品質",
         "商品の品質にばらつきがあり、特に青果物の鮮度に不満がある。",
         0.3,
         "商品の品質には少しばらつきがあります。特に果物や野菜は時々傷んでいることがあるので、もっと新鮮なものを期待していました。"
        ],
        [
         29,
         9483,
         56,
         3.0,
         "2023-02-13",
         "接客・サービス",
         "レジ対応は迅速だが笑顔と親しみやすさに欠けた。",
         0.55,
         "レジ対応はまずまずでした。特に問題なく、商品を迅速に処理してくれましたが、笑顔が少なく感じました。価格に見合ったサービスだったかなと思いますが、もう少し親しみやすさがあれば良かったです。"
        ],
        [
         33,
         6917,
         37,
         3.0,
         "2023-02-09",
         "店舗設備・環境",
         "店内は整頓されているが狭く混雑していた。",
         0.65,
         "店内は比較的きれいに整頓されていましたが、少し混雑していて通路が狭く感じることがありました。商品は見やすかったですが、もう少し広くしてくれるとありがたいです。"
        ],
        [
         78,
         8194,
         22,
         3.0,
         "2023-07-03",
         "品揃え・在庫",
         "おかずの品揃えは良いが、バリエーションを増やしてほしい。",
         0.65,
         "おかずコーナーの品揃えは悪くないけれど、いつも同じなのでもっと工夫してもらえると嬉しいです。全体的には満足しています。"
        ],
        [
         79,
         4194,
         66,
         3.0,
         "2023-12-18",
         "接客・サービス",
         "レジ対応は丁寧だが時間がかかり改善の余地あり。",
         0.65,
         "レジでの対応は丁寧でしたが、少し時間がかかってしまいました。価格に見合ったサービスだとは思いますが、もう少し速ければ、より満足度が高くなったのではないかと感じました。"
        ],
        [
         86,
         9148,
         97,
         3.0,
         "2023-02-04",
         "店舗設備・環境",
         "駐車場は広く清潔だが、一部に整理が必要な箇所あり。",
         0.65,
         "駐車場は広めで、清潔感もありました。ただ、駐車場の一部にもう少し整理整頓が必要な部分があり、そこが少し気になりました。"
        ],
        [
         87,
         4528,
         71,
         3.0,
         "2023-05-15",
         "接客・サービス",
         "価格は妥当だが、商品とサービスの質が不十分。",
         0.35,
         "価格はそこまで悪くないのですが、商品の質やサービスがその価格に見合っているとは言い切れません。特に接客がもう少し丁寧でスムーズだったら、全体的にもっと満足感が高かったと思います。"
        ],
        [
         93,
         8772,
         6,
         3.0,
         "2023-11-22",
         "接客・サービス",
         "スタッフの対応が遅く、接客の改善が必要。",
         0.3,
         "スタッフの対応が遅かったです。何度か質問をしたのですが、すぐに答えてもらえなかったり、他のスタッフに確認する必要があったり。価格は問題ないですが、もう少しスムーズな接客が欲しいと思いました。"
        ],
        [
         94,
         4635,
         63,
         3.0,
         "2023-07-07",
         "接客・サービス",
         "店員の説明不足により確認に手間取った。",
         0.2,
         "店員が少し説明が足りなかった気がします。何度か確認することになり、少し手間取ってしまいました。もう少し親切に案内してくれるとよかったと思います。"
        ],
        [
         96,
         6748,
         34,
         3.0,
         "2023-04-25",
         "接客・サービス",
         "レジ対応の改善で顧客満足度が上がる可能性あり。",
         0.35,
         "レジで少し待たされましたし、対応も少し冷たかったです。お店の価格自体は悪くないですが、もう少し快適なレジ対応があれば、もっとリピーターになると思います。"
        ],
        [
         102,
         7631,
         12,
         3.0,
         "2023-07-12",
         "接客・サービス",
         "スタッフの対応は良いが接客スピードに改善の余地あり。",
         0.6,
         "スタッフの対応は悪くはなかったのですが、ちょっと待たされたので、もう少しスムーズに接客が進めばいいと思います。値段に対しては特に問題なかったのですが、接客のスピードがもう少し速ければ、もっと快適に買い物できたかもしれません。"
        ],
        [
         115,
         9210,
         13,
         3.0,
         "2023-06-23",
         "店舗設備・環境",
         "店内は整理されているが一部商品が散らかっていた。",
         0.65,
         "店内はきれいに整理されていて、通路も十分に広かったです。ただ、少し商品が散らかっている場所もあったので、もう少し気を使ってほしいとは思いました。"
        ],
        [
         123,
         1985,
         22,
         3.0,
         "2023-07-31",
         "接客・サービス",
         "店員の対応が素っ気なく、笑顔があれば良かった。",
         0.35,
         "店員は悪くはないのですが、少し素っ気ない感じがしました。もう少し笑顔で接してくれると、もっと良い買い物ができたかなと思います。"
        ],
        [
         129,
         4593,
         62,
         3.0,
         "2023-09-23",
         "接客・サービス",
         "スタッフが質問を無視し、全く対応してくれなかった。",
         0.05,
         "質問しても全然答えてくれず、無視されているような気分になりました。最終的にはスタッフがすれ違って通り過ぎただけで、全く助けてもらえませんでした。"
        ],
        [
         137,
         2957,
         41,
         3.0,
         "2023-07-13",
         "店舗設備・環境",
         "トイレとイートインスペースの清掃が不十分だった。",
         0.45,
         "トイレは悪くはないですが、少し清掃が行き届いていない部分もありました。イートインスペースも普通で、特に問題はなかったけれど、もっと清潔感を感じられれば良かったと思います。"
        ],
        [
         160,
         4914,
         41,
         3.0,
         "2023-09-15",
         "接客・サービス",
         "店員の対応に一瞬不満があったが全体的には問題なし。",
         0.55,
         "店員が案内してくれましたが、ちょっと不親切に感じた瞬間がありました。それでも、全体的には特に大きな問題ではありませんでした。"
        ],
        [
         179,
         1985,
         71,
         3.0,
         "2023-12-26",
         "コスパ・お得感",
         "セールの頻度が少なく、他店より物足りない印象。",
         0.35,
         "セールや特売が時々ありますが、他の店舗と比べると少し物足りない感じがします。まあ、あっても利用するかどうかはその時次第ですが。"
        ],
        [
         185,
         5324,
         35,
         3.0,
         "2023-09-09",
         "接客・サービス",
         "価格と品質は満足だが接客サービスに改善の余地あり。",
         0.6,
         "価格は他と比べて平均的で、商品自体の質も悪くはありませんでした。ただ、レジでの対応が少し遅かったり、サービスにもう少し工夫が欲しかったと感じる場面がありました。価格に対しては満足していますが、より良い体験を期待してしまいました。"
        ],
        [
         187,
         9709,
         67,
         3.0,
         "2023-10-30",
         "コスパ・お得感",
         "価格は高めだが、特に不満はない。",
         0.55,
         "価格は少し高めに感じますが、特に不満があるわけではないです。もう少し安くなれば嬉しいですが、仕方ないかなとも思っています。"
        ],
        [
         191,
         4435,
         80,
         3.0,
         "2023-11-08",
         "接客・サービス",
         "店員の非協力的な対応で商品を自力で探した。",
         0.05,
         "店員は全く協力的ではなく、説明が全く足りませんでした。迷ったまま店内をぐるぐる回る羽目になり、結局スタッフに頼らずに自力で探し出しました。"
        ],
        [
         193,
         9176,
         61,
         3.0,
         "2023-05-02",
         "コスパ・お得感",
         "おかずの味は不安定だが、価格の安さで利用継続中。",
         0.55,
         "おかずはまずまずですが、たまにおいしくないものもあります。それでも安いので利用しています。"
        ],
        [
         198,
         9845,
         11,
         3.0,
         "2023-07-25",
         "コスパ・お得感",
         "安価でも品質が良く満足だが高額品はサービス向上を希望。",
         0.75,
         "価格と商品の質は満足しています。安い価格帯の商品でもしっかりとした品質を保っており、良い買い物ができました。ただ、少し高めの商品を買う際には、もう少しサービス面でも特別感があると、さらに満足感が高くなったかなと思います。"
        ],
        [
         199,
         2492,
         40,
         3.0,
         "2023-11-29",
         "接客・サービス",
         "店員の説明が簡素で、より詳細な説明が欲しかった。",
         0.6,
         "お店の人は簡単な説明をしてくれましたが、もう少し詳しく説明してくれたらよかったです。それでも、特に大きな問題はありませんでした。"
        ],
        [
         1,
         3206,
         97,
         4.0,
         "2023-04-09",
         "接客・サービス",
         "店員の対応は親切だが、返答速度に改善の余地あり。",
         0.75,
         "店員は親切に対応してくれましたが、もう少し早く答えてもらえるともっと良かったです。ただ、全体的に良い印象を受けました。"
        ],
        [
         4,
         3312,
         51,
         4.0,
         "2023-03-27",
         "品揃え・在庫",
         "豊富な品揃えで珍しい商品も見つかる便利な店。",
         0.85,
         "品揃えが豊富で、欲しい商品がだいたい揃っています。時々珍しい商品も見かけるので、そこも良いところです。"
        ],
        [
         7,
         5364,
         75,
         4.0,
         "2023-11-23",
         "品揃え・在庫",
         "豊富な品揃えで珍しい商品も見つかる店舗。",
         0.85,
         "品揃えが豊富で、欲しい商品がだいたい揃っています。時々珍しい商品も見かけるので、そこも良いところです。"
        ],
        [
         14,
         5092,
         37,
         4.0,
         "2023-02-22",
         "接客・サービス",
         "親切な店員と清潔な店内で快適に買い物できた。",
         0.95,
         "店員が非常にわかりやすく案内してくれたので、迷うことなく買い物できました。店舗の内装も清潔で、スタッフが常に気を配っている感じが伝わってきました。"
        ],
        [
         18,
         1271,
         37,
         4.0,
         "2023-01-27",
         "コスパ・お得感",
         "セールはお得だが頻度が少なく増加を望む。",
         0.6,
         "セールや特売がたまに行われていて、まあまあお得に感じます。ただ、頻繁にあるわけではないので、もっとあればいいなと思います。"
        ],
        [
         25,
         4213,
         79,
         4.0,
         "2023-12-17",
         "品揃え・在庫",
         "商品の品揃えが豊富だった。",
         0.75,
         "商品の品揃えが豊富でした。"
        ],
        [
         26,
         3055,
         43,
         4.0,
         "2023-04-05",
         "店舗設備・環境",
         "駐車場が広く清潔で、快適に利用できた。",
         0.95,
         "駐車場が広く、清掃も行き届いていました。車を停めるスペースも多く、周囲が整備されていて、気持ちよく訪れることができました。"
        ],
        [
         35,
         7969,
         11,
         4.0,
         "2023-02-20",
         "店舗設備・環境",
         "店舗へのアクセスが便利だった。",
         0.75,
         "店舗アクセスが便利でした。"
        ],
        [
         36,
         528,
         80,
         4.0,
         "2023-05-12",
         "接客・サービス",
         "店員の丁寧な対応で商品の場所がわかり助かった。",
         0.85,
         "商品の場所がわからなくてお店の人に質問したら、丁寧に対応してくれて助かりました。"
        ],
        [
         37,
         2891,
         67,
         4.0,
         "2023-08-25",
         "コスパ・お得感",
         "適正価格で購入しやすいが、更なる割引を希望。",
         0.65,
         "価格は適正だと思います。高すぎず、安すぎず、ちょうどいい価格帯で購入しやすいです。特に不満はないですが、もっとお得だと嬉しいです。"
        ],
        [
         38,
         2910,
         28,
         4.0,
         "2023-02-26",
         "コスパ・お得感",
         "ポイント還元や割引はあるが他店より少し劣る。",
         0.6,
         "ポイント還元や割引があるのは嬉しいですが、他の店に比べると少しだけ劣る感じがします。でも、悪くはないです。"
        ],
        [
         42,
         6003,
         75,
         4.0,
         "2023-07-24",
         "品揃え・在庫",
         "チラシ商品の在庫不足が改善されれば満足度が上がる。",
         0.65,
         "チラシの商品がすぐなくなる時があり、せっかく来店しても在庫切れで悲しく帰るしかないこともあります。全体的には満足しているので在庫だけもっとあると嬉しいです。"
        ],
        [
         46,
         7805,
         10,
         4.0,
         "2023-06-13",
         "接客・サービス",
         "レジ対応は丁寧だが混雑で時間がかかった。",
         0.75,
         "レジでの対応はスムーズで、スタッフの笑顔がとても印象的でした。商品の袋詰めも丁寧にしてくれました。ただ、少し混雑していたため、もう少し早く対応してくれるともっと嬉しかったです。"
        ],
        [
         54,
         8928,
         55,
         4.0,
         "2023-04-28",
         "コスパ・お得感",
         "セールはたまにあるが、もっと頻繁にあるとよい。",
         0.6,
         "セールや特売がたまに行われていて、まあまあお得に感じます。ただ、頻繁にあるわけではないので、もっとあればいいなと思います。"
        ],
        [
         67,
         332,
         61,
         4.0,
         "2023-12-10",
         "コスパ・お得感",
         "価格は特別安くはないが、満足できる水準。",
         0.65,
         "価格はまあまあで、安すぎることはないですが、高すぎることもない感じです。特別安いわけではないですが、普通に満足しています。"
        ],
        [
         76,
         5182,
         47,
         4.0,
         "2023-09-06",
         "コスパ・お得感",
         "価格は特別安くはないが、満足できる水準。",
         0.6,
         "価格はまあまあで、安すぎることはないですが、高すぎることもない感じです。特別安いわけではないですが、普通に満足しています。"
        ],
        [
         85,
         3236,
         100,
         4.0,
         "2023-05-10",
         "コスパ・お得感",
         "ポイント還元や割引はあるが、他店ほどの魅力はない。",
         0.55,
         "ポイント還元や割引があって、そこそこお得感はありますが、他の店ほどのインパクトは感じません。悪くはないけれど、もっと充実しているとさらに良いです。"
        ],
        [
         91,
         4673,
         57,
         4.0,
         "2023-11-08",
         "コスパ・お得感",
         "適正価格で購入しやすいが、更なる割引を希望。",
         0.65,
         "価格は適正だと思います。高すぎず、安すぎず、ちょうどいい価格帯で購入しやすいです。特に不満はないですが、もっとお得だと嬉しいです。"
        ],
        [
         95,
         1002,
         27,
         4.0,
         "2023-03-26",
         "接客・サービス",
         "笑顔で丁寧な店員のおかげで快適な買い物ができた。",
         0.95,
         "店員が笑顔で、どんな質問にも丁寧に答えてくれたので、とても快適に過ごせました。すごく心地よい買い物ができて、次もここで買い物しようと思います。"
        ],
        [
         100,
         4739,
         84,
         4.0,
         "2023-03-09",
         "その他",
         "特に不満はなかった。",
         0.6,
         "特に不満はありませんでした。"
        ],
        [
         108,
         8281,
         66,
         4.0,
         "2023-12-17",
         "品揃え・在庫",
         "常に新商品があり、訪問が楽しみな店舗。",
         0.95,
         "常に新しい商品が入っていて、毎回訪れるのが楽しみです！新商品を見つけると、必ず手に取ってしまいます。"
        ],
        [
         111,
         856,
         37,
         4.0,
         "2023-02-14",
         "接客・サービス",
         "スタッフの対応が満足できるものだった。",
         0.85,
         "スタッフの対応に満足しました。"
        ],
        [
         120,
         3933,
         93,
         4.0,
         "2023-06-09",
         "品揃え・在庫",
         "常に新商品があり、訪問が楽しみな店舗。",
         0.95,
         "常に新しい商品が入っていて、毎回訪れるのが楽しみです！新商品を見つけると、必ず手に取ってしまいます。"
        ],
        [
         121,
         2451,
         5,
         4.0,
         "2023-02-28",
         "接客・サービス",
         "従業員の対応は機械的だが全体的に問題なし。",
         0.65,
         "従業員はしっかり説明してくれましたが、少しだけ機械的な感じもしました。でも、対応自体は悪くなかったので、全体的には問題なく買い物できました。"
        ],
        [
         124,
         4078,
         4,
         4.0,
         "2023-07-01",
         "店舗設備・環境",
         "駐車場は便利だが清掃と整理が不十分。",
         0.45,
         "駐車場は便利ですが、少し散らかっている感じがしました。車の通行には問題ありませんが、もう少し清掃や整理が行き届いていれば、より良い印象を受けたと思います。"
        ],
        [
         126,
         7333,
         8,
         4.0,
         "2023-09-04",
         "接客・サービス",
         "スタッフの対応はやや素っ気なく説明不足だが許容範囲。",
         0.45,
         "スタッフの対応は悪くはないですが、他の店と比べると少しそっけない印象を受けました。説明が少し不十分に感じることもありましたが、特に大きな問題ではありませんでした。"
        ],
        [
         138,
         7378,
         2,
         4.0,
         "2023-04-21",
         "接客・サービス",
         "店員は少し不安そうだが親切で案内が分かりやすかった。",
         0.75,
         "店員の案内はわかりやすく、すぐに目的の場所にたどり着けました。少しだけ不安そうな顔をしていたのが気になりましたが、親切さは感じました。"
        ],
        [
         145,
         2047,
         7,
         4.0,
         "2023-12-12",
         "店舗設備・環境",
         "トイレは清潔だが混雑し、イートインは快適。",
         0.65,
         "トイレは清潔でしたが、少し混雑していたので、もう少し頻繁に掃除がされるとさらに良いと思います。イートインスペースは快適で、食事するには十分な環境でした。"
        ],
        [
         146,
         65,
         21,
         4.0,
         "2023-06-27",
         "品揃え・在庫",
         "新商品の入荷があり、訪問時に新しい発見がある。",
         0.75,
         "新商品がたまに入っているので、足を運ぶたびに少し新しい発見があるのが良い点です。"
        ],
        [
         156,
         4379,
         25,
         4.0,
         "2023-01-16",
         "コスパ・お得感",
         "ポイント還元や割引はあるが、他店ほどの魅力はない。",
         0.55,
         "ポイント還元や割引があって、そこそこお得感はありますが、他の店ほどのインパクトは感じません。悪くはないけれど、もっと充実しているとさらに良いです。"
        ],
        [
         158,
         1388,
         89,
         4.0,
         "2023-10-12",
         "接客・サービス",
         "従業員は親切だが、より親身な対応が望まれた。",
         0.55,
         "従業員は親切でしたが、少し冷たい感じがしました。質問には答えてくれましたが、もう少し親身になってくれるとさらに良かったと思います。"
        ],
        [
         162,
         5044,
         23,
         4.0,
         "2023-02-06",
         "コスパ・お得感",
         "ポイント還元や割引はあるが他店より少し劣る。",
         0.6,
         "ポイント還元や割引があるのは嬉しいですが、他の店に比べると少しだけ劣る感じがします。でも、悪くはないです。"
        ],
        [
         163,
         680,
         26,
         4.0,
         "2023-11-17",
         "店舗設備・環境",
         "店内の清潔さが安心感を与えた。",
         0.85,
         "店内が清潔で安心できました。"
        ],
        [
         170,
         2373,
         45,
         4.0,
         "2023-10-29",
         "品揃え・在庫",
         "新商品の入荷があり、訪問時に新しい発見がある。",
         0.75,
         "新商品がたまに入っているので、足を運ぶたびに少し新しい発見があるのが良い点です。"
        ],
        [
         174,
         5963,
         83,
         4.0,
         "2023-04-12",
         "品質",
         "新鮮で美味しい野菜や果物を含む高品質な商品。",
         0.85,
         "ここの商品は全体的に良い品質だと思います。特に野菜や果物は新鮮で、美味しいです。"
        ],
        [
         189,
         3818,
         13,
         4.0,
         "2023-12-06",
         "品質",
         "新鮮で美味しい野菜や果物を含む高品質な商品。",
         0.85,
         "ここの商品は全体的に良い品質だと思います。特に野菜や果物は新鮮で、美味しいです。"
        ],
        [
         197,
         2958,
         74,
         4.0,
         "2023-08-04",
         "品揃え・在庫",
         "チラシ商品の在庫不足が改善されれば満足度が上がる。",
         0.65,
         "チラシの商品がすぐなくなる時があり、せっかく来店しても在庫切れで悲しく帰るしかないこともあります。全体的には満足しているので在庫だけもっとあると嬉しいです。"
        ],
        [
         2,
         2856,
         3,
         5.0,
         "2023-10-04",
         "接客・サービス",
         "店内の清潔さと接客の良さが印象的で再訪したい。",
         0.85,
         "店内は綺麗だし、お店の人も気持ちいい対応してくれて良いですね。また利用したいと思います。"
        ],
        [
         3,
         561,
         42,
         5.0,
         "2023-09-24",
         "コスパ・お得感",
         "価格に対して高品質で最もお得なサービス。",
         0.95,
         "価格に対して商品やサービスのクオリティが非常に高いです。どこに行ってもここが一番お得だと思います。"
        ],
        [
         5,
         1768,
         43,
         5.0,
         "2023-12-09",
         "接客・サービス",
         "店内の清潔さと接客の良さが印象的で再訪したい。",
         0.85,
         "店内は綺麗だし、お店の人も気持ちいい対応してくれて良いですね。また利用したいと思います。"
        ],
        [
         9,
         569,
         69,
         5.0,
         "2023-02-28",
         "接客・サービス",
         "スタッフの対応は親切だが、接客速度に改善の余地あり。",
         0.85,
         "スタッフの対応はとても良かったです。商品について詳しく説明してくれたり、質問にも親切に答えてくれたので安心して買い物ができました。ただ、もう少しスピードが速ければ、さらに良かったと思います。"
        ],
        [
         12,
         4102,
         6,
         5.0,
         "2023-02-02",
         "接客・サービス",
         "店員の親切で丁寧な対応に感動した。",
         0.95,
         "店員さんがとても親切でした。困っているとすぐに気づいて、丁寧に説明してくれました。あんなに親身に対応してもらえたのは初めてで、感動しました！"
        ],
        [
         13,
         6708,
         20,
         5.0,
         "2023-12-20",
         "接客・サービス",
         "店内の清潔さと接客の良さが印象的で再訪したい。",
         0.85,
         "店内は綺麗だし、お店の人も気持ちいい対応してくれて良いですね。また利用したいと思います。"
        ],
        [
         15,
         6937,
         63,
         5.0,
         "2023-04-04",
         "接客・サービス",
         "スタッフの対応は親切だが、接客速度に改善の余地あり。",
         0.85,
         "スタッフの対応はとても良かったです。商品について詳しく説明してくれたり、質問にも親切に答えてくれたので安心して買い物ができました。ただ、もう少しスピードが速ければ、さらに良かったと思います。"
        ],
        [
         17,
         7584,
         85,
         5.0,
         "2023-02-18",
         "品質",
         "新鮮で高品質な食材、特に肉と魚が自慢の店。",
         0.95,
         "ここのお店の食材は本当に新鮮で美味しい！特にお肉や魚は質が高くて、他のどの店でも同じクオリティは見たことがない。信頼しています。"
        ],
        [
         19,
         7223,
         16,
         5.0,
         "2023-07-23",
         "コスパ・お得感",
         "セールが充実しており、欲しい商品がお得に購入できる。",
         0.95,
         "セールが大変充実していて、欲しかった商品が驚きの価格で手に入ることが多いです。毎回訪れるたびにお得な買い物ができて、本当にありがたいです。"
        ],
        [
         22,
         8735,
         73,
         5.0,
         "2023-04-06",
         "店舗設備・環境",
         "広々とした店内で商品が見やすく快適に買い物できた。",
         0.95,
         "店内はとても広々としていて、通路も広くて歩きやすかったです。商品が綺麗に陳列されていて、どこに何があるかが一目でわかり、とても快適に買い物できました！"
        ],
        [
         23,
         2580,
         29,
         5.0,
         "2023-03-04",
         "コスパ・お得感",
         "セールや特売の割引が嬉しいが、もっと頻繁に開催してほしい。",
         0.75,
         "セールや特売がたまに行われていて、割引もあるので嬉しいです。もっと頻繁にやってくれるとありがたいですね。"
        ],
        [
         27,
         6104,
         99,
         5.0,
         "2023-05-28",
         "コスパ・お得感",
         "セールが充実しており、欲しい商品がお得に購入できる。",
         0.95,
         "セールが大変充実していて、欲しかった商品が驚きの価格で手に入ることが多いです。毎回訪れるたびにお得な買い物ができて、本当にありがたいです。"
        ],
        [
         30,
         3564,
         48,
         5.0,
         "2023-06-25",
         "接客・サービス",
         "スタッフの対応は良いが、接客スピードに改善の余地あり。",
         0.85,
         "スタッフの対応はとても良かったです。商品について詳しく説明してくれたり、質問にも親切に答えてくれたので安心して買い物ができました。ただ、もう少しスピードが速ければ、さらに良かったと思います。"
        ],
        [
         31,
         1183,
         74,
         5.0,
         "2023-07-02",
         "コスパ・お得感",
         "この店は他店より安く高品質な商品が買える。",
         0.95,
         "この店の価格は本当に素晴らしい！他の店では考えられないほど安くて、高品質の商品が手に入ります。特にお得感があり、いつも満足しています。"
        ],
        [
         32,
         9541,
         8,
         5.0,
         "2023-04-08",
         "品揃え・在庫",
         "他店にない珍しい商品が豊富に揃っている。",
         0.95,
         "ここに来ると、本当に欲しかった商品がいつも見つかる！他の店では見かけないような珍しい商品まで取り揃えていて、毎回驚かされます。"
        ],
        [
         34,
         1416,
         2,
         5.0,
         "2023-07-29",
         "品揃え・在庫",
         "この店は珍しい商品が豊富で欲しいものが必ず見つかる。",
         0.95,
         "ここに来ると、本当に欲しかった商品がいつも見つかる！他の店では見かけないような珍しい商品まで取り揃えていて、毎回驚かされます。"
        ],
        [
         39,
         4102,
         45,
         5.0,
         "2023-02-09",
         "コスパ・お得感",
         "高いポイント還元率と割引制度で利用するほどお得になる。",
         0.95,
         "ポイント還元率が非常に高くて、割引制度も素晴らしい！何度も利用しているうちに、どんどんお得になっていく感覚があって、絶対にお得感があります。"
        ],
        [
         40,
         1350,
         17,
         5.0,
         "2023-06-15",
         "店舗設備・環境",
         "広々とした店内で商品が見やすく配置され、快適に買い物できた。",
         0.95,
         "店内はとても広々としていて、通路も広くて歩きやすかったです。商品が綺麗に陳列されていて、どこに何があるかが一目でわかり、とても快適に買い物できました！"
        ],
        [
         41,
         2843,
         90,
         5.0,
         "2023-11-11",
         "接客・サービス",
         "店内が清潔で接客も良く、再訪したいと思える店。",
         0.85,
         "店内は綺麗だし、お店の人も気持ちいい対応してくれて良いですね。また利用したいと思います。"
        ],
        [
         43,
         5657,
         81,
         5.0,
         "2023-03-25",
         "コスパ・お得感",
         "価格に対して高品質で最もお得なサービス。",
         0.95,
         "価格に対して商品やサービスのクオリティが非常に高いです。どこに行ってもここが一番お得だと思います。"
        ],
        [
         44,
         6329,
         73,
         5.0,
         "2023-10-14",
         "品揃え・在庫",
         "他店にない珍しい商品が豊富に揃っている。",
         0.95,
         "ここに来ると、本当に欲しかった商品がいつも見つかる！他の店では見かけないような珍しい商品まで取り揃えていて、毎回驚かされます。"
        ],
        [
         45,
         7421,
         35,
         5.0,
         "2023-07-12",
         "コスパ・お得感",
         "価格に対して高品質で最もお得なサービス。",
         0.95,
         "価格に対して商品やサービスのクオリティが非常に高いです。どこに行ってもここが一番お得だと思います。"
        ]
       ],
       "datasetInfos": [],
       "dbfsResultPath": null,
       "isJsonSchema": true,
       "metadata": {},
       "overflow": false,
       "plotOptions": {
        "customPlotOptions": {},
        "displayType": "table",
        "pivotAggregation": null,
        "pivotColumns": null,
        "xColumns": null,
        "yColumns": null
       },
       "removedWidgets": [],
       "schema": [
        {
         "metadata": "{}",
         "name": "feedback_id",
         "type": "\"long\""
        },
        {
         "metadata": "{}",
         "name": "user_id",
         "type": "\"long\""
        },
        {
         "metadata": "{}",
         "name": "product_id",
         "type": "\"long\""
        },
        {
         "metadata": "{}",
         "name": "rating",
         "type": "\"float\""
        },
        {
         "metadata": "{}",
         "name": "date",
         "type": "\"date\""
        },
        {
         "metadata": "{}",
         "name": "category",
         "type": "\"string\""
        },
        {
         "metadata": "{}",
         "name": "summary",
         "type": "\"string\""
        },
        {
         "metadata": "{}",
         "name": "positive_score",
         "type": "\"float\""
        },
        {
         "metadata": "{}",
         "name": "comment",
         "type": "\"string\""
        }
       ],
       "type": "table"
      }
     },
     "output_type": "display_data"
    }
   ],
   "source": [
    "from pyspark.sql.types import (\n",
    "    StructType, StructField, StringType, DateType, LongType, FloatType\n",
    ")\n",
    "\n",
    "# gold_feedback テーブルのスキーマ定義\n",
    "col_schema = StructType([\n",
    "    StructField(\"feedback_id\", LongType(), True),      # フィードバックID (bigint)\n",
    "    StructField(\"user_id\", LongType(), True),          # users.user_id (bigint)\n",
    "    StructField(\"product_id\", LongType(), True),       # products.product_id (bigint)\n",
    "    StructField(\"rating\", FloatType(), True),          # 1〜5 (float)\n",
    "    StructField(\"date\", DateType(), True),             # フィードバック日 (date)\n",
    "    StructField(\"category\", StringType(), True),       # 種別 (string)\n",
    "    StructField(\"summary\", StringType(), True),        # 要約 (string)\n",
    "    StructField(\"positive_score\", FloatType(), True),  # 0.00〜1.00 (float)\n",
    "    StructField(\"comment\", StringType(), True)         # コメント本文 (string)\n",
    "])\n",
    "\n",
    "# gold_feedback テーブル作成\n",
    "csv_path = f\"/Volumes/{catalog}/{schema}/{volume}/gold_feedback.csv\"  # ファイル名まで\n",
    "df = (\n",
    "    spark.read.format(\"csv\")\n",
    "         .option(\"header\", \"true\")\n",
    "         .option(\"quote\", '\"')\n",
    "         .option(\"escape\", '\"')\n",
    "         .option(\"multiLine\", \"true\")\n",
    "         .schema(col_schema)\n",
    "         .load(csv_path)\n",
    ")\n",
    "df.write.format(\"delta\").mode(\"overwrite\").option(\"overwriteSchema\", \"true\").saveAsTable(\n",
    "    f\"{catalog}.{schema}.gold_feedbacks\"\n",
    ")\n",
    "\n",
    "print(df.count())\n",
    "print(df.columns)   # カラム確認\n",
    "display(df.limit(100))"
   ]
  },
  {
   "cell_type": "code",
   "execution_count": 0,
   "metadata": {
    "application/vnd.databricks.v1+cell": {
     "cellMetadata": {
      "byteLimit": 2048000,
      "rowLimit": 10000
     },
     "inputWidgets": {},
     "nuid": "8a3aea17-8c46-4e57-97b2-bbf2401f2a96",
     "showTitle": true,
     "tableResultSettingsMap": {},
     "title": "gold_feedbacksテーブルの生成(ai_query)"
    }
   },
   "outputs": [],
   "source": [
    "# print(\"顧客レビューデータの感情スコアリング・分類・要約します...\")\n",
    "# spark.sql(f'''\n",
    "# CREATE OR REPLACE TABLE {catalog}.{schema}.gold_feedbacks\n",
    "# SELECT\n",
    "#   CAST(feedback_id AS BIGINT) AS feedback_id,\n",
    "#   CAST(user_id AS BIGINT) AS user_id,\n",
    "#   CAST(product_id AS BIGINT) AS product_id,\n",
    "#   CAST(rating AS FLOAT) AS rating,\n",
    "#   CAST(date AS DATE) AS date,\n",
    "#   -- カテゴリ\n",
    "#   ai_query(\n",
    "#     'databricks-llama-4-maverick',\n",
    "#     CONCAT(\n",
    "#       \"[指示]次の顧客レビュー内容を、次のカテゴリのいずれかに分類してください\",\n",
    "#       \"\\n[顧客レビュー]\" || comment,\n",
    "#       \"\\n[分類カテゴリ]\",\n",
    "#       \"\\n品揃え・在庫\",\n",
    "#       \"\\n品質\",\n",
    "#       \"\\nコスパ・お得感\",\n",
    "#       \"\\n接客・サービス\",\n",
    "#       \"\\n店舗設備・環境\",\n",
    "#       \"\\nその他\",\n",
    "#       \"\\n[厳守事項]\",\n",
    "#       \"\\n * カテゴリから1つのみ選択してください。\",\n",
    "#       \"\\n * カテゴリのみ出力してください。補足は一切不要です。\"\n",
    "#     ), failOnError => False\n",
    "#   ).result AS category,\n",
    "#   -- 要約\n",
    "#   ai_query(\n",
    "#     'databricks-llama-4-maverick',\n",
    "#     CONCAT(\n",
    "#       \"[指示]次の顧客レビューから要点を絞って、明快で簡潔な一つの文章に要約して下さい\",\n",
    "#       \"\\n[顧客レビュー]\" || comment,\n",
    "#       \"\\n[厳守事項]\",\n",
    "#       \"\\n * 要約結果のみ出力してください。こちらの指示に関する補足は一切不要です。\",\n",
    "#       \"\\n * 30文字以内に収めること。\"\n",
    "#     ), failOnError => False\n",
    "#   ).result AS summary,\n",
    "#   -- ポジティブスコア\n",
    "#   CAST( \n",
    "#     ai_query(\n",
    "#         'databricks-llama-4-maverick',\n",
    "#         CONCAT(\n",
    "#         \"[指示]次の顧客レビュー内容について、0~1の間でポジティブスコアを付与してください\",\n",
    "#         \"\\n[顧客レビュー]\" || comment,\n",
    "#         \"\\n[出力形式]\",\n",
    "#         \"\\n * 範囲0~1の少数第二位までで出力してください。\",\n",
    "#         \"\\n * 1に近いほどポジティブ度合いが強く、0に近いほどポジティブ度合いが弱い。\",\n",
    "#         \"\\n[厳守事項]\",\n",
    "#         \"\\n * ポジティブスコアのみ出力してください。補足は一切不要です。\"\n",
    "#         ), failOnError => False\n",
    "#     ).result AS FLOAT) AS positive_score,\n",
    "#   comment\n",
    "# FROM {catalog}.{schema}.feedbacks\n",
    "# ''')\n",
    "# print(\"顧客レビューデータの感情スコアリング・分類・要約が完了しました！\")"
   ]
  },
  {
   "cell_type": "code",
   "execution_count": 0,
   "metadata": {
    "application/vnd.databricks.v1+cell": {
     "cellMetadata": {
      "byteLimit": 2048000,
      "implicitDf": true,
      "rowLimit": 10000
     },
     "inputWidgets": {},
     "nuid": "4b1800ca-d7bf-4dff-b9c0-3e1157d01a8d",
     "showTitle": true,
     "tableResultSettingsMap": {},
     "title": "gold_feedbacksテーブルのメタデータ編集"
    }
   },
   "outputs": [
    {
     "output_type": "stream",
     "name": "stdout",
     "output_type": "stream",
     "text": [
      "Executing subquery: ALTER TABLE users ALTER COLUMN user_id COMMENT \"ユーザーID\".\nExecuting subquery: ALTER TABLE users ALTER COLUMN name COMMENT \"氏名\".\nExecuting subquery: ALTER TABLE users ALTER COLUMN age COMMENT \"年齢: 0以上\".\nExecuting subquery: ALTER TABLE users ALTER COLUMN gender COMMENT \"性別: 例) 男性, 女性, 未回答, その他\".\nExecuting subquery: ALTER TABLE users ALTER COLUMN email COMMENT \"メールアドレス\".\nExecuting subquery: ALTER TABLE users ALTER COLUMN registration_date COMMENT \"登録日\".\nExecuting subquery: ALTER TABLE users ALTER COLUMN region COMMENT \"地域: 例) 東京, 大阪, 北海道\".\nExecuting subquery: COMMENT ON TABLE users IS '**users テーブル**\\nオンラインスーパー「ブリックスマート」に登録されているユーザー情報を保持するテーブルです。\\n- ユーザーの基本情報（氏名、年齢、性別、地域など）や連絡先（メールアドレス）を管理\\n- ユーザーのセグメンテーションや嗜好分析、マーケティング効果測定などに活用できます'.\nExecuting subquery: ALTER TABLE transactions ALTER COLUMN transaction_id COMMENT \"トランザクションID\".\nExecuting subquery: ALTER TABLE transactions ALTER COLUMN user_id COMMENT \"ユーザーID: usersテーブルのuser_idとリンクする外部キー\".\nExecuting subquery: ALTER TABLE transactions ALTER COLUMN transaction_date COMMENT \"購入日\".\nExecuting subquery: ALTER TABLE transactions ALTER COLUMN product_id COMMENT \"商品ID: productsテーブルのproduct_idとリンクする外部キー\".\nExecuting subquery: ALTER TABLE transactions ALTER COLUMN quantity COMMENT \"購入数量: 1以上\".\nExecuting subquery: ALTER TABLE transactions ALTER COLUMN transaction_price COMMENT \"購入時価格: 0以上, transactions.quantity * products.price で計算\".\nExecuting subquery: ALTER TABLE transactions ALTER COLUMN store_id COMMENT \"店舗ID\".\nExecuting subquery: COMMENT ON TABLE transactions IS '**transactions テーブル**\\nオンラインスーパー「ブリックスマート」で行われた販売取引（購入履歴）の情報を管理するテーブルです。\\n- ユーザーIDや商品IDなど他テーブルと関連付けしつつ、購入日や価格、数量などを保持\\n- 販売動向の分析、ユーザーの購買行動追跡、在庫・マーケティング戦略の最適化に役立ちます'.\nExecuting subquery: ALTER TABLE products ALTER COLUMN product_id COMMENT \"商品ID\".\nExecuting subquery: ALTER TABLE products ALTER COLUMN product_name COMMENT \"商品名\".\nExecuting subquery: ALTER TABLE products ALTER COLUMN category COMMENT \"カテゴリー: 例) 食料品, 日用品\".\nExecuting subquery: ALTER TABLE products ALTER COLUMN subcategory COMMENT \"サブカテゴリー: 例) 野菜, 洗剤\".\nExecuting subquery: ALTER TABLE products ALTER COLUMN price COMMENT \"販売価格: 0以上\".\nExecuting subquery: ALTER TABLE products ALTER COLUMN stock_quantity COMMENT \"在庫数量\".\nExecuting subquery: ALTER TABLE products ALTER COLUMN cost_price COMMENT \"仕入れ価格\".\nExecuting subquery: COMMENT ON TABLE products IS '**products テーブル**\\nオンラインスーパー「ブリックスマート」で取り扱う商品の情報を管理するテーブルです。\\n- 商品名、カテゴリー・サブカテゴリー、価格、在庫数、原価などを保持\\n- 在庫管理、価格分析、商品分類や商品のパフォーマンス分析に活用できます'.\nExecuting subquery: ALTER TABLE feedbacks ALTER COLUMN feedback_id COMMENT \"フィードバックID\".\nExecuting subquery: ALTER TABLE feedbacks ALTER COLUMN user_id COMMENT \"ユーザーID: usersテーブルのuser_idとリンクする外部キー\".\nExecuting subquery: ALTER TABLE feedbacks ALTER COLUMN comment COMMENT \"コメント\".\nExecuting subquery: ALTER TABLE feedbacks ALTER COLUMN date COMMENT \"フィードバック日\".\nExecuting subquery: ALTER TABLE feedbacks ALTER COLUMN rating COMMENT \"評価: 1～5\".\nExecuting subquery: COMMENT ON TABLE feedbacks IS '**feedbacks テーブル**\\nユーザーからのフィードバックを管理するテーブルです。\\n- 商品やサービスに対するコメント、評価(1～5)、フィードバック日などを保持\\n- ユーザー満足度の把握や改善点の分析、優先度付けに役立ちます'.\nExecuting subquery: CREATE OR REPLACE TABLE gold_user AS (\n  -- ユーザーごとの購買・評価データを集計\n  with user_metrics as (\n  SELECT \n    u.user_id,\n    CASE \n      WHEN u.age < 35 THEN '若年層'\n      WHEN u.age < 55 THEN '中年層'\n      ELSE 'シニア層'\n    END as age_group,\n    SUM(CASE WHEN p.category = '食料品' THEN t.quantity ELSE 0 END) AS food_quantity,\n    SUM(CASE WHEN p.category = '日用品' THEN t.quantity ELSE 0 END) AS daily_quantity,\n    SUM(CASE WHEN p.category NOT IN ('食料品', '日用品') THEN t.quantity ELSE 0 END) AS other_quantity,\n    AVG(CASE WHEN p.category = '食料品' THEN f.rating ELSE NULL END) AS food_rating,\n    AVG(CASE WHEN p.category = '日用品' THEN f.rating ELSE NULL END) AS daily_rating,\n    AVG(CASE WHEN p.category NOT IN ('食料品', '日用品') THEN f.rating ELSE NULL END) AS other_rating\n  FROM users u\n  LEFT JOIN transactions t ON u.user_id = t.user_id\n  LEFT JOIN products p ON t.product_id = p.product_id\n  LEFT JOIN feedbacks f ON u.user_id = f.user_id\n  GROUP BY u.user_id, u.age)\n  -- ユーザー基本情報と購買・評価指標を結合\n  SELECT * FROM users JOIN user_metrics USING (user_id)\n).\nExecuting subquery: ALTER TABLE gold_user ALTER COLUMN age_group COMMENT \"年齢層: 若年層, 中年層, シニア層\\n\\n- 若年層: 35歳未満\\n- 中年層: 35歳以上55歳未満\\n- シニア層: 55歳以上\".\nExecuting subquery: ALTER TABLE gold_user ALTER COLUMN food_quantity COMMENT \"食料品の合計購買点数\".\nExecuting subquery: ALTER TABLE gold_user ALTER COLUMN daily_quantity COMMENT \"日用品の合計購買点数\".\nExecuting subquery: ALTER TABLE gold_user ALTER COLUMN other_quantity COMMENT \"その他の合計購買点数\".\nExecuting subquery: ALTER TABLE gold_user ALTER COLUMN food_rating COMMENT \"食料品の平均レビュー評価\".\nExecuting subquery: ALTER TABLE gold_user ALTER COLUMN daily_rating COMMENT \"日用品の平均レビュー評価\".\nExecuting subquery: ALTER TABLE gold_user ALTER COLUMN other_rating COMMENT \"その他の平均レビュー評価\".\nExecuting subquery: COMMENT ON TABLE gold_user IS '**gold_user テーブル**\\nAIを搭載した食品推薦システムに登録したユーザーに関する情報が含まれています。\\n- 人口統計学的詳細、食品消費習慣、および評価などを保持\\n- ユーザーの嗜好を理解し、食品の消費傾向を追跡、AIシステムの有効性を評価するのに活用\\n- 個々のユーザーに合わせた食品推薦やシステム改善の���討にも役立ちます'.\nExecuting subquery: ALTER TABLE gold_feedbacks ALTER COLUMN feedback_id COMMENT \"フィードバックID\".\nExecuting subquery: ALTER TABLE gold_feedbacks ALTER COLUMN user_id COMMENT \"ユーザーID: usersテーブルのuser_idとリンクする外部キー\".\nExecuting subquery: ALTER TABLE gold_feedbacks ALTER COLUMN product_id COMMENT \"商品ID\".\nExecuting subquery: ALTER TABLE gold_feedbacks ALTER COLUMN rating COMMENT \"評価: 1～5\".\nExecuting subquery: ALTER TABLE gold_feedbacks ALTER COLUMN date COMMENT \"フィードバック日\".\nExecuting subquery: ALTER TABLE gold_feedbacks ALTER COLUMN comment COMMENT \"コメント\".\nExecuting subquery: ALTER TABLE gold_feedbacks ALTER COLUMN category COMMENT \"フィードバック種別: 品揃え・在庫, 品質, コスパ・お得感, 接客・サービス, 店舗設備・環境, その他\".\nExecuting subquery: ALTER TABLE gold_feedbacks ALTER COLUMN positive_score COMMENT \"ポジティブスコア: 0.00~1.00で表現\".\nExecuting subquery: ALTER TABLE gold_feedbacks ALTER COLUMN summary COMMENT \"フィードバックの要約\".\nExecuting subquery: COMMENT ON TABLE gold_feedbacks IS '**gold_feedbacks テーブル**\\nユーザーからのフィードバックを管理するテーブルです。\\n- 商品やサービスに対するコメント、評価(1～5)、フィードバック日,\nカテゴリやポジティブスコア、フィードバックの要約などを保持\\n- ユーザー満足度の把握や改善点の分析、優先度付けに役立ちます'."
     ]
    }
   ],
   "source": [
    "%sql\n",
    "ALTER TABLE gold_feedbacks ALTER COLUMN feedback_id COMMENT \"フィードバックID\";\n",
    "ALTER TABLE gold_feedbacks ALTER COLUMN user_id COMMENT \"ユーザーID: usersテーブルのuser_idとリンクする外部キー\";\n",
    "ALTER TABLE gold_feedbacks ALTER COLUMN product_id COMMENT \"商品ID\";\n",
    "ALTER TABLE gold_feedbacks ALTER COLUMN rating COMMENT \"評価: 1～5\";\n",
    "ALTER TABLE gold_feedbacks ALTER COLUMN date COMMENT \"フィードバック日\";\n",
    "ALTER TABLE gold_feedbacks ALTER COLUMN comment COMMENT \"コメント\";\n",
    "ALTER TABLE gold_feedbacks ALTER COLUMN category COMMENT \"フィードバック種別: 品揃え・在庫, 品質, コスパ・お得感, 接客・サービス, 店舗設備・環境, その他\";\n",
    "ALTER TABLE gold_feedbacks ALTER COLUMN positive_score COMMENT \"ポジティブスコア: 0.00~1.00で表現\";\n",
    "ALTER TABLE gold_feedbacks ALTER COLUMN summary COMMENT \"フィードバックの要約\";\n",
    "COMMENT ON TABLE gold_feedbacks IS '**gold_feedbacks テーブル**\\nユーザーからのフィードバックを管理するテーブルです。\\n- 商品やサービスに対するコメント、評価(1～5)、フィードバック日,\n",
    "カテゴリやポジティブスコア、フィードバックの要約などを保持\\n- ユーザー満足度の把握や改善点の分析、優先度付けに役立ちます';"
   ]
  },
  {
   "cell_type": "code",
   "execution_count": 0,
   "metadata": {
    "application/vnd.databricks.v1+cell": {
     "cellMetadata": {
      "byteLimit": 2048000,
      "implicitDf": true,
      "rowLimit": 10000
     },
     "inputWidgets": {},
     "nuid": "50dd1ee7-7036-4de3-8da2-8f62d5343b22",
     "showTitle": true,
     "tableResultSettingsMap": {},
     "title": "PIIタグの追加"
    }
   },
   "outputs": [],
   "source": [
    "%sql\n",
    "ALTER TABLE users ALTER COLUMN name SET TAGS ('pii_name');\n",
    "ALTER TABLE users ALTER COLUMN email SET TAGS ('pii_email');\n",
    "ALTER TABLE gold_user ALTER COLUMN name SET TAGS ('pii_name');\n",
    "ALTER TABLE gold_user ALTER COLUMN email SET TAGS ('pii_email');"
   ]
  },
  {
   "cell_type": "code",
   "execution_count": 0,
   "metadata": {
    "application/vnd.databricks.v1+cell": {
     "cellMetadata": {
      "byteLimit": 2048000,
      "implicitDf": true,
      "rowLimit": 10000
     },
     "inputWidgets": {},
     "nuid": "4c364bd0-d388-434f-b66b-fe1987189822",
     "showTitle": true,
     "tableResultSettingsMap": {},
     "title": "PK & FKの追加"
    }
   },
   "outputs": [],
   "source": [
    "%sql\n",
    "--------------\n",
    "-- 既存削除\n",
    "--------------\n",
    "-- PK削除\n",
    "ALTER TABLE users DROP CONSTRAINT IF EXISTS users_pk;\n",
    "ALTER TABLE transactions DROP CONSTRAINT IF EXISTS transactions_pk;\n",
    "ALTER TABLE products DROP CONSTRAINT IF EXISTS products_pk;\n",
    "ALTER TABLE feedbacks DROP CONSTRAINT IF EXISTS feedbacks_pk;\n",
    "ALTER TABLE gold_user DROP CONSTRAINT IF EXISTS gold_user_pk;\n",
    "ALTER TABLE gold_feedbacks DROP CONSTRAINT IF EXISTS gold_feedbacks_pk;\n",
    "\n",
    "-- FK削除\n",
    "ALTER TABLE transactions DROP CONSTRAINT IF EXISTS transactions_users_fk;\n",
    "ALTER TABLE transactions DROP CONSTRAINT IF EXISTS transactions_products_fk;\n",
    "ALTER TABLE feedbacks DROP CONSTRAINT IF EXISTS feedbacks_users_fk;\n",
    "ALTER TABLE feedbacks DROP CONSTRAINT IF EXISTS feedbacks_products_fk;\n",
    "ALTER TABLE gold_feedbacks DROP CONSTRAINT IF EXISTS gold_feedbacks_users_fk;\n",
    "ALTER TABLE gold_feedbacks DROP CONSTRAINT IF EXISTS gold_feedbacks_products_fk;\n",
    "\n",
    "--------------\n",
    "-- 新規追加\n",
    "--------------\n",
    "-- NULL制約追加\n",
    "ALTER TABLE users ALTER COLUMN user_id SET NOT NULL;\n",
    "ALTER TABLE transactions ALTER COLUMN transaction_id SET NOT NULL;\n",
    "ALTER TABLE products ALTER COLUMN product_id SET NOT NULL;\n",
    "ALTER TABLE feedbacks ALTER COLUMN feedback_id SET NOT NULL;\n",
    "ALTER TABLE gold_user ALTER COLUMN user_id SET NOT NULL;\n",
    "ALTER TABLE gold_feedbacks ALTER COLUMN feedback_id SET NOT NULL;\n",
    "\n",
    "-- PK追加\n",
    "ALTER TABLE users ADD CONSTRAINT users_pk PRIMARY KEY (user_id);\n",
    "ALTER TABLE transactions ADD CONSTRAINT transactions_pk PRIMARY KEY (transaction_id);\n",
    "ALTER TABLE products ADD CONSTRAINT products_pk PRIMARY KEY (product_id);\n",
    "ALTER TABLE feedbacks ADD CONSTRAINT feedbacks_pk PRIMARY KEY (feedback_id);\n",
    "ALTER TABLE gold_user ADD CONSTRAINT gold_user_pk PRIMARY KEY (user_id);\n",
    "ALTER TABLE gold_feedbacks ADD CONSTRAINT gold_feedbacks_pk PRIMARY KEY (feedback_id);\n",
    "\n",
    "-- FK追加\n",
    "ALTER TABLE transactions ADD CONSTRAINT transactions_users_fk FOREIGN KEY (user_id) REFERENCES users (user_id) NOT ENFORCED;\n",
    "ALTER TABLE transactions ADD CONSTRAINT transactions_products_fk FOREIGN KEY (product_id) REFERENCES products (product_id) NOT ENFORCED;\n",
    "ALTER TABLE feedbacks ADD CONSTRAINT feedbacks_users_fk FOREIGN KEY (user_id) REFERENCES users (user_id) NOT ENFORCED;\n",
    "ALTER TABLE feedbacks ADD CONSTRAINT feedbacks_products_fk FOREIGN KEY (product_id) REFERENCES products (product_id) NOT ENFORCED;\n",
    "ALTER TABLE gold_feedbacks ADD CONSTRAINT gold_feedbacks_users_fk FOREIGN KEY (user_id) REFERENCES users (user_id) NOT ENFORCED;\n",
    "ALTER TABLE gold_feedbacks ADD CONSTRAINT gold_feedbacks_products_fk FOREIGN KEY (product_id) REFERENCES products (product_id) NOT ENFORCED;"
   ]
  },
  {
   "cell_type": "code",
   "execution_count": 0,
   "metadata": {
    "application/vnd.databricks.v1+cell": {
     "cellMetadata": {
      "byteLimit": 2048000,
      "rowLimit": 10000
     },
     "inputWidgets": {},
     "nuid": "87de1b43-4cde-40b4-9528-07d6209f4ae1",
     "showTitle": true,
     "tableResultSettingsMap": {},
     "title": "列レベルマスキングの追加"
    }
   },
   "outputs": [
    {
     "output_type": "stream",
     "name": "stdout",
     "output_type": "stream",
     "text": [
      "列レベルマスキングの適用が完了しました。\n"
     ]
    }
   ],
   "source": [
    "try:\n",
    "    # マスキング関数の作成\n",
    "    spark.sql(\"\"\"\n",
    "    CREATE FUNCTION IF NOT EXISTS mask_email(email STRING) \n",
    "    RETURN CASE WHEN is_member('admins') THEN email ELSE '***@example.com' END\n",
    "    \"\"\")\n",
    "    \n",
    "    # usersテーブルにマスキングを適用\n",
    "    spark.sql(\"\"\"\n",
    "    ALTER TABLE users ALTER COLUMN email SET MASK mask_email\n",
    "    \"\"\")\n",
    "    \n",
    "    # gold_userテーブルにマスキングを適用\n",
    "    spark.sql(\"\"\"\n",
    "    ALTER TABLE gold_user ALTER COLUMN email SET MASK mask_email\n",
    "    \"\"\")\n",
    "    \n",
    "    print(\"列レベルマスキングの適用が完了しました。\")\n",
    "    \n",
    "except Exception as e:\n",
    "    print(f\"列レベルマスキングの適用中にエラーが発生しました: {str(e)}\")\n",
    "    print(\"このエラーはDBR 15.4より前のバージョンで実行している場合に発生する可能性があります。\")"
   ]
  },
  {
   "cell_type": "code",
   "execution_count": 0,
   "metadata": {
    "application/vnd.databricks.v1+cell": {
     "cellMetadata": {
      "byteLimit": 2048000,
      "rowLimit": 10000
     },
     "inputWidgets": {},
     "nuid": "aff2a7e7-35c3-4566-bf56-c043adc13b61",
     "showTitle": true,
     "tableResultSettingsMap": {},
     "title": "認定済みタグの追加"
    }
   },
   "outputs": [
    {
     "output_type": "stream",
     "name": "stdout",
     "output_type": "stream",
     "text": [
      "認定済みタグ 'system.Certified' の追加中にエラーが発生しました: [RequestId=248d717d-6017-42ed-bc05-45d3677ab5cb ErrorClass=INVALID_PARAMETER_VALUE.INVALID_PARAMETER_VALUE] Tag name system.Certified contains one or more of the reserved characters: List(., ,, -, =, /, :)\n\nJVM stacktrace:\ncom.databricks.sql.managedcatalog.UnityCatalogServiceException\n\tat com.databricks.managedcatalog.ErrorDetailsHandler.wrapServiceException(ErrorDetailsHandler.scala:126)\n\tat com.databricks.managedcatalog.ErrorDetailsHandler.wrapServiceException$(ErrorDetailsHandler.scala:66)\n\tat com.databricks.managedcatalog.ManagedCatalogClientImpl.wrapServiceException(ManagedCatalogClientImpl.scala:268)\n\tat com.databricks.managedcatalog.ManagedCatalogClientImpl.recordAndWrapExceptionBase(ManagedCatalogClientImpl.scala:7377)\n\tat com.databricks.managedcatalog.ManagedCatalogClientImpl.recordAndWrapException(ManagedCatalogClientImpl.scala:7363)\n\tat com.databricks.managedcatalog.ManagedCatalogClientImpl.setSecurableTags(ManagedCatalogClientImpl.scala:7710)\n\tat com.databricks.sql.managedcatalog.ManagedCatalogCommon.setSecurableTags(ManagedCatalogCommon.scala:3580)\n\tat com.databricks.sql.managedcatalog.ProfiledManagedCatalog.$anonfun$setSecurableTags$1(ProfiledManagedCatalog.scala:1029)\n\tat scala.runtime.java8.JFunction0$mcV$sp.apply(JFunction0$mcV$sp.scala:18)\n\tat org.apache.spark.sql.catalyst.MetricKeyUtils$.measure(MetricKey.scala:1820)\n\tat com.databricks.sql.managedcatalog.ProfiledManagedCatalog.$anonfun$profile$1(ProfiledManagedCatalog.scala:64)\n\tat com.databricks.spark.util.FrameProfiler$.$anonfun$record$1(FrameProfiler.scala:95)\n\tat com.databricks.spark.util.FrameProfilerExporter$.maybeExportFrameProfiler(FrameProfilerExporter.scala:153)\n\tat com.databricks.spark.util.FrameProfiler$.record(FrameProfiler.scala:86)\n\tat com.databricks.sql.managedcatalog.ProfiledManagedCatalog.profile(ProfiledManagedCatalog.scala:63)\n\tat com.databricks.sql.managedcatalog.ProfiledManagedCatalog.setSecurableTags(ProfiledManagedCatalog.scala:1029)\n\tat com.databricks.sql.managedcatalog.ManagedCatalogSessionCatalog.setSecurableTags(ManagedCatalogSessionCatalog.scala:2971)\n\tat com.databricks.sql.managedcatalog.command.SetSecurableTagsCommand.run(TaggingCommand.scala:41)\n\tat org.apache.spark.sql.execution.command.ExecutedCommandExec.$anonfun$sideEffectResult$2(commands.scala:87)\n\tat org.apache.spark.sql.execution.SparkPlan.runCommandInAetherOrSpark(SparkPlan.scala:195)\n\tat org.apache.spark.sql.execution.command.ExecutedCommandExec.$anonfun$sideEffectResult$1(commands.scala:87)\n\tat com.databricks.spark.util.FrameProfiler$.$anonfun$record$1(FrameProfiler.scala:95)\n\tat com.databricks.spark.util.FrameProfilerExporter$.maybeExportFrameProfiler(FrameProfilerExporter.scala:153)\n\tat com.databricks.spark.util.FrameProfiler$.record(FrameProfiler.scala:86)\n\tat org.apache.spark.sql.execution.command.ExecutedCommandExec.sideEffectResult$lzycompute(commands.scala:84)\n\tat org.apache.spark.sql.execution.command.ExecutedCommandExec.sideEffectResult(commands.scala:83)\n\tat org.apache.spark.sql.execution.command.ExecutedCommandExec.executeCollect(commands.scala:97)\n\tat org.apache.spark.sql.execution.QueryExecution.$anonfun$eagerlyExecuteCommands$5(QueryExecution.scala:507)\n\tat com.databricks.util.LexicalThreadLocal$Handle.runWith(LexicalThreadLocal.scala:63)\n\tat org.apache.spark.sql.execution.QueryExecution.$anonfun$eagerlyExecuteCommands$4(QueryExecution.scala:507)\n\tat org.apache.spark.sql.catalyst.QueryPlanningTracker$.withTracker(QueryPlanningTracker.scala:248)\n\tat org.apache.spark.sql.execution.QueryExecution.$anonfun$eagerlyExecuteCommands$3(QueryExecution.scala:506)\n\tat org.apache.spark.sql.execution.SQLExecution$.$anonfun$withNewExecutionId0$13(SQLExecution.scala:539)\n\tat com.databricks.sql.util.MemoryTrackerHelper.withMemoryTracking(MemoryTrackerHelper.scala:111)\n\tat org.apache.spark.sql.execution.SQLExecution$.$anonfun$withNewExecutionId0$12(SQLExecution.scala:458)\n\tat org.apache.spark.sql.execution.SQLExecution$.withSessionTagsApplied(SQLExecution.scala:835)\n\tat org.apache.spark.sql.execution.SQLExecution$.$anonfun$withNewExecutionId0$11(SQLExecution.scala:386)\n\tat org.apache.spark.JobArtifactSet$.withActiveJobArtifactState(JobArtifactSet.scala:97)\n\tat org.apache.spark.sql.artifact.ArtifactManager.$anonfun$withResources$1(ArtifactManager.scala:121)\n\tat org.apache.spark.sql.artifact.ArtifactManager.withClassLoaderIfNeeded(ArtifactManager.scala:115)\n\tat org.apache.spark.sql.artifact.ArtifactManager.withResources(ArtifactManager.scala:120)\n\tat org.apache.spark.sql.execution.SQLExecution$.$anonfun$withNewExecutionId0$10(SQLExecution.scala:386)\n\tat org.apache.spark.sql.execution.SQLExecution$.withSQLConfPropagated(SQLExecution.scala:864)\n\tat org.apache.spark.sql.execution.SQLExecution$.$anonfun$withNewExecutionId0$1(SQLExecution.scala:385)\n\tat org.apache.spark.sql.SparkSession.withActive(SparkSession.scala:860)\n\tat org.apache.spark.sql.execution.SQLExecution$.withNewExecutionId0(SQLExecution.scala:238)\n\tat org.apache.spark.sql.execution.SQLExecution$.withNewExecutionId(SQLExecution.scala:788)\n\tat org.apache.spark.sql.execution.QueryExecution.$anonfun$eagerlyExecuteCommands$2(QueryExecution.scala:502)\n\tat org.apache.spark.sql.execution.QueryExecution$.withInternalError(QueryExecution.scala:1449)\n\tat org.apache.spark.sql.execution.QueryExecution.$anonfun$eagerlyExecuteCommands$1(QueryExecution.scala:498)\n\tat org.apache.spark.sql.execution.QueryExecution.withMVTagsIfNecessary(QueryExecution.scala:418)\n\tat org.apache.spark.sql.execution.QueryExecution.org$apache$spark$sql$execution$QueryExecution$$eagerlyExecute$1(QueryExecution.scala:496)\n\tat org.apache.spark.sql.execution.QueryExecution$$anonfun$$nestedInanonfun$eagerlyExecuteCommands$8$1.applyOrElse(QueryExecution.scala:578)\n\tat org.apache.spark.sql.execution.QueryExecution$$anonfun$$nestedInanonfun$eagerlyExecuteCommands$8$1.applyOrElse(QueryExecution.scala:570)\n\tat org.apache.spark.sql.catalyst.trees.TreeNode.$anonfun$transformDownWithPruning$1(TreeNode.scala:529)\n\tat org.apache.spark.sql.catalyst.trees.CurrentOrigin$.withOrigin(origin.scala:121)\n\tat org.apache.spark.sql.catalyst.trees.TreeNode.transformDownWithPruning(TreeNode.scala:529)\n\tat org.apache.spark.sql.catalyst.plans.logical.LogicalPlan.org$apache$spark$sql$catalyst$plans$logical$AnalysisHelper$$super$transformDownWithPruning(LogicalPlan.scala:42)\n\tat org.apache.spark.sql.catalyst.plans.logical.AnalysisHelper.transformDownWithPruning(AnalysisHelper.scala:361)\n\tat org.apache.spark.sql.catalyst.plans.logical.AnalysisHelper.transformDownWithPruning$(AnalysisHelper.scala:357)\n\tat org.apache.spark.sql.catalyst.plans.logical.LogicalPlan.transformDownWithPruning(LogicalPlan.scala:42)\n\tat org.apache.spark.sql.catalyst.plans.logical.LogicalPlan.transformDownWithPruning(LogicalPlan.scala:42)\n\tat org.apache.spark.sql.catalyst.trees.TreeNode.transformDown(TreeNode.scala:505)\n\tat org.apache.spark.sql.execution.QueryExecution.$anonfun$eagerlyExecuteCommands$8(QueryExecution.scala:570)\n\tat org.apache.spark.sql.catalyst.plans.logical.AnalysisHelper$.allowInvokingTransformsInAnalyzer(AnalysisHelper.scala:418)\n\tat org.apache.spark.sql.execution.QueryExecution.eagerlyExecuteCommands(QueryExecution.scala:570)\n\tat org.apache.spark.sql.execution.QueryExecution.$anonfun$lazyCommandExecuted$1(QueryExecution.scala:374)\n\tat scala.util.Try$.apply(Try.scala:217)\n\tat org.apache.spark.util.Utils$.doTryWithCallerStacktrace(Utils.scala:1686)\n\tat org.apache.spark.util.Utils$.getTryWithCallerStacktrace(Utils.scala:1747)\n\tat org.apache.spark.util.LazyTry.get(LazyTry.scala:75)\n\tat org.apache.spark.sql.execution.QueryExecution.commandExecuted(QueryExecution.scala:379)\n\tat org.apache.spark.sql.classic.Dataset.<init>(Dataset.scala:432)\n\tat org.apache.spark.sql.classic.Dataset$.$anonfun$ofRows$3(Dataset.scala:155)\n\tat org.apache.spark.sql.SparkSession.withActive(SparkSession.scala:860)\n\tat org.apache.spark.sql.classic.SparkSession.$anonfun$withActiveAndFrameProfiler$1(SparkSession.scala:1071)\n\tat com.databricks.spark.util.FrameProfiler$.$anonfun$record$1(FrameProfiler.scala:95)\n\tat com.databricks.spark.util.FrameProfilerExporter$.maybeExportFrameProfiler(FrameProfilerExporter.scala:153)\n\tat com.databricks.spark.util.FrameProfiler$.record(FrameProfiler.scala:86)\n\tat org.apache.spark.sql.classic.SparkSession.withActiveAndFrameProfiler(SparkSession.scala:1071)\n\tat org.apache.spark.sql.classic.Dataset$.ofRows(Dataset.scala:146)\n\tat org.apache.spark.sql.classic.SparkSession.$anonfun$sql$4(SparkSession.scala:850)\n\tat org.apache.spark.sql.SparkSession.withActive(SparkSession.scala:860)\n\tat org.apache.spark.sql.classic.SparkSession.sql(SparkSession.scala:813)\n\tat org.apache.spark.sql.connect.planner.SparkConnectPlanner.executeSQL(SparkConnectPlanner.scala:3500)\n\tat org.apache.spark.sql.connect.planner.SparkConnectPlanner.handleSqlCommand(SparkConnectPlanner.scala:3330)\n\tat org.apache.spark.sql.connect.planner.SparkConnectPlanner.process(SparkConnectPlanner.scala:3207)\n\tat org.apache.spark.sql.connect.execution.ExecuteThreadRunner.handleCommand(ExecuteThreadRunner.scala:385)\n\tat org.apache.spark.sql.connect.execution.ExecuteThreadRunner.$anonfun$executeInternal$1(ExecuteThreadRunner.scala:282)\n\tat org.apache.spark.sql.connect.execution.ExecuteThreadRunner.$anonfun$executeInternal$1$adapted(ExecuteThreadRunner.scala:238)\n\tat org.apache.spark.sql.connect.service.SessionHolder.$anonfun$withSession$2(SessionHolder.scala:466)\n\tat org.apache.spark.sql.SparkSession.withActive(SparkSession.scala:860)\n\tat org.apache.spark.sql.connect.service.SessionHolder.$anonfun$withSession$1(SessionHolder.scala:466)\n\tat org.apache.spark.JobArtifactSet$.withActiveJobArtifactState(JobArtifactSet.scala:97)\n\tat org.apache.spark.sql.artifact.ArtifactManager.$anonfun$withResources$1(ArtifactManager.scala:121)\n\tat org.apache.spark.sql.artifact.ArtifactManager.withClassLoaderIfNeeded(ArtifactManager.scala:115)\n\tat org.apache.spark.sql.artifact.ArtifactManager.withResources(ArtifactManager.scala:120)\n\tat org.apache.spark.sql.connect.service.SessionHolder.withSession(SessionHolder.scala:465)\n\tat org.apache.spark.sql.connect.execution.ExecuteThreadRunner.executeInternal(ExecuteThreadRunner.scala:238)\n\tat org.apache.spark.sql.connect.execution.ExecuteThreadRunner.$anonfun$execute$1(ExecuteThreadRunner.scala:141)\n\tat scala.runtime.java8.JFunction0$mcV$sp.apply(JFunction0$mcV$sp.scala:18)\n\tat com.databricks.spark.connect.service.UtilizationMetrics.recordActiveQueries(UtilizationMetrics.scala:43)\n\tat com.databricks.spark.connect.service.UtilizationMetrics.recordActiveQueries$(UtilizationMetrics.scala:40)\n\tat org.apache.spark.sql.connect.execution.ExecuteThreadRunner.recordActiveQueries(ExecuteThreadRunner.scala:53)\n\tat org.apache.spark.sql.connect.execution.ExecuteThreadRunner.org$apache$spark$sql$connect$execution$ExecuteThreadRunner$$execute(ExecuteThreadRunner.scala:139)\n\tat org.apache.spark.sql.connect.execution.ExecuteThreadRunner$ExecutionThread.$anonfun$run$2(ExecuteThreadRunner.scala:586)\n\tat scala.runtime.java8.JFunction0$mcV$sp.apply(JFunction0$mcV$sp.scala:18)\n\tat com.databricks.unity.UCSEphemeralState$Handle.runWith(UCSEphemeralState.scala:51)\n\tat com.databricks.unity.HandleImpl.runWith(UCSHandle.scala:104)\n\tat com.databricks.unity.HandleImpl.$anonfun$runWithAndClose$1(UCSHandle.scala:109)\n\tat scala.util.Using$.resource(Using.scala:296)\n\tat com.databricks.unity.HandleImpl.runWithAndClose(UCSHandle.scala:108)\n\tat org.apache.spark.sql.connect.execution.ExecuteThreadRunner$ExecutionThread.run(ExecuteThreadRunner.scala:586)\nこのエラーはタグ機能に対応していないワークスペースで実行した場合に発生する可能性があります。\n"
     ]
    }
   ],
   "source": [
    "certified_tag = 'system.Certified'\n",
    "\n",
    "try:\n",
    "    spark.sql(f\"ALTER TABLE users SET TAGS ('{certified_tag}')\")\n",
    "    spark.sql(f\"ALTER TABLE transactions SET TAGS ('{certified_tag}')\")\n",
    "    spark.sql(f\"ALTER TABLE products SET TAGS ('{certified_tag}')\")\n",
    "    spark.sql(f\"ALTER TABLE feedbacks SET TAGS ('{certified_tag}')\")\n",
    "    spark.sql(f\"ALTER TABLE gold_user SET TAGS ('{certified_tag}')\")\n",
    "    spark.sql(f\"ALTER TABLE gold_feedbacks SET TAGS ('{certified_tag}')\")\n",
    "    print(f\"認定済みタグ '{certified_tag}' の追加が完了しました。\")\n",
    "\n",
    "except Exception as e:\n",
    "    print(f\"認定済みタグ '{certified_tag}' の追加中にエラーが発生しました: {str(e)}\")\n",
    "    print(\"このエラーはタグ機能に対応していないワークスペースで実行した場合に発生する可能性があります。\")"
   ]
  },
  {
   "cell_type": "code",
   "execution_count": 0,
   "metadata": {
    "application/vnd.databricks.v1+cell": {
     "cellMetadata": {
      "byteLimit": 2048000,
      "implicitDf": true,
      "rowLimit": 10000
     },
     "inputWidgets": {},
     "nuid": "c7515c1d-72b0-4acf-8f13-cb06374b3b05",
     "showTitle": true,
     "tableResultSettingsMap": {},
     "title": "地域ごとの商品カテゴリの売上高と売上比率を計算"
    }
   },
   "outputs": [
    {
     "output_type": "display_data",
     "data": {
      "text/html": [
       "<style scoped>\n",
       "  .table-result-container {\n",
       "    max-height: 300px;\n",
       "    overflow: auto;\n",
       "  }\n",
       "  table, th, td {\n",
       "    border: 1px solid black;\n",
       "    border-collapse: collapse;\n",
       "  }\n",
       "  th, td {\n",
       "    padding: 5px;\n",
       "  }\n",
       "  th {\n",
       "    text-align: left;\n",
       "  }\n",
       "</style><div class='table-result-container'><table class='table-result'><thead style='background-color: white'><tr><th>region</th><th>category</th><th>FLOOR(region_sales.total_sales)</th><th>sales_ratio</th></tr></thead><tbody><tr><td>北海道</td><td>日用品</td><td>326081837</td><td>53.71</td></tr><tr><td>北海道</td><td>食料品</td><td>280992334</td><td>46.29</td></tr><tr><td>大阪</td><td>日用品</td><td>422682469</td><td>50.39</td></tr><tr><td>大阪</td><td>食料品</td><td>416209866</td><td>49.61</td></tr><tr><td>東京</td><td>日用品</td><td>575235881</td><td>44.66</td></tr><tr><td>東京</td><td>食料品</td><td>712895081</td><td>55.34</td></tr><tr><td>沖縄</td><td>日用品</td><td>76011236</td><td>45.85</td></tr><tr><td>沖縄</td><td>食料品</td><td>89776030</td><td>54.15</td></tr><tr><td>福岡</td><td>日用品</td><td>133352848</td><td>48.06</td></tr><tr><td>福岡</td><td>食料品</td><td>144102139</td><td>51.94</td></tr></tbody></table></div>"
      ]
     },
     "metadata": {
      "application/vnd.databricks.v1+output": {
       "addedWidgets": {},
       "aggData": [],
       "aggError": "",
       "aggOverflow": false,
       "aggSchema": [],
       "aggSeriesLimitReached": false,
       "aggType": "",
       "arguments": {},
       "columnCustomDisplayInfos": {},
       "data": [
        [
         "北海道",
         "日用品",
         326081837,
         53.71
        ],
        [
         "北海道",
         "食料品",
         280992334,
         46.29
        ],
        [
         "大阪",
         "日用品",
         422682469,
         50.39
        ],
        [
         "大阪",
         "食料品",
         416209866,
         49.61
        ],
        [
         "東京",
         "日用品",
         575235881,
         44.66
        ],
        [
         "東京",
         "食料品",
         712895081,
         55.34
        ],
        [
         "沖縄",
         "日用品",
         76011236,
         45.85
        ],
        [
         "沖縄",
         "食料品",
         89776030,
         54.15
        ],
        [
         "福岡",
         "日用品",
         133352848,
         48.06
        ],
        [
         "福岡",
         "食料品",
         144102139,
         51.94
        ]
       ],
       "datasetInfos": [
        {
         "name": "_sqldf",
         "schema": {
          "fields": [
           {
            "metadata": {
             "comment": "地域: 例) 東京, 大阪, 北海道"
            },
            "name": "region",
            "nullable": true,
            "type": "string"
           },
           {
            "metadata": {
             "comment": "カテゴリー: 例) 食料品, 日用品"
            },
            "name": "category",
            "nullable": true,
            "type": "string"
           },
           {
            "metadata": {},
            "name": "FLOOR(region_sales.total_sales)",
            "nullable": true,
            "type": "long"
           },
           {
            "metadata": {},
            "name": "sales_ratio",
            "nullable": true,
            "type": "double"
           }
          ],
          "type": "struct"
         },
         "tableIdentifier": null,
         "typeStr": "pyspark.sql.connect.dataframe.DataFrame"
        }
       ],
       "dbfsResultPath": null,
       "isJsonSchema": true,
       "metadata": {
        "createTempViewForImplicitDf": true,
        "dataframeName": "_sqldf",
        "executionCount": 27
       },
       "overflow": false,
       "plotOptions": {
        "customPlotOptions": {},
        "displayType": "table",
        "pivotAggregation": null,
        "pivotColumns": null,
        "xColumns": null,
        "yColumns": null
       },
       "removedWidgets": [],
       "schema": [
        {
         "metadata": "{\"comment\": \"\\u5730\\u57df: \\u4f8b) \\u6771\\u4eac, \\u5927\\u962a, \\u5317\\u6d77\\u9053\"}",
         "name": "region",
         "type": "\"string\""
        },
        {
         "metadata": "{\"comment\": \"\\u30ab\\u30c6\\u30b4\\u30ea\\u30fc: \\u4f8b) \\u98df\\u6599\\u54c1, \\u65e5\\u7528\\u54c1\"}",
         "name": "category",
         "type": "\"string\""
        },
        {
         "metadata": "{}",
         "name": "FLOOR(region_sales.total_sales)",
         "type": "\"long\""
        },
        {
         "metadata": "{}",
         "name": "sales_ratio",
         "type": "\"double\""
        }
       ],
       "type": "table"
      }
     },
     "output_type": "display_data"
    }
   ],
   "source": [
    "%sql\n",
    "WITH region_sales AS (\n",
    "  SELECT\n",
    "    u.region,\n",
    "    p.category,\n",
    "    SUM(t.transaction_price) AS total_sales\n",
    "  FROM\n",
    "    transactions t\n",
    "  JOIN\n",
    "    users u ON t.user_id = u.user_id\n",
    "  JOIN\n",
    "    products p ON t.product_id = p.product_id\n",
    "  WHERE\n",
    "    t.transaction_price IS NOT NULL\n",
    "    AND u.region IS NOT NULL\n",
    "  GROUP BY\n",
    "    u.region,\n",
    "    p.category\n",
    "),\n",
    "total_region_sales AS (\n",
    "  SELECT\n",
    "    region,\n",
    "    SUM(total_sales) AS region_total_sales\n",
    "  FROM\n",
    "    region_sales\n",
    "  GROUP BY\n",
    "    region\n",
    ")\n",
    "SELECT\n",
    "  region_sales.region,\n",
    "  region_sales.category,\n",
    "  FLOOR(region_sales.total_sales),\n",
    "  ROUND((region_sales.total_sales / total_region_sales.region_total_sales) * 100, 2) AS sales_ratio\n",
    "FROM\n",
    "  region_sales JOIN total_region_sales ON region_sales.region = total_region_sales.region\n",
    "ORDER BY\n",
    "  region_sales.region,\n",
    "  region_sales.category;"
   ]
  },
  {
   "cell_type": "code",
   "execution_count": 0,
   "metadata": {
    "application/vnd.databricks.v1+cell": {
     "cellMetadata": {
      "byteLimit": 2048000,
      "implicitDf": true,
      "rowLimit": 10000
     },
     "inputWidgets": {},
     "nuid": "4360fe81-c493-42ff-b626-56658d2cb20f",
     "showTitle": true,
     "tableResultSettingsMap": {},
     "title": "性別ごとの商品カテゴリの売上高と売上比率を計算"
    }
   },
   "outputs": [
    {
     "output_type": "display_data",
     "data": {
      "text/html": [
       "<style scoped>\n",
       "  .table-result-container {\n",
       "    max-height: 300px;\n",
       "    overflow: auto;\n",
       "  }\n",
       "  table, th, td {\n",
       "    border: 1px solid black;\n",
       "    border-collapse: collapse;\n",
       "  }\n",
       "  th, td {\n",
       "    padding: 5px;\n",
       "  }\n",
       "  th {\n",
       "    text-align: left;\n",
       "  }\n",
       "</style><div class='table-result-container'><table class='table-result'><thead style='background-color: white'><tr><th>gender</th><th>category</th><th>FLOOR(gender_sales.total_sales)</th><th>sales_ratio</th></tr></thead><tbody><tr><td>その他</td><td>日用品</td><td>26752046</td><td>47.39</td></tr><tr><td>その他</td><td>食料品</td><td>29700489</td><td>52.61</td></tr><tr><td>女性</td><td>日用品</td><td>830584031</td><td>49.95</td></tr><tr><td>女性</td><td>食料品</td><td>832240247</td><td>50.05</td></tr><tr><td>未回答</td><td>日用品</td><td>42612800</td><td>49.04</td></tr><tr><td>未回答</td><td>食料品</td><td>44285623</td><td>50.96</td></tr><tr><td>男性</td><td>日用品</td><td>633415395</td><td>46.2</td></tr><tr><td>男性</td><td>食料品</td><td>737749092</td><td>53.8</td></tr></tbody></table></div>"
      ]
     },
     "metadata": {
      "application/vnd.databricks.v1+output": {
       "addedWidgets": {},
       "aggData": [],
       "aggError": "",
       "aggOverflow": false,
       "aggSchema": [],
       "aggSeriesLimitReached": false,
       "aggType": "",
       "arguments": {},
       "columnCustomDisplayInfos": {},
       "data": [
        [
         "その他",
         "日用品",
         26752046,
         47.39
        ],
        [
         "その他",
         "食料品",
         29700489,
         52.61
        ],
        [
         "女性",
         "日用品",
         830584031,
         49.95
        ],
        [
         "女性",
         "食料品",
         832240247,
         50.05
        ],
        [
         "未回答",
         "日用品",
         42612800,
         49.04
        ],
        [
         "未回答",
         "食料品",
         44285623,
         50.96
        ],
        [
         "男性",
         "日用品",
         633415395,
         46.2
        ],
        [
         "男性",
         "食料品",
         737749092,
         53.8
        ]
       ],
       "datasetInfos": [
        {
         "name": "_sqldf",
         "schema": {
          "fields": [
           {
            "metadata": {
             "comment": "性別: 例) 男性, 女性, 未回答, その他"
            },
            "name": "gender",
            "nullable": true,
            "type": "string"
           },
           {
            "metadata": {
             "comment": "カテゴリー: 例) 食料品, 日用品"
            },
            "name": "category",
            "nullable": true,
            "type": "string"
           },
           {
            "metadata": {},
            "name": "FLOOR(gender_sales.total_sales)",
            "nullable": true,
            "type": "long"
           },
           {
            "metadata": {},
            "name": "sales_ratio",
            "nullable": true,
            "type": "double"
           }
          ],
          "type": "struct"
         },
         "tableIdentifier": null,
         "typeStr": "pyspark.sql.connect.dataframe.DataFrame"
        }
       ],
       "dbfsResultPath": null,
       "isJsonSchema": true,
       "metadata": {
        "createTempViewForImplicitDf": true,
        "dataframeName": "_sqldf",
        "executionCount": 28
       },
       "overflow": false,
       "plotOptions": {
        "customPlotOptions": {},
        "displayType": "table",
        "pivotAggregation": null,
        "pivotColumns": null,
        "xColumns": null,
        "yColumns": null
       },
       "removedWidgets": [],
       "schema": [
        {
         "metadata": "{\"comment\": \"\\u6027\\u5225: \\u4f8b) \\u7537\\u6027, \\u5973\\u6027, \\u672a\\u56de\\u7b54, \\u305d\\u306e\\u4ed6\"}",
         "name": "gender",
         "type": "\"string\""
        },
        {
         "metadata": "{\"comment\": \"\\u30ab\\u30c6\\u30b4\\u30ea\\u30fc: \\u4f8b) \\u98df\\u6599\\u54c1, \\u65e5\\u7528\\u54c1\"}",
         "name": "category",
         "type": "\"string\""
        },
        {
         "metadata": "{}",
         "name": "FLOOR(gender_sales.total_sales)",
         "type": "\"long\""
        },
        {
         "metadata": "{}",
         "name": "sales_ratio",
         "type": "\"double\""
        }
       ],
       "type": "table"
      }
     },
     "output_type": "display_data"
    }
   ],
   "source": [
    "%sql\n",
    "WITH gender_sales AS (\n",
    "  SELECT\n",
    "    u.gender,\n",
    "    p.category,\n",
    "    SUM(t.transaction_price) AS total_sales\n",
    "  FROM\n",
    "    transactions t\n",
    "  JOIN\n",
    "    users u ON t.user_id = u.user_id\n",
    "  JOIN\n",
    "    products p ON t.product_id = p.product_id\n",
    "  WHERE\n",
    "    t.transaction_price IS NOT NULL\n",
    "    AND u.gender IS NOT NULL\n",
    "  GROUP BY\n",
    "    u.gender,\n",
    "    p.category\n",
    "),\n",
    "total_gender_sales AS (\n",
    "  SELECT\n",
    "    gender,\n",
    "    SUM(total_sales) AS gender_total_sales\n",
    "  FROM\n",
    "    gender_sales\n",
    "  GROUP BY\n",
    "    gender\n",
    ")\n",
    "SELECT\n",
    "  gender_sales.gender,\n",
    "  gender_sales.category,\n",
    "  FLOOR(gender_sales.total_sales),\n",
    "  ROUND((gender_sales.total_sales / total_gender_sales.gender_total_sales) * 100, 2) AS sales_ratio\n",
    "FROM\n",
    "  gender_sales\n",
    "JOIN\n",
    "  total_gender_sales ON gender_sales.gender = total_gender_sales.gender\n",
    "ORDER BY\n",
    "  gender_sales.gender,\n",
    "  gender_sales.category;"
   ]
  },
  {
   "cell_type": "code",
   "execution_count": 0,
   "metadata": {
    "application/vnd.databricks.v1+cell": {
     "cellMetadata": {
      "byteLimit": 2048000,
      "implicitDf": true,
      "rowLimit": 10000
     },
     "inputWidgets": {},
     "nuid": "efef0acc-e343-4dae-9685-cda0ca3f2323",
     "showTitle": true,
     "tableResultSettingsMap": {},
     "title": "年齢層ごとの商品カテゴリの売上高と売上比率を計算"
    }
   },
   "outputs": [
    {
     "output_type": "display_data",
     "data": {
      "text/html": [
       "<style scoped>\n",
       "  .table-result-container {\n",
       "    max-height: 300px;\n",
       "    overflow: auto;\n",
       "  }\n",
       "  table, th, td {\n",
       "    border: 1px solid black;\n",
       "    border-collapse: collapse;\n",
       "  }\n",
       "  th, td {\n",
       "    padding: 5px;\n",
       "  }\n",
       "  th {\n",
       "    text-align: left;\n",
       "  }\n",
       "</style><div class='table-result-container'><table class='table-result'><thead style='background-color: white'><tr><th>age_group</th><th>category</th><th>FLOOR(age_group_sales.total_sales)</th><th>sales_ratio</th></tr></thead><tbody><tr><td>シニア層</td><td>日用品</td><td>598947129</td><td>49.32</td></tr><tr><td>シニア層</td><td>食料品</td><td>615474520</td><td>50.68</td></tr><tr><td>中年層</td><td>日用品</td><td>483321995</td><td>47.12</td></tr><tr><td>中年層</td><td>食料品</td><td>542368117</td><td>52.88</td></tr><tr><td>若年層</td><td>日用品</td><td>451095147</td><td>48.13</td></tr><tr><td>若年層</td><td>食料品</td><td>486132815</td><td>51.87</td></tr></tbody></table></div>"
      ]
     },
     "metadata": {
      "application/vnd.databricks.v1+output": {
       "addedWidgets": {},
       "aggData": [],
       "aggError": "",
       "aggOverflow": false,
       "aggSchema": [],
       "aggSeriesLimitReached": false,
       "aggType": "",
       "arguments": {},
       "columnCustomDisplayInfos": {},
       "data": [
        [
         "シニア層",
         "日用品",
         598947129,
         49.32
        ],
        [
         "シニア層",
         "食料品",
         615474520,
         50.68
        ],
        [
         "中年層",
         "日用品",
         483321995,
         47.12
        ],
        [
         "中年層",
         "食料品",
         542368117,
         52.88
        ],
        [
         "若年層",
         "日用品",
         451095147,
         48.13
        ],
        [
         "若年層",
         "食料品",
         486132815,
         51.87
        ]
       ],
       "datasetInfos": [
        {
         "name": "_sqldf",
         "schema": {
          "fields": [
           {
            "metadata": {
             "comment": "年齢層: 若年層, 中年層, シニア層\n\n- 若年層: 35歳未満\n- 中年層: 35歳以上55歳未満\n- シニア層: 55歳以上"
            },
            "name": "age_group",
            "nullable": true,
            "type": "string"
           },
           {
            "metadata": {
             "comment": "カテゴリー: 例) 食料品, 日用品"
            },
            "name": "category",
            "nullable": true,
            "type": "string"
           },
           {
            "metadata": {},
            "name": "FLOOR(age_group_sales.total_sales)",
            "nullable": true,
            "type": "long"
           },
           {
            "metadata": {},
            "name": "sales_ratio",
            "nullable": true,
            "type": "double"
           }
          ],
          "type": "struct"
         },
         "tableIdentifier": null,
         "typeStr": "pyspark.sql.connect.dataframe.DataFrame"
        }
       ],
       "dbfsResultPath": null,
       "isJsonSchema": true,
       "metadata": {
        "createTempViewForImplicitDf": true,
        "dataframeName": "_sqldf",
        "executionCount": 29
       },
       "overflow": false,
       "plotOptions": {
        "customPlotOptions": {},
        "displayType": "table",
        "pivotAggregation": null,
        "pivotColumns": null,
        "xColumns": null,
        "yColumns": null
       },
       "removedWidgets": [],
       "schema": [
        {
         "metadata": "{\"comment\": \"\\u5e74\\u9f62\\u5c64: \\u82e5\\u5e74\\u5c64, \\u4e2d\\u5e74\\u5c64, \\u30b7\\u30cb\\u30a2\\u5c64\\n\\n- \\u82e5\\u5e74\\u5c64: 35\\u6b73\\u672a\\u6e80\\n- \\u4e2d\\u5e74\\u5c64: 35\\u6b73\\u4ee5\\u4e0a55\\u6b73\\u672a\\u6e80\\n- \\u30b7\\u30cb\\u30a2\\u5c64: 55\\u6b73\\u4ee5\\u4e0a\"}",
         "name": "age_group",
         "type": "\"string\""
        },
        {
         "metadata": "{\"comment\": \"\\u30ab\\u30c6\\u30b4\\u30ea\\u30fc: \\u4f8b) \\u98df\\u6599\\u54c1, \\u65e5\\u7528\\u54c1\"}",
         "name": "category",
         "type": "\"string\""
        },
        {
         "metadata": "{}",
         "name": "FLOOR(age_group_sales.total_sales)",
         "type": "\"long\""
        },
        {
         "metadata": "{}",
         "name": "sales_ratio",
         "type": "\"double\""
        }
       ],
       "type": "table"
      }
     },
     "output_type": "display_data"
    }
   ],
   "source": [
    "%sql\n",
    "WITH age_group_sales AS (\n",
    "  SELECT\n",
    "    gu.age_group,\n",
    "    p.category,\n",
    "    SUM(t.transaction_price) AS total_sales\n",
    "  FROM\n",
    "    transactions t\n",
    "  JOIN\n",
    "    gold_user gu ON t.user_id = gu.user_id\n",
    "  JOIN\n",
    "    products p ON t.product_id = p.product_id\n",
    "  WHERE\n",
    "    t.transaction_price IS NOT NULL\n",
    "    AND gu.age_group IS NOT NULL\n",
    "  GROUP BY\n",
    "    gu.age_group,\n",
    "    p.category\n",
    "),\n",
    "total_age_group_sales AS (\n",
    "  SELECT\n",
    "    age_group,\n",
    "    SUM(total_sales) AS age_group_total_sales\n",
    "  FROM\n",
    "    age_group_sales\n",
    "  GROUP BY\n",
    "    age_group\n",
    ")\n",
    "SELECT\n",
    "  age_group_sales.age_group,\n",
    "  age_group_sales.category,\n",
    "  FLOOR(age_group_sales.total_sales),\n",
    "  ROUND((age_group_sales.total_sales / total_age_group_sales.age_group_total_sales) * 100, 2) AS sales_ratio\n",
    "FROM\n",
    "  age_group_sales\n",
    "JOIN\n",
    "  total_age_group_sales ON age_group_sales.age_group = total_age_group_sales.age_group\n",
    "ORDER BY\n",
    "  age_group_sales.age_group,\n",
    "  age_group_sales.category;"
   ]
  },
  {
   "cell_type": "code",
   "execution_count": 0,
   "metadata": {
    "application/vnd.databricks.v1+cell": {
     "cellMetadata": {},
     "inputWidgets": {},
     "nuid": "73041916-2bf1-4ac5-a519-e347a9aa9d77",
     "showTitle": false,
     "tableResultSettingsMap": {},
     "title": ""
    }
   },
   "outputs": [],
   "source": []
  }
 ],
 "metadata": {
  "application/vnd.databricks.v1+notebook": {
   "computePreferences": null,
   "dashboards": [],
   "environmentMetadata": null,
   "inputWidgetPreferences": null,
   "language": "python",
   "notebookMetadata": {
    "mostRecentlyExecutedCommandWithImplicitDF": {
     "commandId": 7540798299253558,
     "dataframes": [
      "_sqldf"
     ]
    },
    "pythonIndentUnit": 4
   },
   "notebookName": "01_create_aibi_demo_data_bricksmart",
   "widgets": {
    "catalog": {
     "currentValue": "aibi_demo_catalog",
     "nuid": "2a43ea5b-79a1-4601-a2a4-ed42d15265e8",
     "typedWidgetInfo": {
      "autoCreated": false,
      "defaultValue": "aibi_demo_catalog",
      "label": "カタログ",
      "name": "catalog",
      "options": {
       "widgetDisplayType": "Text",
       "validationRegex": null
      },
      "parameterDataType": "String"
     },
     "widgetInfo": {
      "widgetType": "text",
      "defaultValue": "aibi_demo_catalog",
      "label": "カタログ",
      "name": "catalog",
      "options": {
       "widgetType": "text",
       "autoCreated": null,
       "validationRegex": null
      }
     }
    },
    "recreate_catalog": {
     "currentValue": "False",
     "nuid": "3152ee06-e48f-45b0-9217-93c384811eb7",
     "typedWidgetInfo": {
      "autoCreated": false,
      "defaultValue": "False",
      "label": "カタログを再作成",
      "name": "recreate_catalog",
      "options": {
       "widgetDisplayType": "Dropdown",
       "choices": [
        "True",
        "False"
       ],
       "fixedDomain": true,
       "multiselect": false
      },
      "parameterDataType": "String"
     },
     "widgetInfo": {
      "widgetType": "dropdown",
      "defaultValue": "False",
      "label": "カタログを再作成",
      "name": "recreate_catalog",
      "options": {
       "widgetType": "dropdown",
       "autoCreated": null,
       "choices": [
        "True",
        "False"
       ]
      }
     }
    },
    "recreate_schema": {
     "currentValue": "False",
     "nuid": "3a58ee9b-0f0b-438b-ab66-05aa7f1db6a1",
     "typedWidgetInfo": {
      "autoCreated": false,
      "defaultValue": "False",
      "label": "スキーマを再作成",
      "name": "recreate_schema",
      "options": {
       "widgetDisplayType": "Dropdown",
       "choices": [
        "True",
        "False"
       ],
       "fixedDomain": true,
       "multiselect": false
      },
      "parameterDataType": "String"
     },
     "widgetInfo": {
      "widgetType": "dropdown",
      "defaultValue": "False",
      "label": "スキーマを再作成",
      "name": "recreate_schema",
      "options": {
       "widgetType": "dropdown",
       "autoCreated": null,
       "choices": [
        "True",
        "False"
       ]
      }
     }
    },
    "recreate_volume": {
     "currentValue": "False",
     "nuid": "742d9244-5a50-4bae-96ca-e875a7cc7c39",
     "typedWidgetInfo": {
      "autoCreated": false,
      "defaultValue": "False",
      "label": "ボリュームを再作成",
      "name": "recreate_volume",
      "options": {
       "widgetDisplayType": "Dropdown",
       "choices": [
        "True",
        "False"
       ],
       "fixedDomain": true,
       "multiselect": false
      },
      "parameterDataType": "String"
     },
     "widgetInfo": {
      "widgetType": "dropdown",
      "defaultValue": "False",
      "label": "ボリュームを再作成",
      "name": "recreate_volume",
      "options": {
       "widgetType": "dropdown",
       "autoCreated": null,
       "choices": [
        "True",
        "False"
       ]
      }
     }
    },
    "schema": {
     "currentValue": "bricksmart",
     "nuid": "9f56ebb5-92dc-4a49-97f4-9b1c0ddfe440",
     "typedWidgetInfo": {
      "autoCreated": false,
      "defaultValue": "bricksmart",
      "label": "スキーマ",
      "name": "schema",
      "options": {
       "widgetDisplayType": "Text",
       "validationRegex": null
      },
      "parameterDataType": "String"
     },
     "widgetInfo": {
      "widgetType": "text",
      "defaultValue": "bricksmart",
      "label": "スキーマ",
      "name": "schema",
      "options": {
       "widgetType": "text",
       "autoCreated": null,
       "validationRegex": null
      }
     }
    },
    "volume": {
     "currentValue": "csv",
     "nuid": "1c6df1ce-f213-4895-b5fc-7cb4142a3ff2",
     "typedWidgetInfo": {
      "autoCreated": false,
      "defaultValue": "csv",
      "label": "ボリューム",
      "name": "volume",
      "options": {
       "widgetDisplayType": "Text",
       "validationRegex": null
      },
      "parameterDataType": "String"
     },
     "widgetInfo": {
      "widgetType": "text",
      "defaultValue": "csv",
      "label": "ボリューム",
      "name": "volume",
      "options": {
       "widgetType": "text",
       "autoCreated": null,
       "validationRegex": null
      }
     }
    }
   }
  },
  "language_info": {
   "name": "python"
  }
 },
 "nbformat": 4,
 "nbformat_minor": 0
}